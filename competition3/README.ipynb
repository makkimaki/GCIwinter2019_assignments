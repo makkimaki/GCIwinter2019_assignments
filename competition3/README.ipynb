{
 "cells": [
  {
   "cell_type": "markdown",
   "metadata": {},
   "source": [
    "# 第3回データ分析コンペティション ： PUBG Finish Placement Prediction"
   ]
  },
  {
   "cell_type": "markdown",
   "metadata": {},
   "source": [
    "## 背景\n",
    "\n",
    "今回はPUBG(Player Unknown's Battle Ground) (http://pubg.com/) データセットを扱います。PUBGとは、戦場に降り立った100人のプレイヤーが敵を倒し、最後の1人になるまで戦うというバトルロワイヤルゲームです。最後の1人になるためには、戦場を探索して強いアイテムを入手したり、積極的に敵を攻撃したり、敵に見つからないように隠れたり、というように様々な戦略が考えられます。今回は対戦データを分析することで最適な戦略を見つけることが目標です。\n",
    "\n",
    "このデータセットはKaggleで実際に行われたPUBGコンペ (https://www.kaggle.com/c/pubg-finish-placement-prediction) のものを利用しています。評価指標などもこのコンペのものを参考にしています。\n",
    "\n",
    "第3回コンペでは最終的な予測のスコアが基準値以上であることが求められます。とはいえ、データ分析および機械学習の基本を理解していればそれほど厳しいものではありません。講義資料や第1回コンペの資料を参考にしながら取り組んでみると良いでしょう。"
   ]
  },
  {
   "cell_type": "markdown",
   "metadata": {},
   "source": [
    "## 目標\n",
    "\n",
    "PUBGデータセットに含まれる対戦データから、プレイヤーの勝率を予測してください。なお、予測値は0.0から1.0の実数値とします。"
   ]
  },
  {
   "cell_type": "markdown",
   "metadata": {},
   "source": [
    "## データ\n",
    "\n",
    "訓練データセットに含まれるカラムを以下に示します。(テストデータセットにはwinPlacePercカラムは含まれません。)\n",
    "\n",
    "| カラム名 | 説明 |\n",
    "| - | - |\n",
    "| Id | プレイヤーのID |\n",
    "| groupId | チームのID |\n",
    "| matchId | 対戦のID |\n",
    "| assists | プレイヤーがアシストしてチームで倒した敵の人数 |\n",
    "| boosts | ブーストアイテムを使用した回数 |\n",
    "| damageDealt | 受けたダメージ(ただし自爆を除く) |\n",
    "| DBNOs | 攻撃した敵の人数 |\n",
    "| headshotKills | ヘッドショットで倒した敵の人数 |\n",
    "| heals | 回復アイテムを使用した回数 |\n",
    "| killPlace | その対戦において倒した敵の人数に関する順位 |\n",
    "| killPoints | (killに関する)イロレーティング |\n",
    "| kills | 倒した敵の人数 |\n",
    "| killStreaks | 短時間に倒した敵の人数の最大値 |\n",
    "| longestKill | 倒したプレイヤーと倒されたプレイヤーの距離の最大値 |\n",
    "| matchDuration | 対戦時間 |\n",
    "| matchType | 対戦モード |\n",
    "| numGroups | チーム数 |\n",
    "| rankPoints | イロレーティング |\n",
    "| revives | チームメイトを復活させた回数 |\n",
    "| rideDistance | 車で移動した距離の合計 |\n",
    "| roadKills | 車に乗っている間に倒した敵の人数 |\n",
    "| swimDistance | 泳いで移動した距離の合計 |\n",
    "| teamKills | チームメイトを倒した回数 |\n",
    "| vehicleDestroys | 車が破壊された数 |\n",
    "| walkDistance | 歩いて移動した距離 |\n",
    "| weaponsAcquired | ひろった武器の数 |\n",
    "| winPoints | (winに関する)イロレーティング |\n",
    "| winPlacePerc | 順位の割合(1: 1位, 0: 最下位) |"
   ]
  },
  {
   "cell_type": "markdown",
   "metadata": {},
   "source": [
    "## 評価指標\n",
    "\n",
    "今回は予測データと正解データの平均絶対誤差(Mean Absolute Error; MAE)を評価指標とします。正解データを$y_1, \\dots, y_n$、対応する予測データを$\\hat{y}_1, \\dots, \\hat{y}_n$とすると、MAEは次の式で表されます。\n",
    "\n",
    "\\begin{eqnarray*}\n",
    "\\text{MAE} = \\frac{1}{n}\\sum_{i=1}^n | y_i - \\hat{y}_i |\n",
    "\\end{eqnarray*}\n",
    "\n",
    "このMAEが小さいほど予測の精度が高い、ということになります。\n",
    "\n",
    "MAEを計算する関数を自分で定義しても良いですが、scikit-learnで実装されているもの(sklearn.metrics.mean_absolute_error)を利用することもできます。"
   ]
  },
  {
   "cell_type": "markdown",
   "metadata": {},
   "source": [
    "## 提出\n",
    "\n",
    "予測はiLect上で提出してください。提出するデータの形式は以下のようなCSVファイルとなります。\n",
    "\n",
    "> winPlacePerc\n",
    "> 1.000  \n",
    "> 1.000  \n",
    "> 1.000  \n",
    "> ...\n",
    "\n",
    "submission.csvが正しいデータ形式になっているので、それを参考にしてください。もし提出されたデータがこの形式に従っていなかった場合、スコアが999になります。\n",
    "\n",
    "提出回数は無制限ですが、採点は1日3回、以下の時間に行われます。\n",
    "\n",
    "- 12:00\n",
    "- 18:00\n",
    "- 24:00(0:00)\n"
   ]
  },
  {
   "cell_type": "markdown",
   "metadata": {},
   "source": [
    "## タイムライン\n",
    "\n",
    "- 開始日： 2020年2月5日 (水)講義終了後\n",
    "- 終了日： 2020年2月26日 (火) 23:59:59\n",
    "- 順位発表： 2020年2月27日 (水)"
   ]
  },
  {
   "cell_type": "markdown",
   "metadata": {},
   "source": [
    "## ルール\n",
    "\n",
    "- **外部データ使用の禁止**  \n",
    "　データ分析においては、EDA（**beginner.ipynb**にて簡単に用語解説しています）やモデルの学習など全ての段階において外部データを使用しないでください。つまり今回のコンペティションでは、input/train.csvおよびinput/test.csvのみを使用して、データ分析に取り組んでください。  \n",
    "\n",
    "- **Hand-Labelingの禁止**  \n",
    "　モデルによってではなく手作業で予測を作成することは**Hand-Labeling**と呼ばれ、ほとんどのデータ分析コンペティションでは禁止されています。今回のコンペティションでもこのルールを採用し、全てあるいは一部のテストデータに対してHand-Labelingをすることを禁止します。予測は訓練データやテストデータ以外のデータに対しても適用可能なモデルによって自動で為されるようにしてください。\n",
    "\n",
    "- **再現性の確保**  \n",
    "　可能な限り予測の再現性を確保してください。再現性を保つためには、**乱数生成においてシード値を指定すること**が必要条件です。入門者はbeginner.ipynbやprofessional.ipynbで作成したモデルのどの部分で乱数が用いられていてシード値が指定されているのか探してみましょう。用いられている機械学習ライブラリscikit-learnでは、一般的に乱数生成のシード値はrandom_stateという引数やアトリビュートで指定することとされています。\n",
    "\n",
    "- **Private Sharingの禁止**  \n",
    "　データ分析コンペティションでは一般的に、公平性の観点から個人的な情報共有は厳しく規制されています。多くの場合、チームの結成を規定の方法で宣言した場合のみチーム内での情報共有が許可されます。チーム外の個人的な情報共有は**Private Sharing**と呼ばれ、固く禁じられています。今回のコンペティションでも同様にPrivate Sharingは禁止いたします。"
   ]
  },
  {
   "cell_type": "code",
   "execution_count": null,
   "metadata": {},
   "outputs": [],
   "source": []
  }
 ],
 "metadata": {
  "kernelspec": {
   "display_name": "Python 3",
   "language": "python",
   "name": "python3"
  },
  "language_info": {
   "codemirror_mode": {
    "name": "ipython",
    "version": 3
   },
   "file_extension": ".py",
   "mimetype": "text/x-python",
   "name": "python",
   "nbconvert_exporter": "python",
   "pygments_lexer": "ipython3",
   "version": "3.6.9"
  }
 },
 "nbformat": 4,
 "nbformat_minor": 4
}
