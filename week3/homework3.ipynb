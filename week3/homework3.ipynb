{
 "cells": [
  {
   "cell_type": "markdown",
   "metadata": {},
   "source": [
    "# 課題（ilect上で提出してください）"
   ]
  },
  {
   "cell_type": "markdown",
   "metadata": {},
   "source": [
    "## Matplotlibを使ったデータ可視化"
   ]
  },
  {
   "cell_type": "markdown",
   "metadata": {},
   "source": [
    "下記の「#common」で始まるセルの中で指定されたリンク先にある購買データをベースに以下の問いに答えて、課題を提出してください。（データの前処理は、以下の記載の通りに行ってください。）\n",
    "    \n",
    "購買者（CustomerID）の各合計購買金額を算出し、さらに金額をベースに降順に並び替えをします。カラムがCustomerIDと合計金額のあるテーブルを作成してください。そこから、購買者を10等分にグループ分けします（例：100人いたら、10人ずつにグループ分けします。）。それぞれのグループでの合計購買金額の範囲と、それぞれの金額合計値を算出してください（このアプローチをデシル分析といいます。）。この結果を用いて、パレートの法則（上位2割の顧客が売上全体の8割を占める）を確かめるため、**それぞれのグループが売上の何割を占めるか（Pandas.Series形式で売上が小さいグループが先頭、大きいほど後になるようにしてください）**提出してください。\n",
    "(なお、マーケティング戦略では、このように顧客を分けることをセグメンテーションといい、上位2割に絞ってアプローチを仕掛けることをターゲティングといいます。それぞれの戦略によりますが、優良顧客に的を絞った方が投資対効果が高いことが多いため、このようなアプローチを取ることがあります。)\n",
    "\n",
    "提出するときは、以下の点に注意してください。  \n",
    ">- 以下の関数homeworkの!!WRITE ME!!に処理を書いてください。(**「!!WRITE ME!!」は消して、記入してください。**)\n",
    ">- 実際の提出は記述されたhomework関数全てになり、**提出場所はilect右上にある青字のHomeworkドロップダウンメニューからSaveしてください。Solutionに関数を貼り付けてからSaveを押してください。**\n",
    ">- 前処理は以下のコードを使ってください。  \n",
    ">- 返り値がPandas.Series形式になるようにしてください。  \n",
    ">- 解答は、my_result=pd.Series([0,0.01,0.02,0.021,0.022,0.025,0.025,0.1,0.2,0.6]) のような形になります。(売上割合は昇順にして、合計は1になるようにします。)"
   ]
  },
  {
   "cell_type": "code",
   "execution_count": null,
   "metadata": {},
   "outputs": [],
   "source": [
    "# common\n",
    "import pandas as pd\n",
    "import numpy as np\n",
    "\n",
    "## init part(データの読み込みと前処理)\n",
    "file_url = \"http://archive.ics.uci.edu/ml/machine-learning-databases/00352/Online%20Retail.xlsx\"\n",
    "online_retail_data = pd.ExcelFile(file_url)\n",
    "online_retail_data_table = online_retail_data.parse('Online Retail')\n",
    "\n",
    "online_retail_data_table['cancel_flg'] = online_retail_data_table.InvoiceNo.map(lambda x:str(x)[0])\n",
    "\n",
    "# InvoiceNoの先頭が5であるものとIDがNullでないものが対象\n",
    "target_online_retail_data_tb = online_retail_data_table[(online_retail_data_table.cancel_flg == '5') \n",
    "                                                        & (online_retail_data_table.CustomerID.notnull())]\n",
    "\n",
    "target_online_retail_data_tb = target_online_retail_data_tb.assign(TotalPrice=target_online_retail_data_tb.Quantity * target_online_retail_data_tb.UnitPrice)"
   ]
  },
  {
   "cell_type": "code",
   "execution_count": null,
   "metadata": {},
   "outputs": [],
   "source": [
    "target_online_retail_data_tb"
   ]
  },
  {
   "cell_type": "code",
   "execution_count": null,
   "metadata": {},
   "outputs": [],
   "source": [
    "df0 = target_online_retail_data_tb.groupby(\"CustomerID\")[\"TotalPrice\"].sum()\n",
    "df = pd.DataFrame(df0)\n",
    "df_sorted = df.sort_values(\"TotalPrice\", ascending=False)\n",
    "df_sorted"
   ]
  },
  {
   "cell_type": "code",
   "execution_count": null,
   "metadata": {},
   "outputs": [],
   "source": [
    "# group_name = [\"1st\", \"2nd\", \"3rd\", \"4th\", \"5th\", \"6th\", \"7th\", \"8th\", \"9th\", \"10th\"]\n",
    "df_group10 = pd.qcut(df_sorted[\"TotalPrice\"], 10, labels=False)\n",
    "df_group10"
   ]
  },
  {
   "cell_type": "code",
   "execution_count": null,
   "metadata": {},
   "outputs": [],
   "source": [
    "df_group10_sum = df_sorted.groupby(df_group10)[\"TotalPrice\"].sum()\n",
    "df_group10_sum"
   ]
  },
  {
   "cell_type": "code",
   "execution_count": null,
   "metadata": {},
   "outputs": [],
   "source": [
    "# Group_TotalPrice = list(df_group10_sum)\n",
    "df_last = df_group10_sum.values.reshape(-1,)\n",
    "my_result_tb = pd.Series(df_last) / df_last.sum()"
   ]
  },
  {
   "cell_type": "code",
   "execution_count": null,
   "metadata": {},
   "outputs": [],
   "source": [
    "my_result_tb"
   ]
  },
  {
   "cell_type": "code",
   "execution_count": null,
   "metadata": {},
   "outputs": [],
   "source": [
    "# working place. everything \n",
    "def homework(target_online_retail_data_tb):\n",
    "    df0 = target_online_retail_data_tb.groupby(\"CustomerID\")[\"TotalPrice\"].sum()\n",
    "    df = pd.DataFrame(df0)\n",
    "    df_sorted = df.sort_values(\"TotalPrice\", ascending=False)\n",
    "    df_group10 = pd.qcut(df_sorted[\"TotalPrice\"], 10, labels=False)\n",
    "    df_group10_sum = df_sorted.groupby(df_group10)[\"TotalPrice\"].sum()\n",
    "    df_last = df_group10_sum.values.reshape(-1,)\n",
    "    my_result = pd.Series(df_last) / df_last.sum()\n",
    "\n",
    "    return my_result  "
   ]
  },
  {
   "cell_type": "code",
   "execution_count": null,
   "metadata": {},
   "outputs": [],
   "source": [
    "print(type(homework(target_online_retail_data_tb)))"
   ]
  },
  {
   "cell_type": "code",
   "execution_count": null,
   "metadata": {},
   "outputs": [],
   "source": [
    "homework(target_online_retail_data_tb)"
   ]
  },
  {
   "cell_type": "code",
   "execution_count": null,
   "metadata": {},
   "outputs": [],
   "source": []
  }
 ],
 "metadata": {
  "anaconda-cloud": {},
  "kernelspec": {
   "display_name": "Python 3",
   "language": "python",
   "name": "python3"
  },
  "language_info": {
   "codemirror_mode": {
    "name": "ipython",
    "version": 3
   },
   "file_extension": ".py",
   "mimetype": "text/x-python",
   "name": "python",
   "nbconvert_exporter": "python",
   "pygments_lexer": "ipython3",
   "version": "3.7.3"
  }
 },
 "nbformat": 4,
 "nbformat_minor": 4
}
