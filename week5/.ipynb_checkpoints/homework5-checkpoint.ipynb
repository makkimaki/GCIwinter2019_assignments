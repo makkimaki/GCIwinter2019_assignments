{
 "cells": [
  {
   "cell_type": "markdown",
   "metadata": {},
   "source": [
    "# 課題（iLect上で提出してください）"
   ]
  },
  {
   "cell_type": "markdown",
   "metadata": {},
   "source": [
    "## 機械学習の基礎（教師あり学習）¶"
   ]
  },
  {
   "cell_type": "markdown",
   "metadata": {},
   "source": [
    "分析対象データとして、sklearnのdatasetsからload_iris(アヤメの花)を読み込んで、目的変数をiris.target、説明変数をiris.dataとして、決定木、ロジスティック回帰分析とk-NN(k=6で固定）、SVMのモデルを使って、予測と検証（学習データと検証データに分けます）を実施してください。これらの中で、一番正解率が高いモデルは何でしょうか。"
   ]
  },
  {
   "cell_type": "markdown",
   "metadata": {},
   "source": [
    "提出するときは、以下の点に注意してください。  \n",
    ">- 以下の関数homeworkの!!WRITE ME!!に処理を書いてください。(**「!!WRITE ME!!」は消して、記入してください。**)\n",
    ">- 実際の提出は記述されたhomework関数全てになり、**提出場所はilect右上にある青字のHomeworkドロップダウンメニューからHomework 5を選んでください。Solutionに関数を貼り付けてからSaveを押してください。**  \n",
    ">- 前処理は以下のコードを使って、これを引数としてください。今回は特に標準化等は実施していません。    \n",
    ">- 学習データと検証データの分け方に違いが生じないように、 train_test_splitのrandom_stateは0にしています。  \n",
    ">- 返り値は一番正解率が高いモデル名として、文字型にしてください。returnされる値は一つになるようにしてください。なお、モデル名ですが、model.\\_\\_class\\_\\_.\\_\\_name\\_\\_とすれば取得できます。  \n",
    "(例)DecisionTreeClassifier　（返り値）"
   ]
  },
  {
   "cell_type": "code",
   "execution_count": null,
   "metadata": {
    "jupyter": {
     "outputs_hidden": false
    }
   },
   "outputs": [],
   "source": [
    "# common\n",
    "# ロジスティック回帰\n",
    "from sklearn.linear_model import LogisticRegression\n",
    "# SVM\n",
    "from sklearn.svm import LinearSVC\n",
    "# 決定木\n",
    "from sklearn.tree import  DecisionTreeClassifier\n",
    "# k-NN\n",
    "from sklearn.neighbors import  KNeighborsClassifier\n",
    "\n",
    "# データ分割\n",
    "from sklearn.model_selection import train_test_split\n",
    "\n",
    "#分析対象データ\n",
    "from sklearn.datasets import load_iris\n",
    "\n",
    "# data\n",
    "iris = load_iris()\n",
    "X_train, X_test, y_train, y_test = train_test_split(\n",
    "    iris.data, iris.target, stratify = iris.target, random_state=0)\n",
    "\n",
    "# initial value\n",
    "best_score = 0\n",
    "best_method = \"\""
   ]
  },
  {
   "cell_type": "code",
   "execution_count": null,
   "metadata": {
    "jupyter": {
     "outputs_hidden": false
    }
   },
   "outputs": [],
   "source": [
    "# working place. everything \n",
    "def homework(X_train, X_test, y_train, y_test,best_score,best_method):\n",
    "    !!WRITE ME!!\n",
    "    return my_result"
   ]
  }
 ],
 "metadata": {
  "anaconda-cloud": {},
  "kernelspec": {
   "display_name": "Python 3",
   "language": "python",
   "name": "python3"
  },
  "language_info": {
   "codemirror_mode": {
    "name": "ipython",
    "version": 3
   },
   "file_extension": ".py",
   "mimetype": "text/x-python",
   "name": "python",
   "nbconvert_exporter": "python",
   "pygments_lexer": "ipython3",
   "version": "3.7.3"
  }
 },
 "nbformat": 4,
 "nbformat_minor": 4
}
