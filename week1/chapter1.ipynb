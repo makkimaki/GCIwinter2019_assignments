{
 "cells": [
  {
   "cell_type": "markdown",
   "metadata": {
    "colab_type": "text",
    "id": "jz-W5Nf-kPCE",
    "nbpresent": {
     "id": "af88da20-0f51-483e-bd72-afc896a9da05"
    }
   },
   "source": [
    "# 1 本講座の概要とPythonの基礎"
   ]
  },
  {
   "cell_type": "markdown",
   "metadata": {
    "colab_type": "text",
    "id": "7t3xqreckPCH"
   },
   "source": [
    "本講座では、全体を通じて、主にデータサイエンス（データ分析）について学んでいきます。まず最初は、データサイエンスとは具体的にどんなことをするのか、またそのためにはどんな知識が必要なのかを解説していきます。本講義を通して扱うことの概要や、読み方などを説明するので、全体像をつかんでください。後半では、Jupyter Notebookを使ってPythonの基礎を学んでいきます。\n",
    "\n",
    "ゴール：この講座の目的を理解する。データ分析の流れを抑え、習得しなければならないことを知る。Jupyter Notebookを使ってPythonの基礎的な実装ができる。"
   ]
  },
  {
   "cell_type": "markdown",
   "metadata": {
    "colab_type": "text",
    "id": "EPIDitYgkPCJ"
   },
   "source": [
    "- **[1.1 データサイエンティストの仕事](#1.1-データサイエンティストの仕事)**\n",
    "    - [1.1.1 データサイエンティストとは](#1.1.1-データサイエンティストとは)\n",
    "    - [1.1.2 データ分析のプロセス](#1.1.2-データ分析のプロセス)\n",
    "    - [1.1.3 本講座の構成](#1.1.3-本講座の構成)\n",
    "    - [1.1.4 本講座を進めていくのに役立つ文献](#1.1.4-本講座を進めていくのに役立つ文献)\n",
    "    - [1.1.5 手を動かして習得しよう](#1.1.5--手を動かして習得しよう)\n",
    "<br><br>\n",
    "- **[1.2 Pythonの基礎](#1.2-Pythonの基礎)** \n",
    "    - [1.2.1 Jupyter Notebookの使い方](#1.2.1-Jupyter-Notebookの使い方)\n",
    "    - [1.2.2 Pythonの基礎](#1.2.2-Pythonの基礎)\n",
    "    - [1.2.3 リストと辞書型](#1.2.3-リストと辞書型)\n",
    "    - [1.2.4 条件分岐とループ](#1.2.4-条件分岐とループ)\n",
    "    - [1.2.5 関数](#1.2.5-関数)\n",
    "    - [1.2.6 クラスとインスタンス](#1.2.6-クラスとインスタンス)\n",
    "<br><br>\n",
    "- **[1.3 総合問題](#1.3-総合問題)** \n",
    "    - [■ 総合問題1-1 素数判定](#■-総合問題1-1-素数判定)"
   ]
  },
  {
   "cell_type": "markdown",
   "metadata": {
    "colab_type": "text",
    "id": "rYe0vR9RkPCK"
   },
   "source": [
    "\n",
    "***"
   ]
  },
  {
   "cell_type": "markdown",
   "metadata": {
    "colab_type": "text",
    "id": "1M3sBrrfkPCM",
    "nbpresent": {
     "id": "dad3a857-8628-4c15-a8ad-312792cb88ac"
    }
   },
   "source": [
    "## 1.1 データサイエンティストの仕事\n",
    "ゴール：この講座の目的を理解する、データ分析の流れを抑える、習得しなければならないことを知る"
   ]
  },
  {
   "cell_type": "markdown",
   "metadata": {
    "colab_type": "text",
    "id": "qpmC-1qtkPCN"
   },
   "source": [
    "本講座は、データサイエンス（データ分析）を学ぶための基礎を身に付けることを目的にしています。まずは、データサイエンスとは何か、そして、データサイエンスのために必要な知識として、どのようなものがあるのか、その概要を説明します。"
   ]
  },
  {
   "cell_type": "markdown",
   "metadata": {
    "colab_type": "text",
    "id": "npux6IDdkPCO",
    "nbpresent": {
     "id": "93b648ee-643e-46b2-a289-f6b562875bc4"
    }
   },
   "source": [
    "### 1.1.1 データサイエンティストとは\n",
    "キーワード：データサイエンティスト、統計学、プログラミング、エンジニアリング、コンサルティング"
   ]
  },
  {
   "cell_type": "markdown",
   "metadata": {
    "colab_type": "text",
    "id": "V2f-KVEwkPCP"
   },
   "source": [
    "上で述べたとおり、本講座では、全体を通じて、主にデータサイエンスについて学んでいきます。\n",
    "そこでまずは、データ分析の専門家である「データサイエンティスト」について考えてみましょう。この言葉は、さまざまな書物やネット上で定義されており、一概にはまだ定まっていませんが、本講座においては、**ビジネスの課題に対して、統計や機械学習（数学）とプログラミング（IT）スキルを使って、解決する人**と定義します。"
   ]
  },
  {
   "cell_type": "markdown",
   "metadata": {
    "colab_type": "text",
    "id": "hBK6UaqOkPCR"
   },
   "source": [
    "![comment](http://www.zsassociates.com/solutions/services/technology/technology-services/~/media/791C9080D8914382BC08E27380C24FC6.ashx)"
   ]
  },
  {
   "cell_type": "markdown",
   "metadata": {
    "colab_type": "text",
    "id": "DPS52Q4OkPCS"
   },
   "source": [
    "参照URL：http://www.zsassociates.com/solutions/services/technology/technology-services/big-data-and-data-scientist-services.aspx"
   ]
  },
  {
   "cell_type": "markdown",
   "metadata": {
    "colab_type": "text",
    "id": "Bdyb4GzgkPCU"
   },
   "source": [
    "データサイエンティストは、数学や統計のエキスパートでなければなれないと思われがちですが、そうではありません。確かに、数学や統計の知識は必要です。しかしそれだけではなく、それを実装できるエンジニアリング能力も必要です。具体的には、ここで学ぶPythonで実装する力です。また、そもそもそれらを使ってビジネス課題を解決していくためのコンサルティング能力も求められています。これらのうち、どれか1つが欠けてもデータサイエンティストではありません。しかしすべての分野においてエキスパートであることが求められるわけではありません。求められるのは、統合的な能力です。これらのスキルについて、すべてエキスパートだという人はいませんし、それぞれの強みを持っている人たちでグループを作り、データサイエンスチームを結成することもあります。\n",
    "\n",
    "データサイエンティストが、どのようにしてデータ分析の課題を実際に解決していくのかなど、より詳しいことについては、参考文献「A-1」に掲載しているような各種データ分析関連の書物を、ぜひ読んでみてください。"
   ]
  },
  {
   "cell_type": "markdown",
   "metadata": {
    "colab_type": "text",
    "id": "rBR7YciakPCV",
    "nbpresent": {
     "id": "8972370e-3b2e-4fe5-b7d5-e6f410f4df68"
    }
   },
   "source": [
    "### 1.1.2 データ分析のプロセス\n",
    "キーワード：データ分析のプロセス、PDCA"
   ]
  },
  {
   "cell_type": "markdown",
   "metadata": {
    "colab_type": "text",
    "id": "kSw52e1FkPCW"
   },
   "source": [
    "では、データサイエンティストは、データをどのようなステップで分析すればよいのでしょうか。\n",
    "データ分析では、データ分析のフローやプロセスを理解し、それを創ることが重要です。たとえば、ビジネスデータを分析するプロジェクトでは、そのビジネス理解、データ理解、データ加工、処理、モデリング、検証、運用という流れで進めていくのが一般的です。\n",
    "こうした流れのうち、重要度が特に高いのが、ビジネス理解です。ここを外すと、データ分析の意味がなくなってしまいます。\n",
    "データ分析には目的があります。分析ありきではありません。しかしクライアントや関係者が、はっきりと目的を持っていないこともあります。その場合は、目的を定めるところから始めることになります。話し合いなどをしながら、データサイエンティスト側から課題を見つけ、提案していくことが求められます。この過程では、プロジェクトメンバー（コンサルタント、営業等）と協力する必要がありますし、またクライアントや関係者ともコミュニケーションをとっていく必要があります。\n",
    "\n",
    "そして、こうした流れを回していくことも大事です。どこかの段階が終わったら完了ではなく、サイクルを回し続ける、いわゆるPDCAサイクルの流れまで持っていく必要があります。\n",
    "データをどのように分析するのかというモデリングだけにしか興味がない人にとって、こうしたビジネス的な話は面白くないかもしれませんが、これが現実です。\n",
    "データサイエンティストの仕事には、こうした側面もあるという現実をお伝えしたうえで、それを、どのようにアプローチしていくのか、どのようにして具体化（実装）するのかを学んでいくのが、この講座です。"
   ]
  },
  {
   "cell_type": "markdown",
   "metadata": {
    "colab_type": "text",
    "id": "VSBY2PTIkPCX"
   },
   "source": [
    "![comment](https://upload.wikimedia.org/wikipedia/commons/thumb/b/ba/Data_visualization_process_v1.png/525px-Data_visualization_process_v1.png)"
   ]
  },
  {
   "cell_type": "markdown",
   "metadata": {
    "colab_type": "text",
    "id": "_u4CEZsekPCX"
   },
   "source": [
    "参照URL：http://www.kdnuggets.com/2016/03/data-science-process.html"
   ]
  },
  {
   "cell_type": "markdown",
   "metadata": {
    "colab_type": "text",
    "id": "Xqft67S-kPCY"
   },
   "source": [
    ">**[ポイント]**\n",
    ">\n",
    ">データ分析の現場で大事になるのは、ビジネス理解やその目的を明確化し、PDCAサイクルの流れ（データ分析のプロセス）を創ることです。"
   ]
  },
  {
   "cell_type": "markdown",
   "metadata": {
    "colab_type": "text",
    "id": "UYOchTwOkPCZ"
   },
   "source": [
    "データ分析のプロジェクトの流れを学んだり、データ分析のフローや結果のシステム化や実務での運用したりする際に役立つ書籍としては、参考文献「A-2」「A-3」を参照してください。"
   ]
  },
  {
   "cell_type": "markdown",
   "metadata": {
    "colab_type": "text",
    "id": "zQlt3ztokPCa",
    "nbpresent": {
     "id": "cc42c471-e943-450e-a441-3dc962f1c40d"
    }
   },
   "source": [
    "### 1.1.3 本講座の構成\n",
    "キーワード：データ分析、Python、線形代数、微分積分学、確率、統計、機械学習"
   ]
  },
  {
   "cell_type": "markdown",
   "metadata": {
    "colab_type": "text",
    "id": "SmiF5KyhkPCb"
   },
   "source": [
    "本講座では、データサイエンティストになるために必要なことを、実際に体験しながら学んでいきます。\n",
    "すでに説明したようにデータサイエンティストは、数学や統計の知識のほか、エンジニア力やコンサルティング力も必要になるので、本講座の内容も多岐に渡ります。\n",
    "\n",
    "講座の序盤は、データ分析のための基礎知識についての講義です。\n",
    "まず最初の講義では、データ分析によく使われるプログラミング言語のPythonや、本講座に掲載しているサンプルコードを実際に動かせるJupyter Notebookについて説明します。そして次に、データ分析の際にPythonと組み合わせて使われる科学計算や統計ライブラリであるNumpy、Scipy、Pandas、Matplotlibについて説明します。\n",
    "そのあとの講義では、数学的な基礎知識を説明していきます。統計学の基本と単回帰分析について学び、さらに確率と統計の基礎についても学びます。確率と統計の基礎の回では、少し理論的なお話になり数式も出てきますが、徐々に慣れてください。\n",
    "\n",
    "本講座の中盤では、Pythonでデータを扱うための処理方法や可視化を身に付けてもらいます。\n",
    "科学計算に使われるNumpyやScipy、データ加工処理に必要となるPandasを使ったテクニック、データの可視化（Matplotlib）やデータ分析結果の伝え方について学びます。\n",
    "ここを終える頃までにはPythonのデータ分析前の処理や加工の基礎が身に付くはずです。総合問題ではそれらの手法を活用します。具体的には金融の時系列データやマーケティングデータを例に取り、データ分析の実務現場でも使われている基礎的な手法を紹介します。\n",
    "\n",
    "終盤は機械学習の単元です。つまりモデルを作って学習させていく話です。\n",
    "まず最初にあらかじめ答えがわかっているデータに対して学習する、教師あり学習を習得します。そして次に、あらかじめ答えがわかっていない分析のアプローチ、すなわち、教師なし学習を習得します。続いて、その機械学習で学んだモデリングを検証したりチューニング（パラメータを変更して、モデルの精度を上げる）したりする方法を学びます。モデルは作ったら終わりではなく、しっかりと検証する必要があるので、学習データにモデルが最適化されすぎる「過剰学習（過学習ともいわれます）」の問題などについても説明します。\n",
    "\n",
    "最終盤は、まとめを行います。\n",
    "データサイエンスの中級者になるために必要なスキル、たとえばPythonの処理の高速化や深層学習入門、分散処理するためのSpark（Pyspark）を少し紹介します。本講座はあくまでデータサイエンスの入口で、さまざまなことを幅広く扱っています。大事なのは、その後、学習をさらに深めていくことです。そのための手引きとなるのがこの最終盤です。今まで学んだスキルを試すためのまとめの総合問題も一番最後にあります。\n",
    "\n",
    "これらの内容をすべて習得すれば、データ分析に必要な最低限のスキル、そして、今注目されている深層学習などを学ぶための前知識も身に付けることができます。\n",
    "余談ですが、ここでデータ分析のスキルをしっかりと身に付けておけば、自分の市場価値を上げることができますし、就職や転職するときの選択肢が大きく広がります。"
   ]
  },
  {
   "cell_type": "markdown",
   "metadata": {
    "colab_type": "text",
    "id": "u6uu1HA5kPCc"
   },
   "source": [
    "### 1.1.4 本講座を学んでいくのに役立つ文献\n",
    "\n",
    "本講座はデータ分析の入門的講座ではありますが、いま述べたすべての分野について、本当に基礎から説明することはできません。そのため、やむなく、ある程度の基礎知識を前提とします。\n",
    "\n",
    "本講座で前提としている知識は、大学で習う微分・積分と線形代数の基礎、そして簡単なプログラミング経験があること（可能ならPython）を想定しています。また、データ分析は確率・統計と深く関わるので、この講座とは別に、確率と統計の基礎を体系的に学習することをお勧めします。\n",
    "\n",
    "本講座では厳密な数式に基づいた内容（集合・位相や測度論に基づいた確率統計）というよりも、データ分析の現場に必要なスキルを身につけるという視点で解説をしています。数式が出ている箇所について、理解が困難な場合もあるかも知れませんが、一度にすべてを理解しなくても先には進むことができます。分からない箇所があったり、気になっている箇所があったら、参考文献「A-4」や「A-5」、参考URL「B-1」などをその都度、参考にしてください。\n",
    "\n",
    "なお本講座は全体がつながっているので、後から振り返って分かるということもあります。ですから、まずは、少し分からないところがあっても、そこでつまずかずに、まずは進めてみてください。"
   ]
  },
  {
   "cell_type": "markdown",
   "metadata": {
    "colab_type": "text",
    "id": "pgbXG7WSkPCd"
   },
   "source": [
    "本講座では一部、線形代数や微分積分学の基礎知識を前提に話を進めますので、不安がある人は、参考文献「A-6」などを見て復習してください。講座の後半においても、固有値などが出てくるので、さらっと読んでおきましょう。\n",
    "\n",
    "もちろんすべてを復習する必要はありません。実際に試す上で、必要そうな箇所をピックアップしたり、そこで出現する専門用語をネットで調べながら学習を進めてください。さらっと読んでみて、自分にあっている本を1～2冊読めばよいでしょう。\n",
    "\n",
    "なお、線形代数や微分積分学に限った話ではありませんが、大学の数学は抽象度が上がり、苦手意識を持つ人が多いようです。問題演習をこなすことによってイメージが付きやすくなるので、参考文献「A-6」の書籍などに掲載されている例題や演習を中心にやってみると理解が高まります。"
   ]
  },
  {
   "cell_type": "markdown",
   "metadata": {
    "colab_type": "text",
    "id": "pOrFYpvukPCd"
   },
   "source": [
    "参考文献「A-7」に掲載している書籍は少し高度ですが、大学1～2年の数学に不安のある方、数学的な厳密性を求めたい方にお勧めします。解析学、線形代数、統計学の基礎を一通り学ぶことができます。"
   ]
  },
  {
   "cell_type": "markdown",
   "metadata": {
    "colab_type": "text",
    "id": "o0hy-RGGkPCe"
   },
   "source": [
    "### 1.1.5  手を動かして習得しよう\n",
    "キーワード：自分の手を動かして学ぼう"
   ]
  },
  {
   "cell_type": "markdown",
   "metadata": {
    "colab_type": "text",
    "id": "S_XbSOtekPCf"
   },
   "source": [
    "ビジネスの理解ができても、それを形にする（実装する）ことができなければ、データサイエンティストではありません。そこで本講座では、さまざまなデータに対処して、実装できることを目指します。そこで、学習する上でとても大切になってくるのが、**「自分で考えて手を動かしながら学ぶこと」**です。\n",
    "\n",
    "本講座の大きな特徴として、「実際に手を動かしながらデータ分析の手法が学べるコンテンツがある」という点が挙げられます。本講座では、Jupyter Notebookという環境を使って、実際にPythonを使ってデータ分析するプログラムを作り、すぐに試せるようサンプルを提供しています。Jupyter Notebookのインストール方法などはウェブを検索すればいろいろと見つかりますので、それらを参照して環境を準備してください。なお、本講座の演習資料は、Googleが提供している「Colaboratory」を使っても実行できます。ただし、環境が異なるため、一部、同じように実行できない箇所もあるので、ご了承ください。\n",
    "\n",
    "この講座の中で、実際に変数に入れる値を変更してみたり、コードを実行して、結果を見てください。基本的には、上から順に実行するだけで良いのですが、ただコードを眺めているだけでは、分析やコーディングのスキルは身に付きません。実際に手を動かして試行錯誤することでしか、コーディングスキルは身に付きません。\n",
    "\n",
    "練習問題などに関わらず、ご自身の中で「ここの数字を変えたり、処理を変えたらどうなんだろう」など、仮説やアイデアが浮かんだらぜひ、いろいろと試してみてください。\n",
    "\n",
    "そういったやり方は、時間はかかるかもしれません。やり方がわからなかったり、エラーメッセージなどが返ってきて、詰まる時もあるかもしれません。しかし、エラーメッセージを見ながら、まずは自分で調べながらやることも大事です。またコードが複数行あって、本講座の説明文だけでは分からない処理があるかもしれません。そのときは、1行1行実行して、どういう結果が返ってくるのか、見ていきましょう。そこから1つ1つ学ぶことができるのです（もちろん、簡単だと思われる場合は、適宜スキップしてください）。"
   ]
  },
  {
   "cell_type": "markdown",
   "metadata": {
    "colab_type": "text",
    "id": "oEmL0S6jkPCg"
   },
   "source": [
    "本講座を読み進めていく中で、わからないキーワードやライブラリ名、コードなどが出てくることもあると思います。そのときは、これまであげた参考文献などを見るだけではなく、検索エンジン（Googleなど）を積極的に使って調べていきましょう。はじめは調べたいものがすぐに見つからず、時間がかかるかもしれませんが、慣れてくれば調べるコツも分かってきます。この**調べる力もとても重要**です。\n",
    "\n",
    "また、本講座に書いてあることをすべて丸暗記しようなどとは思わないでください。\n",
    "あくまでも本講座は、Pythonを使って、さまざまなデータ加工処理ができるということをまずは知ってもらうためにあり、すべて覚えてもらうことを想定していません。\n",
    "学んだばかりの処理は、すぐに使いこなせないかもしれませんが、必要なテクニックは使う頻度も多くなって、そのうち手が覚えて、自然に使えるようになります。\n",
    "実際、現場で働いている多くのエンジニアは、わからないことがあるときは、ネットで探したり、ネット上にある掲示板で質問して、仕事をしています。\n",
    "ですから特に初学者の方は、本講座ではさまざまな方法があるというのをまず知って、必要なときに振り返って、使えることが大事です。"
   ]
  },
  {
   "cell_type": "markdown",
   "metadata": {
    "colab_type": "text",
    "id": "g-9yRI0WkPCh"
   },
   "source": [
    "御託を並べてきましたが、自分で考えてコーディングしたものが動いて、結果が返ってくるというのはとても楽しいです。\n",
    "もちろん、単純作業もありますが、それを自動化したり、うまく処理できるスクリプトができたときも快感です。クリエイティブな要素も多いので、ぜひその感触も掴んでください。"
   ]
  },
  {
   "cell_type": "markdown",
   "metadata": {
    "colab_type": "text",
    "id": "4Jgf5L7HkPCi"
   },
   "source": [
    ">**[ポイント]**\n",
    ">\n",
    ">実際にPythonのコードを書いて実行し、結果をみながら、試行錯誤しよう。そして、楽しんでプログラミングしよう。"
   ]
  },
  {
   "cell_type": "markdown",
   "metadata": {
    "colab_type": "text",
    "id": "8iU2G271kPCj"
   },
   "source": [
    "なお、Pythonを使った自動処理の入門的な本として、参考文献「A-8」のような本が出版されているので、参考にしてください。昨今流行っているRPAツールも、この本で紹介されているツール（`pyautogui`など）を使えば、作成できます。参考URL「B-2」は、「A-8」の英語版（原本）ですが、無料です。PDF版もあるようです。フリーの教材や講義は英語であるケースが多いので、ついでに英語の勉強もして、幅広く情報を取得できるようになるとよいでしょう。英語もできるようになると、さらに職の幅は広がります。"
   ]
  },
  {
   "cell_type": "markdown",
   "metadata": {
    "colab_type": "text",
    "id": "PucUWPUokPCk"
   },
   "source": [
    "***"
   ]
  },
  {
   "cell_type": "markdown",
   "metadata": {
    "colab_type": "text",
    "id": "mn0CwhGfkPCl",
    "nbpresent": {
     "id": "b0fc1861-b979-45c5-abd0-3b05200de3b6"
    }
   },
   "source": [
    "## 1.2 Pythonの基礎\n",
    "ゴール：Jupyter Notebookを使ってPythonの基礎的な実装ができる\n",
    "\n",
    "本講座では、データ分析をするためのプログラミング言語としてPythonを使います。そもそもなぜPythonを使うのでしょうか。それは、他のプログラミング言語と比べてコーディングが容易で、さまざまなこと（データの加工、取得、モデリング等）が一貫して簡単にできるからです。このようなデータ解析や機械学習系のライブラリが揃っているのが特徴です。\n",
    "\n",
    "こうした理由で、多くのデータサイエンティストが、データ解析にPythonを利用しています。Pythonのユーザーはどんどん増えてきて、Pythonはどんどん進化しています。Pythonの構文は比較的簡単なので、Python以外でプログラムをやってきた人はもちろん、プログラム経験がない人たちでもすぐに扱うことができます。\n",
    "\n",
    "なお、PythonにはPython2系とPython3系の2系統があり、文法が一部異なります。Python 2 と3ではコードの書き方が変わっており、本講座の演習資料はPython 3に基づいています。Python 2のサポートは2020年までとなっているため、今後はPython 3を使うことをお薦めします。"
   ]
  },
  {
   "cell_type": "markdown",
   "metadata": {
    "colab_type": "text",
    "id": "dqcDb18qkPCn"
   },
   "source": [
    "### 1.2.1 Jupyter Notebookの使い方\n",
    "キーワード：Jupyter Notebook、ショートカットキー\n",
    "\n",
    "では、Pythonのコードとは、どのようなものでしょうか。早速、Pythonのコードを見て、実行していきましょう。\n",
    "Jupyter Notebook（以下Jupyter環境）を使えば、Pythonプログラムの実行は、とても簡単です。コードを入力して実行操作するだけで、その結果が表示されます。他のプログラミング言語で実施するコンパイル（システムが理解できるような機械語に変換する処理）などは基本的に必要ありません。まだJupytert環境を用意していない方はぜひ準備して、実行してください。なお、冒頭でも紹介しましたが、Googleが提供している「Colaboratory」を使えば、本講座の演習資料を実行できますので、インターネットができる環境でGoogleのアカウントを持っている人は、このColaboratoryを使ってみてください（ただし一部環境の違いにより、実行できない箇所もあります）。\n",
    "\n",
    "以下、Pythonのコードを実行していきます。なお掲載しているコードは、基本的に上から順に実行してください（後ろで掲載しているコードが、前のコードの実行を前提としたところがいくつかあり、それを途中のコードから実行すると、同じ結果とならないことがあり、またエラーになることもあるので注意してください）。"
   ]
  },
  {
   "cell_type": "markdown",
   "metadata": {
    "colab_type": "text",
    "id": "KOJ3oWICkPCp"
   },
   "source": [
    "まずは、プログラミング言語入門でおなじみの「Hello, world!」を表示させることをやってみます。Pythonなら、次のコードで足ります。他のプログラミング言語は数行必要ですが、Pythonではこの1行だけでよいのです。`print`は画面に出力する関数です。print関数の括弧中に、出力する文字列を指定します。Pythonで文字列を表現するには、「'Hello, world!'」のように全体をシングルクォーテーション（もしくは「\"」（ダブルクォーテーション））で囲みます。"
   ]
  },
  {
   "cell_type": "code",
   "execution_count": null,
   "metadata": {
    "colab": {},
    "colab_type": "code",
    "id": "1odVx0HvkPCq",
    "outputId": "82ca5ac4-5c6b-4196-b356-726fa5140d92"
   },
   "outputs": [],
   "source": [
    "print('Hello, world!')"
   ]
  },
  {
   "cell_type": "markdown",
   "metadata": {
    "colab_type": "text",
    "id": "nq6ugjvTkPCv"
   },
   "source": [
    "このコードを実際にJupytert環境で実行するには、次のようにします。\n",
    "\n",
    "【手順】　Jupyter環境でPythonのコードを入力し、実行するためのステップ\n",
    "\n",
    "［1］　セル（下記で青くIn[ ]となっている箇所）を追加する\n",
    "\n",
    "Jupyter環境では、そのセルにコードや文章を記述します。\n",
    "新規にJupyter Notebookを作成したときは、「Untitled」（できたファイルの上記に記載されています。なお、連続して複数作成した場合は、連番が振られてたファイル名となります）という名前のファイルができ、その中に1つのセルがあるはずなので、そこにコードを記述します。もしセルがない場合、もしくは、セルを追加して他のコードをさらに実行したいときなどには、左上にある［+］ボタンをクリックすると、セルを追加できます。\n",
    "\n",
    "セルには、「Code」「Markdown」「Raw NBConvert」の3種類があります（メニューには、もうひとつ［Heading］という項目がありますが、これは見出しを作るためのもので［Markdown］の一種です）。コードを実行するには［Code］をクリックしてください。\n",
    "\n",
    "・Code　コードを書く場合（書いたコードを実行できます）\n",
    "\n",
    "・Markdown　文章を書く場合（書いたコードで「#」などで始まる部分は書式化して表示されます）\n",
    "\n",
    "・Raw NBConvert　何も加工せずにそのまま編集・表示します。"
   ]
  },
  {
   "cell_type": "markdown",
   "metadata": {
    "colab_type": "text",
    "id": "IoXvFCUVkPCw"
   },
   "source": [
    "<img src=\"figures/chap1_03.png\">"
   ]
  },
  {
   "cell_type": "markdown",
   "metadata": {
    "colab_type": "text",
    "id": "4SLVDRxPkPCx"
   },
   "source": [
    "［2］　コードを入力する\n",
    "\n",
    "セルの種類を［Code］にしたら、そこに、本講座の演習資料に掲載されているプログラムを入力します。なお、新しくセルを追加したときは、デフォルトでCodeになっています。"
   ]
  },
  {
   "cell_type": "markdown",
   "metadata": {
    "colab_type": "text",
    "id": "hAHIlOn1kPCy"
   },
   "source": [
    "<img src=\"figures/chap1_01.png\">"
   ]
  },
  {
   "cell_type": "markdown",
   "metadata": {
    "colab_type": "text",
    "id": "R6PJ_6NikPCz"
   },
   "source": [
    "［3］　実行する\n",
    "セルをクリックして選択した状態（以下のようにセルが緑色に囲まれます）にしておき、［Run］ボタンをクリックすることでコードを実行できます。もしくは、セルを選択し、［Shift］キー＋［Enter］キーを押すことでも実行できます。\n",
    "実行結果は、すぐ下に表示されます。このときもし、文法エラーがあれば、文法エラーの旨が表示されます。\n",
    "［Shift］キー＋［Enter］キーで実行すると、セルが下にもうひとつ追加されて、さらにプログラムを入力できるようになります。必要なければ、はさみのアイコンをクリックして、そのセルを削除してもかまいません。\n",
    "\n",
    "プログラムを修正して再実行したいときは、コードを変更して、もう一度実行すれば、実行結果が変わります。"
   ]
  },
  {
   "cell_type": "markdown",
   "metadata": {
    "colab_type": "text",
    "id": "28i6CQvwkPC0"
   },
   "source": [
    "<img src=\"figures/chap1_02_sitei.png\">"
   ]
  },
  {
   "cell_type": "markdown",
   "metadata": {
    "colab_type": "text",
    "id": "08Fan7IXkPC1"
   },
   "source": [
    "複数行から構成されるコードの入力や実行も同じです。たとえば、次のコードは、足し算（+）、かけ算（\\*）、そして、べき乗（\\*\\*）を計算します。なお、#はコメントアウトで、無視されます。今書いているコードの意味を、将来的に理解するためであったり、第三者がみてもわかりやすいように、適宜、コメントを残すことも大事です。\n",
    "ここでは`print`関数を使って出力していますが、`print`関数なしで「`1+1`」や「`2*5`」「`10**3`」のように入力するだけでも同様に出力でき、電卓のようにも使えますが、その場合、最後の行だけ計算結果が表示されます。"
   ]
  },
  {
   "cell_type": "code",
   "execution_count": null,
   "metadata": {
    "colab": {
     "base_uri": "https://localhost:8080/",
     "height": 69
    },
    "colab_type": "code",
    "executionInfo": {
     "elapsed": 1471,
     "status": "ok",
     "timestamp": 1576470291750,
     "user": {
      "displayName": "Ryotaro Nagai",
      "photoUrl": "",
      "userId": "01856802193714495397"
     },
     "user_tz": -540
    },
    "id": "IkqxU6AOkPC1",
    "outputId": "54951f1e-8823-490c-80ee-6709cd1ab973"
   },
   "outputs": [],
   "source": [
    "# 足し算の例\n",
    "print(1 + 1)\n",
    "\n",
    "# 掛け算の例\n",
    "print(2 * 5)\n",
    "\n",
    "# 10の3乗, べき乗は**を使う\n",
    "print(10 ** 3) "
   ]
  },
  {
   "cell_type": "markdown",
   "metadata": {
    "colab_type": "text",
    "id": "i12-G6O4kPC4"
   },
   "source": [
    "以下は`print`関数なしで計算して、表示しています。なお、Pythonのスクリプト（ファイル名.pyなど）では、何かコードの計算結果を表示させるのに`print`関数が必要なので注意しましょう。"
   ]
  },
  {
   "cell_type": "code",
   "execution_count": null,
   "metadata": {
    "colab": {},
    "colab_type": "code",
    "id": "rp5evdVxkPC5",
    "outputId": "2b9c0ec5-3795-4d83-f3e9-72888936db8a"
   },
   "outputs": [],
   "source": [
    "10**3"
   ]
  },
  {
   "cell_type": "markdown",
   "metadata": {
    "colab_type": "text",
    "id": "72YG0X-IkPC8"
   },
   "source": [
    "Jupyter環境でコードを実行するための最低限の手順は以上です。\n",
    "\n",
    "本講座でコードが登場したときは、［＋］を押してセルを追加して、そこにコードを入力して実行してみてください。\n",
    "\n",
    "セルを切り取りたい場合は［ハサミ］ボタンを、セルを上下に移動したい時は［↑］［↓］ボタンをクリックします。\n",
    "コードを書くときは、いま説明したように「Code」を使いますが、文章などを記述したいときは、「Markdown」を選択してください。メモを残したい場合などに便利です。\n",
    "\n",
    "Jupyter環境では、さまざまなアウトプットが作れるので、もし詳しく知りたい人は、参考URL「B-3」などを見ながら実行することをお勧めします。"
   ]
  },
  {
   "cell_type": "markdown",
   "metadata": {
    "colab_type": "text",
    "id": "WWPdVAEVkPC9"
   },
   "source": [
    "もっとコーディングの効率を高めたいなら、ショートカットキーを使いこなせるようになりましょう。編集モードでない状態（［Esc］キーを押します）で［H］キー押すと以下のような画面が出てくるので、たとえば、新しいセルを下に追加したいときは、［B］キーを押します。他にも、コピー(［C］)、貼り付け(［V］)などもあるので、ぜひ使いこなしてください。ショートカットキーに慣れていない人は、はじめは少し大変かもしれませんが、慣れると圧倒的に作業時間が短くなります。\n",
    "\n",
    "たとえばコードが長くなって行番号を表示したいときには、該当をセルを選択し、［Esc］キーを押した後に「L（エル）」キーを押します。すると、行番号が表示されるようになります。"
   ]
  },
  {
   "cell_type": "markdown",
   "metadata": {
    "colab_type": "text",
    "id": "zSJB94DikPC_"
   },
   "source": [
    ">**[ポイント]**\n",
    ">\n",
    ">作業（コーディング）を効率よく進めるためには、ショートカットキーを使いなそう。"
   ]
  },
  {
   "cell_type": "markdown",
   "metadata": {
    "colab_type": "text",
    "id": "N08RjlOvkPDA"
   },
   "source": [
    "なお、ショートカットキーを使う場面はJupyter環境だけではありません。ほとんどの人がPCのOSとして、WindowsかMacを使っていると思いますので、それぞれのショートカットキーも使えると作業効率が高まります（Excelなどもそうです）。全く使っていなかった人は、ぜひ使えるようになりましょう。スポーツ（野球やバスケットなど）でいうところの基礎練習（素振り、ドリブルなど）だと思って、手を慣らしてください。なお、ショートカットキーについては、色々ありますので、Googleなどで検索して、調べてみてください。"
   ]
  },
  {
   "cell_type": "markdown",
   "metadata": {
    "colab_type": "text",
    "id": "6QsAVfypkPDB"
   },
   "source": [
    "### 1.2.2 Pythonの基礎\n",
    "キーワード：演算、文字列、変数"
   ]
  },
  {
   "cell_type": "markdown",
   "metadata": {
    "colab_type": "text",
    "id": "1bizIoMFkPDC"
   },
   "source": [
    "Jupyter環境でコードを実行する方法がわかったところで、Pythonの基本を、さらに続けます（これから提示するコードは、ぜひ、Jupyter環境に入力して実行してみてください）。\n",
    "\n",
    "次の例は、`msg`という名前の変数に、「test」という文字列を格納し、`print`関数でその変数に格納されている値を表示させるというコードです。文字列を作成するときは、すでに述べたようにシングルクォーテーションまたはダブルクォーテーションで囲みます。\n",
    "\n",
    "なお、C言語やJavaなどのプログラミング言語では、変数を扱うときに整数なのか文字なのかを「型」として設定し、これから利用するという宣言をする必要があります（たとえば、`int x` は整数型のxという変数という意味になります）。しかし、Pythonには変数の型宣言が基本的に必要ないので、変数を使いたいときに値を代入するだけで使えます。なお、型がある言語を、静的型付け言語といいます。C言語やJavaなどの言語は静的型付け言語です。"
   ]
  },
  {
   "cell_type": "code",
   "execution_count": 1,
   "metadata": {
    "colab": {},
    "colab_type": "code",
    "id": "61SeMsMgkPDD",
    "outputId": "4c2dbf79-bf4c-449e-fa03-e3d3d6cfc6d3"
   },
   "outputs": [
    {
     "name": "stdout",
     "output_type": "stream",
     "text": [
      "test\n"
     ]
    }
   ],
   "source": [
    "msg = 'test'\n",
    "print(msg)"
   ]
  },
  {
   "cell_type": "markdown",
   "metadata": {
    "colab_type": "text",
    "id": "sfF5beQukPDH"
   },
   "source": [
    "文字列の後ろに「[番号]」を指定すると、文字列の一部を取り出すことができます。これをインデックスと言います。インデックスは0から始まりますので、注意しましょう。たとえば次の例は、`msg`変数の先頭の文字や2番目の文字を取り出すものです。"
   ]
  },
  {
   "cell_type": "code",
   "execution_count": 2,
   "metadata": {
    "colab": {},
    "colab_type": "code",
    "id": "tX4ezpvjkPDM",
    "outputId": "60b196a7-9358-4805-87fb-7f20f29329df"
   },
   "outputs": [
    {
     "data": {
      "text/plain": [
       "'t'"
      ]
     },
     "execution_count": 2,
     "metadata": {},
     "output_type": "execute_result"
    }
   ],
   "source": [
    "# インデックス0から始まるので1文字目が取り出される\n",
    "msg[0]"
   ]
  },
  {
   "cell_type": "code",
   "execution_count": 3,
   "metadata": {
    "colab": {},
    "colab_type": "code",
    "id": "PQaD3PKSkPDP",
    "outputId": "1f84c462-93a9-490d-cbc7-08cfd8b44b5e"
   },
   "outputs": [
    {
     "data": {
      "text/plain": [
       "'e'"
      ]
     },
     "execution_count": 3,
     "metadata": {},
     "output_type": "execute_result"
    }
   ],
   "source": [
    "# 2番目の文字を取り出したいときのインデックスは1\n",
    "msg[1]"
   ]
  },
  {
   "cell_type": "markdown",
   "metadata": {
    "colab_type": "text",
    "id": "m8brDIDukPDT"
   },
   "source": [
    "次の例は、インデックス5の文字を取り出そうとしています。これまでの流れでは、`msg`には「test」という4文字の文字列が格納されているので、インデックスの最大は最後の「t」に相当する「3」です。つまり、インデックス5を指定しても、6番目の文字はないので、エラーとなります。"
   ]
  },
  {
   "cell_type": "code",
   "execution_count": 4,
   "metadata": {
    "colab": {},
    "colab_type": "code",
    "id": "YqtjIlb2kPDU"
   },
   "outputs": [
    {
     "ename": "IndexError",
     "evalue": "string index out of range",
     "output_type": "error",
     "traceback": [
      "\u001b[0;31m---------------------------------------------------------------------------\u001b[0m",
      "\u001b[0;31mIndexError\u001b[0m                                Traceback (most recent call last)",
      "\u001b[0;32m<ipython-input-4-15a7aedc93a3>\u001b[0m in \u001b[0;36m<module>\u001b[0;34m\u001b[0m\n\u001b[1;32m      1\u001b[0m \u001b[0;31m# 実行するとエラー\u001b[0m\u001b[0;34m\u001b[0m\u001b[0;34m\u001b[0m\u001b[0;34m\u001b[0m\u001b[0m\n\u001b[0;32m----> 2\u001b[0;31m \u001b[0mmsg\u001b[0m\u001b[0;34m[\u001b[0m\u001b[0;36m5\u001b[0m\u001b[0;34m]\u001b[0m\u001b[0;34m\u001b[0m\u001b[0;34m\u001b[0m\u001b[0m\n\u001b[0m",
      "\u001b[0;31mIndexError\u001b[0m: string index out of range"
     ]
    }
   ],
   "source": [
    "# 実行するとエラー\n",
    "msg[5]"
   ]
  },
  {
   "cell_type": "markdown",
   "metadata": {
    "colab_type": "text",
    "id": "aLGLxwJ1kPDZ"
   },
   "source": [
    "今後、コードを書いて、それを実行したあと、エラーに遭遇することは多々あります。この時、プログラミング初心者の方は、思考停止になることが多いのですが、その解決の手がかりとなるのが、最後に表示されるエラーメッセージです。上の例では、最後に「`IndexError: string index out of range`」と表示されています。「`IndexError`（インデックスのエラー）」であり、「`string index out of range`」（文字インデックスが範囲外）というメッセージですから、「5の部分はおかしいのかな」ということがわかります。\n",
    "\n",
    "当たり前のことですが、エラーが発生したときは、まずはエラーメッセージを確認しましよう。「----> 」がエラーが発生している場所を指しています。\n",
    "エラーメッセージがわからないときは、そのままエラーメッセージをGoogleなどで検索してみましょう。他の人も同じようなエラーに遭遇している可能性は意外と高いので、早く解決策が見つかるかもしれません。"
   ]
  },
  {
   "cell_type": "markdown",
   "metadata": {
    "colab_type": "text",
    "id": "qr25ZeK1kPDa"
   },
   "source": [
    ">**[ポイント]**\n",
    ">\n",
    ">エラーが発生した時は、慌てずにエラーメッセージをしっかり確認しましょう。わからなければ、そのままエラーメッセージを検索エンジンで探しましょう。"
   ]
  },
  {
   "cell_type": "markdown",
   "metadata": {
    "colab_type": "text",
    "id": "DhUJr3alkPDb"
   },
   "source": [
    "さて、先ほどは変数に文字を割り当てましたが、もちろん数字を割り当てることもでき、その変数を使って、変数同士の演算も可能です。なお、=は等しいという意味ではなく、右の値を左の値に割り当てるという意味です。"
   ]
  },
  {
   "cell_type": "code",
   "execution_count": 5,
   "metadata": {
    "colab": {},
    "colab_type": "code",
    "id": "49pcHVURkPDc",
    "outputId": "1996f6bc-ebdb-4bde-c464-bdfc1283d60e"
   },
   "outputs": [
    {
     "name": "stdout",
     "output_type": "stream",
     "text": [
      "1\n",
      "11\n"
     ]
    }
   ],
   "source": [
    "#　変数dataにデータ1を割り当て\n",
    "data = 1\n",
    "print(data)\n",
    "\n",
    "# 上の数字に10を足す\n",
    "data = data + 10\n",
    "print(data)"
   ]
  },
  {
   "cell_type": "markdown",
   "metadata": {
    "colab_type": "text",
    "id": "6PpG_GIqkPDf",
    "nbpresent": {
     "id": "6dccff7c-9bb1-447a-9692-656ca1687626"
    }
   },
   "source": [
    "ここでは変数の名前を`data`としましたが、何か変数を作成するときは、可能な限り分かりやすい名前で作成しましょう。ただ、単なる数字のチェックなどをするだけであれば「`a =`」などでも良いですし、実際に、本講座でも、一時的に使う変数などには、特に凝った名前は付けていません。\n",
    "\n",
    "大規模な開発になってくるほど変数名は大事です。もちろん、第三者のためにという意味でメリットになりますが、将来の自分のためにもなります。たとえば、変数を書いた直後はどんな変数を割り当てたのか覚えていますが、1週間、1ヶ月後その変数xを見たときに、どうでしょうか。何の変数だったのか忘れてしまうことは多々あります。さらにコードが長くなってくると、変数も増えてきて、わからなくなります。\n",
    "\n",
    "コーディングについては、絶対的なルールはないですが、ある程度は規定されているので、ぜひ参考URL「B-5」のサイトなど見て参考にしてください。"
   ]
  },
  {
   "cell_type": "markdown",
   "metadata": {
    "colab_type": "text",
    "id": "emZSUA7QkPDg"
   },
   "source": [
    "その他、変数作成に関する注意点として、プログラミング言語には、**予約語**といわれる、あらかじめ用意されている変数や組み込みオブジェクトなど(`while`、`if`、`sum`など)がありますので、それらを変数名として使わないように注意しましょう。なお、オブジェクトという言葉は、そのまま訳すると「もの」ですが、データ（や値）とその処理がセットになったものという理解をしてください。後程、オブジェクト指向については説明します。\n",
    "\n",
    "変数名として予約語を使ってしまうと、後からその機能が使えなくなってしまいますので、以下の情報等も参考に、変数名の選択には注意してください。"
   ]
  },
  {
   "cell_type": "code",
   "execution_count": 6,
   "metadata": {
    "colab": {},
    "colab_type": "code",
    "id": "GpVMVf0YkPDh",
    "outputId": "3ac0d405-0887-4391-e606-5143497eba11",
    "scrolled": true
   },
   "outputs": [
    {
     "data": {
      "text/plain": [
       "['False',\n",
       " 'None',\n",
       " 'True',\n",
       " 'and',\n",
       " 'as',\n",
       " 'assert',\n",
       " 'break',\n",
       " 'class',\n",
       " 'continue',\n",
       " 'def',\n",
       " 'del',\n",
       " 'elif',\n",
       " 'else',\n",
       " 'except',\n",
       " 'finally',\n",
       " 'for',\n",
       " 'from',\n",
       " 'global',\n",
       " 'if',\n",
       " 'import',\n",
       " 'in',\n",
       " 'is',\n",
       " 'lambda',\n",
       " 'nonlocal',\n",
       " 'not',\n",
       " 'or',\n",
       " 'pass',\n",
       " 'raise',\n",
       " 'return',\n",
       " 'try',\n",
       " 'while',\n",
       " 'with',\n",
       " 'yield']"
      ]
     },
     "execution_count": 6,
     "metadata": {},
     "output_type": "execute_result"
    }
   ],
   "source": [
    "# 予約語\n",
    "__import__('keyword').kwlist"
   ]
  },
  {
   "cell_type": "code",
   "execution_count": 7,
   "metadata": {
    "colab": {},
    "colab_type": "code",
    "id": "2sgI2uTSkPDj",
    "outputId": "b160d10f-db53-455e-c6a7-900b3f5e1537"
   },
   "outputs": [
    {
     "data": {
      "text/plain": [
       "['ArithmeticError',\n",
       " 'AssertionError',\n",
       " 'AttributeError',\n",
       " 'BaseException',\n",
       " 'BlockingIOError',\n",
       " 'BrokenPipeError',\n",
       " 'BufferError',\n",
       " 'BytesWarning',\n",
       " 'ChildProcessError',\n",
       " 'ConnectionAbortedError',\n",
       " 'ConnectionError',\n",
       " 'ConnectionRefusedError',\n",
       " 'ConnectionResetError',\n",
       " 'DeprecationWarning',\n",
       " 'EOFError',\n",
       " 'Ellipsis',\n",
       " 'EnvironmentError',\n",
       " 'Exception',\n",
       " 'False',\n",
       " 'FileExistsError',\n",
       " 'FileNotFoundError',\n",
       " 'FloatingPointError',\n",
       " 'FutureWarning',\n",
       " 'GeneratorExit',\n",
       " 'IOError',\n",
       " 'ImportError',\n",
       " 'ImportWarning',\n",
       " 'IndentationError',\n",
       " 'IndexError',\n",
       " 'InterruptedError',\n",
       " 'IsADirectoryError',\n",
       " 'KeyError',\n",
       " 'KeyboardInterrupt',\n",
       " 'LookupError',\n",
       " 'MemoryError',\n",
       " 'ModuleNotFoundError',\n",
       " 'NameError',\n",
       " 'None',\n",
       " 'NotADirectoryError',\n",
       " 'NotImplemented',\n",
       " 'NotImplementedError',\n",
       " 'OSError',\n",
       " 'OverflowError',\n",
       " 'PendingDeprecationWarning',\n",
       " 'PermissionError',\n",
       " 'ProcessLookupError',\n",
       " 'RecursionError',\n",
       " 'ReferenceError',\n",
       " 'ResourceWarning',\n",
       " 'RuntimeError',\n",
       " 'RuntimeWarning',\n",
       " 'StopAsyncIteration',\n",
       " 'StopIteration',\n",
       " 'SyntaxError',\n",
       " 'SyntaxWarning',\n",
       " 'SystemError',\n",
       " 'SystemExit',\n",
       " 'TabError',\n",
       " 'TimeoutError',\n",
       " 'True',\n",
       " 'TypeError',\n",
       " 'UnboundLocalError',\n",
       " 'UnicodeDecodeError',\n",
       " 'UnicodeEncodeError',\n",
       " 'UnicodeError',\n",
       " 'UnicodeTranslateError',\n",
       " 'UnicodeWarning',\n",
       " 'UserWarning',\n",
       " 'ValueError',\n",
       " 'Warning',\n",
       " 'ZeroDivisionError',\n",
       " '__IPYTHON__',\n",
       " '__build_class__',\n",
       " '__debug__',\n",
       " '__doc__',\n",
       " '__import__',\n",
       " '__loader__',\n",
       " '__name__',\n",
       " '__package__',\n",
       " '__spec__',\n",
       " 'abs',\n",
       " 'all',\n",
       " 'any',\n",
       " 'ascii',\n",
       " 'bin',\n",
       " 'bool',\n",
       " 'bytearray',\n",
       " 'bytes',\n",
       " 'callable',\n",
       " 'chr',\n",
       " 'classmethod',\n",
       " 'compile',\n",
       " 'complex',\n",
       " 'copyright',\n",
       " 'credits',\n",
       " 'delattr',\n",
       " 'dict',\n",
       " 'dir',\n",
       " 'display',\n",
       " 'divmod',\n",
       " 'enumerate',\n",
       " 'eval',\n",
       " 'exec',\n",
       " 'filter',\n",
       " 'float',\n",
       " 'format',\n",
       " 'frozenset',\n",
       " 'get_ipython',\n",
       " 'getattr',\n",
       " 'globals',\n",
       " 'hasattr',\n",
       " 'hash',\n",
       " 'help',\n",
       " 'hex',\n",
       " 'id',\n",
       " 'input',\n",
       " 'int',\n",
       " 'isinstance',\n",
       " 'issubclass',\n",
       " 'iter',\n",
       " 'len',\n",
       " 'license',\n",
       " 'list',\n",
       " 'locals',\n",
       " 'map',\n",
       " 'max',\n",
       " 'memoryview',\n",
       " 'min',\n",
       " 'next',\n",
       " 'object',\n",
       " 'oct',\n",
       " 'open',\n",
       " 'ord',\n",
       " 'pow',\n",
       " 'print',\n",
       " 'property',\n",
       " 'range',\n",
       " 'repr',\n",
       " 'reversed',\n",
       " 'round',\n",
       " 'set',\n",
       " 'setattr',\n",
       " 'slice',\n",
       " 'sorted',\n",
       " 'staticmethod',\n",
       " 'str',\n",
       " 'sum',\n",
       " 'super',\n",
       " 'tuple',\n",
       " 'type',\n",
       " 'vars',\n",
       " 'zip']"
      ]
     },
     "execution_count": 7,
     "metadata": {},
     "output_type": "execute_result"
    }
   ],
   "source": [
    "# 組み込みオブジェクト\n",
    "dir(__builtins__)"
   ]
  },
  {
   "cell_type": "markdown",
   "metadata": {
    "colab_type": "text",
    "id": "fm69sbpikPDn"
   },
   "source": [
    ">**[ポイント]**\n",
    ">\n",
    ">予約語や組み込みオブジェクトなどに注意して変数名を設定しよう。"
   ]
  },
  {
   "cell_type": "markdown",
   "metadata": {
    "colab_type": "text",
    "id": "jKV5YqM3kPDo"
   },
   "source": [
    "### 1.2.3 リストと辞書型\n",
    "キーワード：リスト、辞書型、タプル、集合"
   ]
  },
  {
   "cell_type": "markdown",
   "metadata": {
    "colab_type": "text",
    "id": "0V4JO0ZUkPDo"
   },
   "source": [
    "次は、リストについて説明します。リストとは複数の値をひとまとめにして扱うための仕組みで、他の言語で言うところの配列のようなものです。データ分析では配列のような複数の値を一緒に扱うことが多いため、とてもよく使われます。\n",
    "\n",
    "以下は、1から10まで数字が並んでいるデータを作っています。\n",
    "Pythonでリストを表現するには、全体を「[」と「]」で囲んでカンマで区切ります。先頭からn番目の要素は、「変数名`[n]`」のように表記することで取得できます。たとえば、`data_list`という要素の先頭は`data_list[0]`、2番目は`data_list[1]`です。文字列の取り出しのときと同様に、インデックス番号は0から始まります。\n",
    "\n",
    "以下で、`print(data_list)`を実行したときに、`[1, 2, 3, 4, 5, 6, 7, 8, 9, 10]`と表示されているのがわかると思います。次に`type`関数を使って、`data_list`の変数のタイプを表示しています。これは、`class 'list'`と表示されていますので、リスト型の変数だとわかります。ほか、要素数は`len`関数を使って、「`len(data_list)`」のように表記すると取得できます。"
   ]
  },
  {
   "cell_type": "code",
   "execution_count": 4,
   "metadata": {
    "colab": {},
    "colab_type": "code",
    "id": "3wWQoiqjkPDq",
    "outputId": "ce58e3e1-9321-43c3-f998-faf3c7d9b8ae"
   },
   "outputs": [
    {
     "name": "stdout",
     "output_type": "stream",
     "text": [
      "[1, 2, 3, 4, 5, 6, 7, 8, 9, 10]\n",
      "変数のタイプ: <class 'list'>\n",
      "2番目の数： 2\n",
      "要素数： 10\n"
     ]
    }
   ],
   "source": [
    "# リストを作る\n",
    "data_list = [1, 2, 3, 4, 5, 6, 7, 8, 9, 10]\n",
    "print(data_list)\n",
    "\n",
    "# typeで変数のタイプがわかる\n",
    "print('変数のタイプ:', type(data_list))\n",
    "\n",
    "# 1つの要素を取り出す。0から始まるので、[1]は2番目になる\n",
    "print('2番目の数：', data_list[1])\n",
    "\n",
    "# len関数で要素の数を出力。ここでは1から10までの10個なので、結果は10。\n",
    "print('要素数：', len(data_list))"
   ]
  },
  {
   "cell_type": "markdown",
   "metadata": {
    "colab_type": "text",
    "id": "bvd5luT6kPDu"
   },
   "source": [
    ">**[やってみよう]**\n",
    ">\n",
    ">Jupyer環境のメニューの［＋］ボタンをクリックして（もしくは非編集状態で、［B］キーを押して）セルを追加し、何かのリストを作成して、要素数を出力してみましょう。"
   ]
  },
  {
   "cell_type": "markdown",
   "metadata": {
    "colab_type": "text",
    "id": "3AMCAZ0ekPDv"
   },
   "source": [
    "なお、リスト内のそれぞれの要素を2倍したい場合、そのリストに2をかけても、リスト全体が、もう一度、繰り返されるだけなので、注意しましょう。それぞれの要素の値を2倍したいのなら、`for`文（後述の内包表記）を書くか、後の講義で説明する`Numpy`を使うと良いです。"
   ]
  },
  {
   "cell_type": "code",
   "execution_count": 9,
   "metadata": {
    "colab": {},
    "colab_type": "code",
    "id": "-y_My5fCkPDw",
    "outputId": "5220feff-ae8d-4373-951a-a1a60f5e8468",
    "scrolled": true
   },
   "outputs": [
    {
     "data": {
      "text/plain": [
       "[1, 2, 3, 4, 5, 6, 7, 8, 9, 10, 1, 2, 3, 4, 5, 6, 7, 8, 9, 10]"
      ]
     },
     "execution_count": 9,
     "metadata": {},
     "output_type": "execute_result"
    }
   ],
   "source": [
    "# リスト自体が2倍になる\n",
    "data_list * 2 "
   ]
  },
  {
   "cell_type": "markdown",
   "metadata": {
    "colab_type": "text",
    "id": "He5dmc3xkPD2"
   },
   "source": [
    "他、リストの要素を追加したい場合はappend、削除したい場合にはremoveやpop、delなどを使います（これらはメソッドと呼ばれます）。リストの要素に何かを追加したり削除したい場合は、これらのキーワードを調べてみてください。"
   ]
  },
  {
   "cell_type": "markdown",
   "metadata": {
    "colab_type": "text",
    "id": "ANsW0j3ekPD3"
   },
   "source": [
    ">**[やってみよう]**\n",
    ">\n",
    ">リストに何か要素を追加したり、削除する方法を調べて、実行してみましょう。"
   ]
  },
  {
   "cell_type": "markdown",
   "metadata": {
    "colab_type": "text",
    "id": "ff4rTctqkPD5"
   },
   "source": [
    "リスト型と似たものに、辞書型があります。辞書型を使うと、キーと値をペアにして複数の要素を管理することができます。Pythonで辞書を表現するには、全体を「{」と「}」で囲んで、`{キー:値}`のようにコロン区切りで表記します。キーは整数だけではなく、文字列でも指定できます。またリストとは違って、順番は特に関係ありません。\n",
    "\n",
    "次の例のように、「appleが100」「bananaが100」「orangeが300」などのように、何か指定したキーに対して値を保持させたいときに使います。値を参照するときは、`辞書データ[キー名]`というように表記します。以下では、辞書型のデータを用意した後に、`melon`というキーを参照して、それに対応する500が表示されているところです。"
   ]
  },
  {
   "cell_type": "code",
   "execution_count": 3,
   "metadata": {
    "colab": {},
    "colab_type": "code",
    "id": "-vuKSiN6kPD7",
    "outputId": "976427f0-de8f-4402-d5a6-df752d5bdc99"
   },
   "outputs": [
    {
     "name": "stdout",
     "output_type": "stream",
     "text": [
      "500\n"
     ]
    }
   ],
   "source": [
    "# 辞書型\n",
    "dic_data = {'apple': 100, 'banana': 100, 'orange': 300, 'mango': 400, 'melon': 500}\n",
    "print(dic_data['melon'])"
   ]
  },
  {
   "cell_type": "markdown",
   "metadata": {
    "colab_type": "text",
    "id": "O2MelM7DkPEA"
   },
   "source": [
    ">**[やってみよう]**\n",
    ">\n",
    ">上では、melonを表示させましたが、orangeの値を表示させてみましょう。また、キーがappleとorangeの値を足してみましょう。"
   ]
  },
  {
   "cell_type": "code",
   "execution_count": 11,
   "metadata": {},
   "outputs": [
    {
     "name": "stdout",
     "output_type": "stream",
     "text": [
      "300\n"
     ]
    }
   ],
   "source": [
    "print(dic_data[\"orange\"])"
   ]
  },
  {
   "cell_type": "markdown",
   "metadata": {
    "colab_type": "text",
    "id": "0TjZo9p_kPEB"
   },
   "source": [
    "辞書型のデータも、要素を追加したり、削除したい場合があります。その方法を調べて実行してみてください。"
   ]
  },
  {
   "cell_type": "markdown",
   "metadata": {
    "colab_type": "text",
    "id": "iZdAt1MfkPEB"
   },
   "source": [
    ">**[やってみよう]**\n",
    ">\n",
    ">辞書のデータに、何か新しい要素を追加したり、削除する方法を調べて、実行してみましょう。"
   ]
  },
  {
   "cell_type": "markdown",
   "metadata": {
    "colab_type": "text",
    "id": "hCaY5LZdkPEC"
   },
   "source": [
    "以上がリストと辞書の解説になります。\n",
    "\n",
    "他、pythonのデータには**タプル**や**集合**などもありますので、調べてみてください。本講座ではメインで使いませんが、少し使う場面があるので、それまでにどのようなものか把握しておきましょう。"
   ]
  },
  {
   "cell_type": "markdown",
   "metadata": {
    "colab_type": "text",
    "id": "UbqfOJfRkPED"
   },
   "source": [
    ">**[やってみよう]**\n",
    ">\n",
    ">Pythonのタプルや集合についてそれらの役割や使い方について調べて、使ってみましょう。"
   ]
  },
  {
   "cell_type": "markdown",
   "metadata": {
    "colab_type": "text",
    "id": "Jzgui3yZkPEE"
   },
   "source": [
    "### 1.2.4 条件分岐とループ\n",
    "キーワード：真と偽、比較演算子、and、or、not、条件分岐、if、ループ処理、for、制御、内包表記、オブジェクト指向、break、continue"
   ]
  },
  {
   "cell_type": "markdown",
   "metadata": {
    "colab_type": "text",
    "id": "nvGyQ5xykPEF"
   },
   "source": [
    "Pythonでは書いたプログラムが上から下に向けて実行されるのが基本ですが、その流れを変えて、条件分岐や繰り返しの処理をするための構文があります。\n",
    "\n",
    "#### 比較演算子と真偽判定\n",
    "まず条件分岐やループ処理を扱う前に、比較演算子と真偽の判定について解説します。ここでは、ある式が成立している（真、もしくは、`True`）のか、成立していない（偽、もしくは、`False`）のか判定する方法を説明します。以下では、数字の1と1が等しいかを判定しています。ある値と値が等しいのかを判定するために、イコールを2つ（`==`）書いています。これが比較演算子です。実行した結果は`True`になっており、これは真になります。"
   ]
  },
  {
   "cell_type": "code",
   "execution_count": null,
   "metadata": {
    "colab": {},
    "colab_type": "code",
    "id": "eXmapkLOkPEJ",
    "outputId": "d8f20e70-d076-4204-c25d-d4f8f877ab1b"
   },
   "outputs": [],
   "source": [
    "1 == 1"
   ]
  },
  {
   "cell_type": "markdown",
   "metadata": {
    "colab_type": "text",
    "id": "3P2BDkydkPEO"
   },
   "source": [
    "一方、1と2は等しくないので、`False`になり、偽となります。"
   ]
  },
  {
   "cell_type": "code",
   "execution_count": null,
   "metadata": {
    "colab": {},
    "colab_type": "code",
    "id": "8GHifPuOkPER",
    "outputId": "584292ee-c5f6-4c20-ce32-140726eae3e7"
   },
   "outputs": [],
   "source": [
    "1 == 2"
   ]
  },
  {
   "cell_type": "markdown",
   "metadata": {
    "colab_type": "text",
    "id": "vY9W7K-pkPEW"
   },
   "source": [
    "次は、1と2は等しくないという意味で、イコールの前にビックリマークを付けています。1と2は等しくないのは正しいので、これは真になります。"
   ]
  },
  {
   "cell_type": "code",
   "execution_count": null,
   "metadata": {
    "colab": {},
    "colab_type": "code",
    "id": "lvvdVnRpkPEX",
    "outputId": "8e397bed-3002-441e-997b-c99239bce789"
   },
   "outputs": [],
   "source": [
    "1 != 2"
   ]
  },
  {
   "cell_type": "markdown",
   "metadata": {
    "colab_type": "text",
    "id": "nEskK1kDkPEZ"
   },
   "source": [
    "比較演算子には、イコールのほかに、大小記号（＜や＞）もあります。以下の1つ目のセルには、1は0より大きいのかを判定しており、これは真になります。次は、1は2より大きいかどうかを判定していますが、これは成り立たないので偽になります。"
   ]
  },
  {
   "cell_type": "code",
   "execution_count": null,
   "metadata": {
    "colab": {},
    "colab_type": "code",
    "id": "eu9rO-UZkPEa",
    "outputId": "1cbea96b-ac7c-4f23-ec7e-188e09c27f65"
   },
   "outputs": [],
   "source": [
    "1 > 0"
   ]
  },
  {
   "cell_type": "code",
   "execution_count": null,
   "metadata": {
    "colab": {},
    "colab_type": "code",
    "id": "erdEhL6ikPEc",
    "outputId": "469e8b88-bf28-4c35-d1c2-04c44718876e"
   },
   "outputs": [],
   "source": [
    "1 > 2"
   ]
  },
  {
   "cell_type": "markdown",
   "metadata": {
    "colab_type": "text",
    "id": "T9sRqrLakPEg"
   },
   "source": [
    "真偽の判定は、複数の条件を組み合わせることもできます。。次の例は、2つの条件式が両方成り立っている場合に真になる`and`を使って判定するものです。どちらの式も成り立っているので、`True`になります。"
   ]
  },
  {
   "cell_type": "code",
   "execution_count": 12,
   "metadata": {
    "colab": {},
    "colab_type": "code",
    "id": "eqBBCxVTkPEg",
    "outputId": "78c77efa-30e8-4670-bb43-7f4fc5cbd018"
   },
   "outputs": [
    {
     "data": {
      "text/plain": [
       "True"
      ]
     },
     "execution_count": 12,
     "metadata": {},
     "output_type": "execute_result"
    }
   ],
   "source": [
    "(1 > 0) and (10 > 5)"
   ]
  },
  {
   "cell_type": "markdown",
   "metadata": {
    "colab_type": "text",
    "id": "rtWAvLmjkPEj"
   },
   "source": [
    "次は、どちらか成り立っていれば真になる`or`を使った例です。"
   ]
  },
  {
   "cell_type": "code",
   "execution_count": 13,
   "metadata": {
    "colab": {},
    "colab_type": "code",
    "id": "FNbS1V6rkPEn",
    "outputId": "9a06078a-8e0f-409e-b10f-36031abdc08b"
   },
   "outputs": [
    {
     "data": {
      "text/plain": [
       "True"
      ]
     },
     "execution_count": 13,
     "metadata": {},
     "output_type": "execute_result"
    }
   ],
   "source": [
    "(1 < 0) or (10 > 5)"
   ]
  },
  {
   "cell_type": "markdown",
   "metadata": {
    "colab_type": "text",
    "id": "b8bByPThkPEp"
   },
   "source": [
    "最後は、真偽を逆にする`not`です。1は0より大きくないので、`1 < 0`自体は偽ですが、その真偽を逆にしているので、結果は真になっています。"
   ]
  },
  {
   "cell_type": "code",
   "execution_count": 14,
   "metadata": {
    "colab": {},
    "colab_type": "code",
    "id": "GlgeFxNlkPEq",
    "outputId": "3c46a61b-2452-4375-b324-bdc1b383fd79"
   },
   "outputs": [
    {
     "data": {
      "text/plain": [
       "True"
      ]
     },
     "execution_count": 14,
     "metadata": {},
     "output_type": "execute_result"
    }
   ],
   "source": [
    "not (1 < 0) "
   ]
  },
  {
   "cell_type": "markdown",
   "metadata": {
    "colab_type": "text",
    "id": "tPYyOu3bkPEt"
   },
   "source": [
    "真偽の判定は、以下のif文やループ処理で使いますので、しっかり理解しておきましょう。"
   ]
  },
  {
   "cell_type": "markdown",
   "metadata": {
    "colab_type": "text",
    "id": "NQSpG4Z6kPEv"
   },
   "source": [
    "#### if文\n",
    "\n",
    "真偽判定を理解したところで、条件分岐を説明します。条件分岐とは、何かの条件で処理を分岐することで、if文を使います。\n",
    "ifの横に指定した条件式（真偽の判定式）を満たしている場合（`True`）は、該当の文（はじめにある`:`から`else:`の手前まで）が実行され、そうでない場合は`else:`以下が実行されます。つまり条件を満たすかどうかによって、処理を2分岐できます。\n",
    "\n",
    "以下の処理は、数字の「5」が`data_list`というリストの中に入っているかどうかを判定する例です。「findvalue in data_list」が判定式です。この`data_list`に5が入っていれば、すぐ下に書いてある処理が実行されます。一方、このリストに5が入っていなければ、`else`に飛びます。\n",
    "Pythonのコーディングにおける注意点ですが、`if`文などを使うとき、次の行はインデント（字下げ）します。通常は半角スペース4つ分を置きます。Jupyter環境では、改行をしたときに自動でインデントができますが、開発環境によっては注意してください。\n",
    "\n",
    "if文の1行目`：`がif文の開始で、字下げがあるところまでが処理の対象です。elseの横にも`：`がありますので、これがelseの中身の処理が開始されることを意味しており、これも字下げがあるところまでが処理の対象で、そこでif文が終わります。他のプログラミング言語では、endなどがありますが、Pythonではそれを記載する必要がありません。字下げがなくなった個所から、if文の処理とは別の処理がはじまりますので、注意してください。"
   ]
  },
  {
   "cell_type": "code",
   "execution_count": 5,
   "metadata": {
    "colab": {},
    "colab_type": "code",
    "id": "46tvaCYRkPEw",
    "outputId": "7eadb203-a509-4f15-848d-476aa7c0f367"
   },
   "outputs": [
    {
     "name": "stdout",
     "output_type": "stream",
     "text": [
      "5は入っています。\n",
      "ここから先はif文と関係なく、必ず表示されます\n"
     ]
    }
   ],
   "source": [
    "findvalue = 5\n",
    "\n",
    "# if文の開始\n",
    "if findvalue in data_list:\n",
    "    #　条件式の結果が真の場合\n",
    "    print('{0}は入っています。'.format(findvalue))\n",
    "else:\n",
    "    # 条件式の結果が偽の場合\n",
    "    print('{0}は入っていません。'.format(findvalue))\n",
    "# ここでif文は終わり\n",
    "\n",
    "# 以下は、if文とは別の処理となる\n",
    "print('ここから先はif文と関係なく、必ず表示されます')"
   ]
  },
  {
   "cell_type": "markdown",
   "metadata": {
    "colab_type": "text",
    "id": "jT1fifXOkPE1"
   },
   "source": [
    ">**[やってみよう]**\n",
    ">\n",
    ">出力が変わるように、数字の設定（ここでは、`findvalue`）を変更して、実行してみましょう。また、条件文や、出力結果等を変えてみたりしてください。"
   ]
  },
  {
   "cell_type": "markdown",
   "metadata": {
    "colab_type": "text",
    "id": "cOrCbB6WkPE1"
   },
   "source": [
    "結果を表示するときに用いた`'{0}は入っています'.format(findvalue)`という記法は、変数などの値を文字列に埋め込むための機能です。こうした埋め込み機能のことを文字列フォーマットと言います。他のプログラミング言語でも似た方法で使われます。\n",
    "ここで指定している`{0}`は、formatの括弧の最初に指定した値を埋め込む指定です。つまり、この場合は`findvalue`の値が埋め込まれます。\n",
    "formatの括弧のなかには、複数の値を指定することもできます。たとえば、次のように記述すると、`{0}`が2、`{1}`が3、`{2}`が5に対応して表示されます。括弧のなかに指定する値（ここでは`2, 3, 5`）のことを「引数（ひきすう）」と言います。後程、関数の節で改めて説明します。"
   ]
  },
  {
   "cell_type": "code",
   "execution_count": null,
   "metadata": {
    "colab": {},
    "colab_type": "code",
    "id": "uZwT6NqJkPE2",
    "outputId": "a1a91b4d-1a46-4f7b-b388-d64551943095"
   },
   "outputs": [],
   "source": [
    "print('{0} と {1} を足すと {2}です'.format(2,3,5))"
   ]
  },
  {
   "cell_type": "markdown",
   "metadata": {
    "colab_type": "text",
    "id": "eOzQ8vPVkPE4"
   },
   "source": [
    "`{0}`や`{1}`、`{2}`のような埋め込む表記には、表示する桁数を指定するオプション表記もあります。詳しくは、`format`について調べてみてください。"
   ]
  },
  {
   "cell_type": "markdown",
   "metadata": {
    "colab_type": "text",
    "id": "-WUB_wjkkPE6"
   },
   "source": [
    ">** コラム　format記法と%記法 **\n",
    ">\n",
    ">本講座では文字列をフォーマットするのに、`'文字列'.format(値, ...)`という記法を使います。この記法はformat記法と呼ばれ、Python 2.6で登場した記法です。\n",
    ">\n",
    ">それより前のバージョンのPythonからある文字列をフォーマットする記法として`%`記法があります。同じことを`%`記法を使って記述すると、次のように書けます。\n",
    ">\n",
    "> `print('%dは入っています。' % (findvalue)')`\n",
    ">\n",
    ">`%`記法は古い記法なので今後、廃止される可能性があります。ですから、これからプログラムを作るときは、`format`記法を使うようにしてください。"
   ]
  },
  {
   "cell_type": "markdown",
   "metadata": {
    "colab_type": "text",
    "id": "RabwtBcNkPE7"
   },
   "source": [
    "#### for文\n",
    "次に、繰り返し処理の構文を説明します。これは`for`文を使います。`for`文は、リストデータなどからデータを1つずつ取り出し、データがなくなるまで、繰り返し処理を実行します。\n",
    "\n",
    "以下の例は、`[1, 2, 3]`のリストデータに対して、先頭から順番に（1から）データを取り出し、データがなくなる（3まで）まで繰り返し処理（取り出した数字の表示と足し算）を実行しています。\n",
    "\n",
    "処理の初めは1を`num`に入れており、`0+1=1`となります。次に2を`num`に入れて`1+2=3`となり、最後に3を取り出して`3+3=6`となり、ここで`for`文が終わり、最終的な合計値を表示しています。なお、この`for`文も`if`文と同じように、`：`の以下から`for`文がはじまり、字下げがされているところまでが`for`文の処理対象となりますので、注意してください。"
   ]
  },
  {
   "cell_type": "code",
   "execution_count": 1,
   "metadata": {
    "colab": {},
    "colab_type": "code",
    "id": "uDAFKqMfkPE7",
    "outputId": "38190ea3-df10-4204-c77e-bd962507369c"
   },
   "outputs": [
    {
     "name": "stdout",
     "output_type": "stream",
     "text": [
      "num: 1\n",
      "num: 2\n",
      "num: 3\n",
      "total: 6\n"
     ]
    }
   ],
   "source": [
    "# 初期値の設定\n",
    "total = 0\n",
    "\n",
    "# for 文の開始\n",
    "for num in [1, 2, 3]:\n",
    "    # 取り出した数の表示\n",
    "    print('num:', num)\n",
    "    # 今まで取り出した数の合計\n",
    "    total = total + num\n",
    "# 以上で、for 文の終わり\n",
    "    \n",
    "# 最後に合計を表示\n",
    "print('total:', total)"
   ]
  },
  {
   "cell_type": "markdown",
   "metadata": {
    "colab_type": "text",
    "id": "0HTh21V3kPE9"
   },
   "source": [
    "次の例は、`for`文を使って、先ほど作成した辞書型のキーを1つ1つ取り出して、それぞれのキーと値を出力するものです。これも、辞書型データのキーがなくなるまで繰り返します。"
   ]
  },
  {
   "cell_type": "code",
   "execution_count": null,
   "metadata": {
    "colab": {},
    "colab_type": "code",
    "id": "gEAXttrXkPE-",
    "outputId": "412d2c80-f536-494f-b0a7-aa85d454b4ed"
   },
   "outputs": [],
   "source": [
    "for dic_key in dic_data:\n",
    "    print(dic_key, dic_data[dic_key])"
   ]
  },
  {
   "cell_type": "code",
   "execution_count": 6,
   "metadata": {},
   "outputs": [
    {
     "name": "stdout",
     "output_type": "stream",
     "text": [
      "apple 100\n",
      "banana 100\n",
      "orange 300\n",
      "mango 400\n",
      "melon 500\n"
     ]
    }
   ],
   "source": [
    "for dic_key in dic_data:\n",
    "    print(dic_key, dic_data[dic_key])"
   ]
  },
  {
   "cell_type": "markdown",
   "metadata": {
    "colab_type": "text",
    "id": "CmzYSuwmkPFA"
   },
   "source": [
    "#### range関数を使った繰り返しリストの指定\n",
    "連続した整数のリストを作りたいときは、1つ1つデータを入力してリストデータを作成していたら大変なので、以下のように`range`関数を使うと便利です。`range`関数では、数字としては、`N`を設定しますが、0から`N-1`が取り出される点に注意しましょう。以下では、`range`に値を11として設定していますが、最後に取り出される数字はその1つ手前の10までです。"
   ]
  },
  {
   "cell_type": "code",
   "execution_count": 7,
   "metadata": {
    "colab": {},
    "colab_type": "code",
    "id": "jRj7DjoBkPFB",
    "outputId": "5c853bf1-39e3-4379-c02f-96923c71afcc",
    "scrolled": true
   },
   "outputs": [
    {
     "name": "stdout",
     "output_type": "stream",
     "text": [
      "0\n",
      "1\n",
      "2\n",
      "3\n",
      "4\n",
      "5\n",
      "6\n",
      "7\n",
      "8\n",
      "9\n",
      "10\n"
     ]
    }
   ],
   "source": [
    "# range(N)とすると0からN-1までの整数\n",
    "for i in range(11):\n",
    "    print(i)"
   ]
  },
  {
   "cell_type": "markdown",
   "metadata": {
    "colab_type": "text",
    "id": "OOcEJ2t1kPFI"
   },
   "source": [
    "`range`関数では括弧のなかに「最初の値」「最後の値-1」「飛ばす値」を指定することができます。以下は、1から始めて11の手前まで、2つ飛ばしの要素を持つリストを作成しています。"
   ]
  },
  {
   "cell_type": "code",
   "execution_count": 8,
   "metadata": {
    "colab": {},
    "colab_type": "code",
    "id": "eQAVC5vmkPFI",
    "outputId": "0c880b63-92f8-4be1-fb24-bf556d84d156",
    "scrolled": true
   },
   "outputs": [
    {
     "name": "stdout",
     "output_type": "stream",
     "text": [
      "1\n",
      "3\n",
      "5\n",
      "7\n",
      "9\n"
     ]
    }
   ],
   "source": [
    "# range(1, 11, 2)は1から開始して2つ飛ばしで、11の手前まで取り出す\n",
    "for i in range(1, 11, 2):\n",
    "    print(i)"
   ]
  },
  {
   "cell_type": "markdown",
   "metadata": {
    "colab_type": "text",
    "id": "DjZQV2eAkPFK"
   },
   "source": [
    "#### 複雑なfor文と内包表記\n",
    "次に説明する話（内包表記など）は、Pythonの初学者には少し難易度が高いかもしれないので、はじめは読み流す程度で大丈夫です。\n",
    "\n",
    "辞書型データのキーと同時にその値を取り出すには、次の例のように記述します。これは、あとで説明する**オブジェクト指向型プログラミング**の特徴で、データ（ここでは`dic_data`）とそれを処理するための**メソッド**（以下の`items()`）がセットになっており、それを活用しています。メソッドとはあとで説明する**関数**みたいなもので、それを使って処理（ここでは、キーと値を返す処理）をします。"
   ]
  },
  {
   "cell_type": "code",
   "execution_count": null,
   "metadata": {
    "colab": {},
    "colab_type": "code",
    "id": "LmBfinKOkPFL",
    "outputId": "76fc84a2-2561-4c38-d1ae-c7c3442489bc"
   },
   "outputs": [],
   "source": [
    "# キーと値を取り出して表示する\n",
    "for key, value in dic_data.items():\n",
    "    print(key, value)"
   ]
  },
  {
   "cell_type": "code",
   "execution_count": 9,
   "metadata": {},
   "outputs": [
    {
     "name": "stdout",
     "output_type": "stream",
     "text": [
      "apple 100\n",
      "banana 100\n",
      "orange 300\n",
      "mango 400\n",
      "melon 500\n"
     ]
    }
   ],
   "source": [
    "for key, value in dic_data.items():\n",
    "    print(key, value)"
   ]
  },
  {
   "cell_type": "markdown",
   "metadata": {
    "colab_type": "text",
    "id": "wO4RUsBCkPFN"
   },
   "source": [
    "次の例は`for`文を使って取り出したデータを、さらに別のリストとして結果を作成する方法で、**内包表記**といいます。先ほどやろうとしていた、リストの要素をそれぞれ2倍する処理です。\n",
    "下記のサンプルにあるように、\n",
    "\n",
    "`[i * 2 for i in data_list]`\n",
    "\n",
    "と記述すると、`data_list`から値をひとつずつ取り出して変数`i`に格納します。1、2、3、、と取り出されて、それが変数`i`に入って、そしてその`i`を2倍した値で、新しいリストデータが作られます。その結果、リストの要素がすべて2倍になった新しいリストが作られます。"
   ]
  },
  {
   "cell_type": "code",
   "execution_count": null,
   "metadata": {
    "colab": {},
    "colab_type": "code",
    "id": "MxH-Ck3RkPFN",
    "outputId": "57dd4859-583a-45d6-e4bd-50576b9f5c3b"
   },
   "outputs": [],
   "source": [
    "# 空のリストを作成\n",
    "data_list1 = []\n",
    "\n",
    "# 内包表記、data_listから1つ1つ要素を取り出し、2倍した数字を新たな要素とするリストを作成\n",
    "data_list1 = [i * 2 for i in data_list]\n",
    "print(data_list1)"
   ]
  },
  {
   "cell_type": "code",
   "execution_count": 10,
   "metadata": {},
   "outputs": [
    {
     "name": "stdout",
     "output_type": "stream",
     "text": [
      "[2, 4, 6, 8, 10, 12, 14, 16, 18, 20]\n"
     ]
    }
   ],
   "source": [
    "data_list1 = []\n",
    "\n",
    "data_list1 = [i*2 for i in data_list]\n",
    "print(data_list1)"
   ]
  },
  {
   "cell_type": "markdown",
   "metadata": {
    "colab_type": "text",
    "id": "gUSldtPCkPFS"
   },
   "source": [
    "内包表記では、条件を指定し、条件に合致するものだけを新しいリストの対象にすることもできます。\n",
    "たとえば`data_list`から、値が偶数である要素だけを取り出したいときは、以下のようにします。「`if i %2 ==0`」の部分が指定している条件です。「`%`」は余りを計算する演算子です。つまり、`i % 2`は、`i`を2で割った余りです。これが0であるということは偶数であるということを示します。"
   ]
  },
  {
   "cell_type": "code",
   "execution_count": null,
   "metadata": {
    "colab": {},
    "colab_type": "code",
    "id": "VMiXQEOxkPFT",
    "outputId": "d4f99810-fd72-442f-d171-db6df0e1e7c2"
   },
   "outputs": [],
   "source": [
    "[i * 2 for i in data_list if i %2 ==0]"
   ]
  },
  {
   "cell_type": "code",
   "execution_count": 11,
   "metadata": {},
   "outputs": [
    {
     "data": {
      "text/plain": [
       "[4, 8, 12, 16, 20]"
      ]
     },
     "execution_count": 11,
     "metadata": {},
     "output_type": "execute_result"
    }
   ],
   "source": [
    "[i * 2 for i in data_list if i%2==0]"
   ]
  },
  {
   "cell_type": "markdown",
   "metadata": {
    "colab_type": "text",
    "id": "TacvDA7hkPFW"
   },
   "source": [
    "#### zip関数\n",
    "また、`for`文に関連して、**`zip`関数**もよく使われるので、紹介します。\n",
    "`zip`関数は、それぞれ異なるリストを同時に取り出していく処理を実行します。たとえば、`[1,2,3]`というリストと、`[11,12,13]`という2つのリストがあるとき、それぞれ同じインデックスで値を取って表示したいとき――先頭の値である「1と11」、次の値である「2と12」、そして「3と13」のように繰り返して処理したいとき――は、次のようにします。"
   ]
  },
  {
   "cell_type": "code",
   "execution_count": null,
   "metadata": {
    "colab": {},
    "colab_type": "code",
    "id": "6jRXWgCUkPFW",
    "outputId": "40b03cc1-2e54-4458-d031-7e6537dc2aba"
   },
   "outputs": [],
   "source": [
    "for one, two in zip([1, 2, 3], [11, 12, 13]):\n",
    "    print(one, 'と', two)"
   ]
  },
  {
   "cell_type": "code",
   "execution_count": 12,
   "metadata": {},
   "outputs": [
    {
     "name": "stdout",
     "output_type": "stream",
     "text": [
      "1  and  11\n",
      "2  and  20\n",
      "3  and  30\n"
     ]
    }
   ],
   "source": [
    "for one, two in zip([1,2,3], [11,20,30]):\n",
    "    print(one, \" and \", two)"
   ]
  },
  {
   "cell_type": "markdown",
   "metadata": {
    "colab_type": "text",
    "id": "8w2UwVBykPFY"
   },
   "source": [
    "異なるリストデータがあったとして、それぞれのインデックスがお互いに対応していて、同時に取り出して処理したい場合は、`zip`関数は便利です。"
   ]
  },
  {
   "cell_type": "markdown",
   "metadata": {
    "colab_type": "text",
    "id": "BfPlgAobkPFZ"
   },
   "source": [
    "#### while文を使った繰り返し処理\n",
    "繰り返し処理をするには、`for`文以外に`while`文があります。`while`文は、条件が成り立っている間は、ずっと繰り返し処理する構文です。\n",
    "次の例は、変数`num`の値を表示して、1ずつ加えていき、その値が10より大きくなった時点で、処理を終えるというものです。なお、こちらもif文やfor文と同じように：の行でwhile文がはじまり、字下げがあるところまでが処理の対象となります。"
   ]
  },
  {
   "cell_type": "code",
   "execution_count": 13,
   "metadata": {
    "colab": {},
    "colab_type": "code",
    "id": "6Gli-hnEkPFZ",
    "outputId": "cdead664-084d-4837-ef29-3dbccc4bc68a"
   },
   "outputs": [
    {
     "name": "stdout",
     "output_type": "stream",
     "text": [
      "1\n",
      "2\n",
      "3\n",
      "4\n",
      "5\n",
      "6\n",
      "7\n",
      "8\n",
      "9\n",
      "10\n",
      "最後の値は11です\n"
     ]
    }
   ],
   "source": [
    "# 初期値の設定\n",
    "num = 1 \n",
    "\n",
    "# while文の開始\n",
    "while num <= 10:\n",
    "    print(num)\n",
    "    num = num + 1\n",
    "# while文の終わり\n",
    "    \n",
    "# 最後に代入された値を表示する\n",
    "print('最後の値は{0}です'.format(num))"
   ]
  },
  {
   "cell_type": "markdown",
   "metadata": {
    "colab_type": "text",
    "id": "VOEF4Ty0kPFb"
   },
   "source": [
    "ある条件で処理をストップさせたい（`while`文を抜けたい）ときには、`break`を使います。以下は、`num`の値が6を超えた時点で、`while`の処理から抜け出して、終了しています。なお、`if`文の`else`はなくてもよいですが、`else`を書いて何も処理を書かないとエラーになるので、単にその個所をスキップする`pass`を書いています。"
   ]
  },
  {
   "cell_type": "code",
   "execution_count": 15,
   "metadata": {
    "colab": {},
    "colab_type": "code",
    "id": "BZ5cH8rAkPFc",
    "outputId": "aecafd8e-ce37-4943-fc0e-b8fd74895ed3"
   },
   "outputs": [
    {
     "name": "stdout",
     "output_type": "stream",
     "text": [
      "6を超えました\n",
      "最後の値は7です\n"
     ]
    }
   ],
   "source": [
    "# 初期値の設定\n",
    "num =1 \n",
    "\n",
    "# while文の開始\n",
    "while num <= 10:\n",
    "    num = num + 1\n",
    "    \n",
    "    # if文の開始\n",
    "    if num > 6:\n",
    "        print('6を超えました')\n",
    "        break\n",
    "    else:\n",
    "        pass\n",
    "    # if文の終わり\n",
    "# while文の終わり\n",
    "\n",
    "print('最後の値は{0}です'.format(num))"
   ]
  },
  {
   "cell_type": "code",
   "execution_count": 14,
   "metadata": {},
   "outputs": [
    {
     "name": "stdout",
     "output_type": "stream",
     "text": [
      "exceeded 6.\n",
      "the last value is 7\n"
     ]
    }
   ],
   "source": [
    "num = 1\n",
    "while num<=10:\n",
    "    num = num+1\n",
    "    \n",
    "    if num > 6:\n",
    "        print(\"exceeded 6.\")\n",
    "        break\n",
    "    else:\n",
    "        pass\n",
    "    \n",
    "print(\"the last value is {}\".format(num))"
   ]
  },
  {
   "cell_type": "markdown",
   "metadata": {
    "colab_type": "text",
    "id": "AvlhVJDukPFd"
   },
   "source": [
    "一方、ある条件で処理をさせて、ストップさせずにそのまま処理させたい（`while`文を続けたい）ときには、`continue`を使います。以下は、`num`の値が6を超えた時点で、'6を超えました'と表示されていますが、`while`文を抜けずに、そのまま処理を続けています。"
   ]
  },
  {
   "cell_type": "code",
   "execution_count": 16,
   "metadata": {
    "colab": {},
    "colab_type": "code",
    "id": "qzMS7YZSkPFe",
    "outputId": "efd33f96-bab4-4260-c655-b71b35551a27"
   },
   "outputs": [
    {
     "name": "stdout",
     "output_type": "stream",
     "text": [
      "6を超えました\n",
      "6を超えました\n",
      "6を超えました\n",
      "6を超えました\n",
      "6を超えました\n",
      "最後の値は11です\n"
     ]
    }
   ],
   "source": [
    "# 初期値の設定\n",
    "num =1 \n",
    "\n",
    "# while文の開始\n",
    "while num <= 10:\n",
    "    num = num + 1\n",
    "    \n",
    "    # if文の開始\n",
    "    if num > 6:\n",
    "        print('6を超えました')\n",
    "        continue\n",
    "    else:\n",
    "        pass\n",
    "    # if文の終わり\n",
    "# while文の終わり\n",
    "\n",
    "print('最後の値は{0}です'.format(num))"
   ]
  },
  {
   "cell_type": "code",
   "execution_count": 18,
   "metadata": {},
   "outputs": [
    {
     "name": "stdout",
     "output_type": "stream",
     "text": [
      "Exceed 6!\n",
      "Exceed 6!\n",
      "Exceed 6!\n",
      "Exceed 6!\n",
      "Exceed 6!\n",
      "the last value is 11\n"
     ]
    }
   ],
   "source": [
    "num = 1\n",
    "\n",
    "while num<=10:\n",
    "    num = num+1\n",
    "    \n",
    "    if num >6:\n",
    "        print(\"Exceed 6!\")\n",
    "        continue \n",
    "\n",
    "print(\"the last value is {}\".format(num))"
   ]
  },
  {
   "cell_type": "markdown",
   "metadata": {
    "colab_type": "text",
    "id": "bvdiEOBgkPFg"
   },
   "source": [
    "### 1.2.5 関数\n",
    "キーワード：引数、返り値、関数、再帰、lambda関数、高階関数、map関数、apply関数\n",
    "\n",
    "**関数**は一連の処理をひとまとめにする仕組みです。関数を作成すると、同じような処理を何度か実行したいときに、便利です。また、処理をまとめておくと、後でコードを修正するときにも便利です。\n",
    "\n",
    "下記に示す1つ目の`calc_multi`関数は、2つの数字（`a`と`b`）をインプット（これを**引数**といいます）として、その掛け算の結果を返す関数を作成しています。書き方としては、defの後に関数名、引数があれば、()の中に、引数名を記述します。この引数が入力となって、`return`で結果を返し（**返り値**といいます）、これが出力になります。"
   ]
  },
  {
   "cell_type": "code",
   "execution_count": null,
   "metadata": {
    "colab": {},
    "colab_type": "code",
    "id": "k3Bw461QkPFk"
   },
   "outputs": [],
   "source": [
    "# 掛け算をする関数\n",
    "def calc_multi(a, b):\n",
    "    return a * b"
   ]
  },
  {
   "cell_type": "markdown",
   "metadata": {
    "colab_type": "text",
    "id": "L7_bO_VgkPFn"
   },
   "source": [
    "関数を実行することを、関数を呼び出すと言います。作成した関数を呼び出すときには、関数名を書いて、引数が必要なときには、引数を与えて、実行します。以下は、引数として3と10を与えています。"
   ]
  },
  {
   "cell_type": "code",
   "execution_count": null,
   "metadata": {
    "colab": {},
    "colab_type": "code",
    "id": "x86Y30pMkPFo",
    "outputId": "96758594-2604-4753-bd19-2fb5e97c89a0"
   },
   "outputs": [],
   "source": [
    "calc_multi(3, 10)"
   ]
  },
  {
   "cell_type": "markdown",
   "metadata": {
    "colab_type": "text",
    "id": "M9YTquvhkPFu"
   },
   "source": [
    "関数は引数や返り値がなくてもかまいません。"
   ]
  },
  {
   "cell_type": "code",
   "execution_count": null,
   "metadata": {
    "colab": {},
    "colab_type": "code",
    "id": "aXEB8KO8kPFv"
   },
   "outputs": [],
   "source": [
    "def calc_print():\n",
    "    print('printのサンプル関数')"
   ]
  },
  {
   "cell_type": "markdown",
   "metadata": {
    "colab_type": "text",
    "id": "AKxnG6FckPFy"
   },
   "source": [
    "上記の関数を呼び出すと、以下のように、関数の中にあるprint関数が実行されます。"
   ]
  },
  {
   "cell_type": "code",
   "execution_count": null,
   "metadata": {
    "colab": {},
    "colab_type": "code",
    "id": "-HDz1ustkPF1",
    "outputId": "5fc7b838-b119-4959-c165-26be53df2478"
   },
   "outputs": [],
   "source": [
    "calc_print()"
   ]
  },
  {
   "cell_type": "markdown",
   "metadata": {
    "colab_type": "text",
    "id": "UZRhRrr_kPF4"
   },
   "source": [
    "次に示す関数は、フィボナッチ数を計算する例です。フィボナッチ数列とは、一歩手前と二歩手前の数を足して並べた数列のことをいいます（1, 1, 2, 3, 5...と前と前々の数字を足して、その数を並べたもの）。以下の関数`calc_fib`は、再帰と言って、自分の関数を中で呼び出しており、n番目のフィボナッチ数を作成しています。"
   ]
  },
  {
   "cell_type": "code",
   "execution_count": null,
   "metadata": {
    "colab": {},
    "colab_type": "code",
    "id": "vXqkTJB2kPF5"
   },
   "outputs": [],
   "source": [
    "# 再帰関数の例（フィボナッチ数）\n",
    "def calc_fib(n):\n",
    "    if n == 1 or n == 2:\n",
    "        return 1\n",
    "    else:\n",
    "        return calc_fib(n - 1) + calc_fib(n - 2)"
   ]
  },
  {
   "cell_type": "code",
   "execution_count": 19,
   "metadata": {},
   "outputs": [],
   "source": [
    "def calc_fib(n):\n",
    "    if n==1 or n==2:\n",
    "        return 1 \n",
    "    else:\n",
    "        return calc_fib(n-1) + calc_fib(n-2)"
   ]
  },
  {
   "cell_type": "markdown",
   "metadata": {
    "colab_type": "text",
    "id": "MW-r9KZwkPF7"
   },
   "source": [
    "引数に10を与えて実行すると、そのフィボナッチ数は55になることがわかります。"
   ]
  },
  {
   "cell_type": "code",
   "execution_count": 20,
   "metadata": {
    "colab": {},
    "colab_type": "code",
    "id": "z87WUfV6kPF9",
    "outputId": "797af3e8-d8a1-415c-d336-890bc170d244"
   },
   "outputs": [
    {
     "name": "stdout",
     "output_type": "stream",
     "text": [
      "フィボナッチ数: 55\n"
     ]
    }
   ],
   "source": [
    "print('フィボナッチ数:', calc_fib(10))"
   ]
  },
  {
   "cell_type": "markdown",
   "metadata": {
    "colab_type": "text",
    "id": "UeLphW_tkPGA"
   },
   "source": [
    "注意：このフィボナッチ数の処理方法は、再帰を理解してもらうために簡易に書きましたが、アルゴリズム（解法の手順）的には非常に効率が悪いので、大きな値を入力して実行すると計算結果が返ってこないので注意してください。興味のある方は、このアルゴリズムを改善するための方法を考えたり、実装してみてください。プログラミングは、計算結果は同じでも、処理方法は色々とあります。"
   ]
  },
  {
   "cell_type": "markdown",
   "metadata": {
    "colab_type": "text",
    "id": "Tqut4TJtkPGB"
   },
   "source": [
    ">**[やってみよう]**\n",
    ">\n",
    ">上記のようなフィボナッチ数を計算するための別の処理方法（可能なら改善する方法）を考えて、実装してしてみてください。"
   ]
  },
  {
   "cell_type": "code",
   "execution_count": 22,
   "metadata": {},
   "outputs": [
    {
     "name": "stdout",
     "output_type": "stream",
     "text": [
      "55\n"
     ]
    }
   ],
   "source": [
    "def fib(n, a=0, b=1):\n",
    "    if n==1:\n",
    "        return b\n",
    "    return fib(n-1, b, a+b)\n",
    "\n",
    "print(fib(10))"
   ]
  },
  {
   "cell_type": "markdown",
   "metadata": {
    "colab_type": "text",
    "id": "88yW4md4kPGC"
   },
   "source": [
    "**無名関数とmap**\n",
    "\n",
    "関数にはもう一つ、無名関数と呼ばれるものがあり、これを使うと、コードを簡素化できます。無名関数とは、その名前の通り、名前がない関数で、関数をその場に記述する記法です。\n",
    "\n",
    "無名関数を書くには、`lambda`というキーワードを使います。普通の関数を作るときと同じで、`lambda`と記述して引数を設定した後、その処理を記述します。\n",
    "\n",
    "例として、先に作成した掛け算をするcalc_multi関数を採り上げます。この関数は次のように、defで定義しておき、それから実行しました。"
   ]
  },
  {
   "cell_type": "code",
   "execution_count": null,
   "metadata": {
    "colab": {},
    "colab_type": "code",
    "id": "BNlPXfeqkPGC",
    "outputId": "3957349f-3506-44d6-acb5-ba3af52d73d7"
   },
   "outputs": [],
   "source": [
    "# calc_multi関数を定義\n",
    "def calc_multi(a, b):\n",
    "    return a * b\n",
    "\n",
    "# それを実行\n",
    "calc_multi(3, 10)"
   ]
  },
  {
   "cell_type": "markdown",
   "metadata": {
    "colab_type": "text",
    "id": "Ormll12skPGF"
   },
   "source": [
    "`lambda`というキーワードを使って、その場で関数を記述する無名関数として書くと、このコードは、次のように書けます。"
   ]
  },
  {
   "cell_type": "code",
   "execution_count": null,
   "metadata": {
    "colab": {},
    "colab_type": "code",
    "id": "ljD2w3FmkPGG",
    "outputId": "c14b2e08-e847-48db-f3bf-2b24637d1016"
   },
   "outputs": [],
   "source": [
    "(lambda a, b: a * b)(3, 10)"
   ]
  },
  {
   "cell_type": "code",
   "execution_count": 23,
   "metadata": {},
   "outputs": [
    {
     "data": {
      "text/plain": [
       "9"
      ]
     },
     "execution_count": 23,
     "metadata": {},
     "output_type": "execute_result"
    }
   ],
   "source": [
    "(lambda a, b: a+b)(4, 5)"
   ]
  },
  {
   "cell_type": "markdown",
   "metadata": {
    "colab_type": "text",
    "id": "ylRArfLRkPGK"
   },
   "source": [
    "ここで`lambda a, b:`というのが、`関数名(a, b)`に相当する部分です。そして`:`で区切って、その関数の処理（ここでは`return a * b`）を記述するというのが、無名関数の基本的な書き方です。"
   ]
  },
  {
   "cell_type": "markdown",
   "metadata": {
    "colab_type": "text",
    "id": "f8HVxvcVkPGK"
   },
   "source": [
    "無名関数は、リストなどの要素に対して何か関数を実行したいときに、よく使います。\n",
    "\n",
    "要素に対して、何か処理したいときは、`map`関数を使います。`map`関数は、**高階関数**と呼ばれ、関数を引数や戻り値として使う関数で、各要素に対して、何か処理や操作したいときに使います。\n",
    "\n",
    "たとえば、次のように要素の値を2倍にして返す関数`calc_double`を定義するとします。"
   ]
  },
  {
   "cell_type": "code",
   "execution_count": 24,
   "metadata": {
    "colab": {},
    "colab_type": "code",
    "id": "ZdQrrLy_kPGL"
   },
   "outputs": [],
   "source": [
    "def calc_double(x) :\n",
    "    return x * 2"
   ]
  },
  {
   "cell_type": "markdown",
   "metadata": {
    "colab_type": "text",
    "id": "f3WyZ4SOkPGM"
   },
   "source": [
    "ここで、次のように`[1, 2, 3, 4]`というリストの要素に対して、この`calc_double`関数を実行したいとします。`for`文を使って書けば次のようになります。"
   ]
  },
  {
   "cell_type": "code",
   "execution_count": 25,
   "metadata": {
    "colab": {},
    "colab_type": "code",
    "id": "0Qn-onmEkPGN",
    "outputId": "ab37061f-5f34-4e05-e648-0794d3c599eb"
   },
   "outputs": [
    {
     "name": "stdout",
     "output_type": "stream",
     "text": [
      "2\n",
      "4\n",
      "6\n",
      "8\n"
     ]
    }
   ],
   "source": [
    "for num in [1, 2, 3, 4]:\n",
    "    print(calc_double(num))"
   ]
  },
  {
   "cell_type": "markdown",
   "metadata": {
    "colab_type": "text",
    "id": "bQLf_HUZkPGQ"
   },
   "source": [
    "`map`関数を使うと、この処理をリストのまま処理でき、次のように書けます。"
   ]
  },
  {
   "cell_type": "code",
   "execution_count": 26,
   "metadata": {
    "colab": {},
    "colab_type": "code",
    "id": "mweO6j_gkPGR",
    "outputId": "93d4aede-5ad6-45cb-9ff4-c338c64f9ee3"
   },
   "outputs": [
    {
     "data": {
      "text/plain": [
       "[2, 4, 6, 8]"
      ]
     },
     "execution_count": 26,
     "metadata": {},
     "output_type": "execute_result"
    }
   ],
   "source": [
    "list(map(calc_double, [1, 2, 3, 4]))"
   ]
  },
  {
   "cell_type": "code",
   "execution_count": 27,
   "metadata": {},
   "outputs": [
    {
     "data": {
      "text/plain": [
       "[2, 4, 6, 8]"
      ]
     },
     "execution_count": 27,
     "metadata": {},
     "output_type": "execute_result"
    }
   ],
   "source": [
    "list(map(calc_double, [1,2,3,4]))"
   ]
  },
  {
   "cell_type": "markdown",
   "metadata": {
    "colab_type": "text",
    "id": "-ffVrh61kPGW"
   },
   "source": [
    "このような書き方だと、別に`calc_double`関数を定義しておかなければなりませんが、先に説明した無名関数を使うと、ここに直接関数の処理を記述でき、たとえば、次のように書けます。"
   ]
  },
  {
   "cell_type": "code",
   "execution_count": 28,
   "metadata": {
    "colab": {},
    "colab_type": "code",
    "id": "KvSdxezLkPGa",
    "outputId": "dbc3085d-d777-4f90-b69f-1834c72f6e8d"
   },
   "outputs": [
    {
     "data": {
      "text/plain": [
       "[2, 4, 6, 8]"
      ]
     },
     "execution_count": 28,
     "metadata": {},
     "output_type": "execute_result"
    }
   ],
   "source": [
    "list(map(lambda x : x * 2, [1, 2, 3, 4]))"
   ]
  },
  {
   "cell_type": "code",
   "execution_count": 29,
   "metadata": {},
   "outputs": [
    {
     "data": {
      "text/plain": [
       "[2, 4, 108, 12]"
      ]
     },
     "execution_count": 29,
     "metadata": {},
     "output_type": "execute_result"
    }
   ],
   "source": [
    "list(map(lambda x: x*2, [1,2,54,6]))"
   ]
  },
  {
   "cell_type": "markdown",
   "metadata": {
    "colab_type": "text",
    "id": "o6sucoPYkPGe"
   },
   "source": [
    "このように`map`関数や、後の講義で説明する`Pandas`機能などと一緒に使って、データの加工処理をするときに、よく使います。今はあまりメリットを感じられませんが、後で使うので念頭に置いておいてください。"
   ]
  },
  {
   "cell_type": "markdown",
   "metadata": {
    "colab_type": "text",
    "id": "lDrEEA2OkPGf"
   },
   "source": [
    "他にも、`reduce`関数や`filter`関数などもありますので、興味にある方は調べてみてください。"
   ]
  },
  {
   "cell_type": "markdown",
   "metadata": {
    "colab_type": "text",
    "id": "aQ6tgkJ7kPGh"
   },
   "source": [
    ">**[やってみよう]**\n",
    ">\n",
    ">`reduce`関数や`filter`関数について、その使い方等を調べて、何か実装してみましょう。"
   ]
  },
  {
   "cell_type": "markdown",
   "metadata": {
    "colab_type": "text",
    "id": "NAenoeB2kPGh"
   },
   "source": [
    "#### <練習問題 1-1>\n",
    "\n",
    "ある文字列（「Data Science」など）を変数に設定し、それを1文字ずつ表示させるプログラムを書いてください。"
   ]
  },
  {
   "cell_type": "markdown",
   "metadata": {
    "colab_type": "text",
    "id": "dJNVATUekPGi"
   },
   "source": [
    "#### <練習問題 1-2>\n",
    "\n",
    "1から50までの自然数の和を計算し、その計算結果を表示させるプログラムを書いてください。"
   ]
  },
  {
   "cell_type": "markdown",
   "metadata": {
    "colab_type": "text",
    "id": "W2i2Bu46kPGi"
   },
   "source": [
    "### 1.2.6 クラスとインスタンス\n",
    "キーワード：オブジェクト、クラス、インスタンス、コンストラクタ"
   ]
  },
  {
   "cell_type": "markdown",
   "metadata": {
    "colab_type": "text",
    "id": "HgtRK7iYkPGj"
   },
   "source": [
    "最後に、クラスとインスタンスについて説明します。\n",
    "はじめてこれらについて聞いた人は、すぐに理解するのは難しいと思います。ですから、以下の実装例を見て、雰囲気だけつかんでください。プログラミング初学者の人は、この節は、読み飛ばしてもかまいません。なぜなら、すぐには必要ないからです。ただし、機械学習のライブラリであるSklearnなどを使うときに必要な概念（インスタンスなど）になるので、そのときには、この節に戻ってきてください。\n",
    "\n",
    "Pythonはオブジェクト指向型のプログラミング言語です。クラスとは、「オブジェクトのひな型」のようなものです。\n",
    "よく挙げられる例が「たい焼き」です。以下のclassの`PrintClass`はたい焼き機の型を作っています。実際のたい焼きが出来上がったのがインスタンス`p1`というイメージです。インスタンスとは、クラスからできあがる実体のことです。インスタンスには属性を追加することができ、ピリオドで続けて任意の属性を指定できます。たとえば以下では、`p1.x`に10、`p1.y`に100、`p1.z`に1000を追加しています。\n",
    "\n",
    "参考までに、クラスとインスタンスのイメージ図も示しておきます。"
   ]
  },
  {
   "cell_type": "markdown",
   "metadata": {
    "colab_type": "text",
    "id": "lDNRyODDkPGk"
   },
   "source": [
    "![comment](http://image.itmedia.co.jp/ait/articles/0803/12/r801.gif)"
   ]
  },
  {
   "cell_type": "markdown",
   "metadata": {
    "colab_type": "text",
    "id": "238aC0MfkPGl"
   },
   "source": [
    "参照URL：http://image.itmedia.co.jp/ait/articles/0803/12/r801.gif"
   ]
  },
  {
   "cell_type": "code",
   "execution_count": 30,
   "metadata": {
    "colab": {},
    "colab_type": "code",
    "id": "n78c76SMkPGm"
   },
   "outputs": [],
   "source": [
    "# PrintClassクラスの作成とprint_meメソッド（関数）の作成\n",
    "class PrintClass:\n",
    "    def print_me(self):\n",
    "        print(self.x, self.y)"
   ]
  },
  {
   "cell_type": "code",
   "execution_count": 31,
   "metadata": {
    "colab": {},
    "colab_type": "code",
    "id": "OCTiAdVJkPGn",
    "outputId": "45a414a0-d1e9-4edf-d443-784c281c2863"
   },
   "outputs": [
    {
     "name": "stdout",
     "output_type": "stream",
     "text": [
      "10 100\n"
     ]
    }
   ],
   "source": [
    "# インスタンスの作成、生成\n",
    "p1 = PrintClass()\n",
    "\n",
    "# 属性の値を割り当て\n",
    "p1.x = 10\n",
    "p1.y = 100\n",
    "p1.z = 1000\n",
    "\n",
    "# メソッドの呼び出し\n",
    "p1.print_me()"
   ]
  },
  {
   "cell_type": "markdown",
   "metadata": {
    "colab_type": "text",
    "id": "jLVcI8ZIkPGp"
   },
   "source": [
    "p1というインスタンスに、`print_me()`という関数（メソッド）がついていて、それを呼び出して実行しています。新しく追加した属性の値`z`は以下のように確認できます。"
   ]
  },
  {
   "cell_type": "code",
   "execution_count": 32,
   "metadata": {
    "colab": {},
    "colab_type": "code",
    "id": "0wpG3nwXkPGp",
    "outputId": "e9af07e6-553c-4fcb-f2fe-7818f2d10260"
   },
   "outputs": [
    {
     "data": {
      "text/plain": [
       "1000"
      ]
     },
     "execution_count": 32,
     "metadata": {},
     "output_type": "execute_result"
    }
   ],
   "source": [
    "# 先ほど追加した属性を表示\n",
    "p1.z"
   ]
  },
  {
   "cell_type": "markdown",
   "metadata": {
    "colab_type": "text",
    "id": "yjtgd0szkPGq"
   },
   "source": [
    "このオブジェクト指向とクラスの概念は少し難しいので、もう少し具体的な例を見てみましょう。\n",
    "\n",
    "以下はクラスとして`MyCalcClass`を作成しており、いくつかのメソッドを作っています。"
   ]
  },
  {
   "cell_type": "code",
   "execution_count": 33,
   "metadata": {
    "colab": {},
    "colab_type": "code",
    "id": "ZJ5h3CH2kPGr"
   },
   "outputs": [],
   "source": [
    "class MyCalcClass:\n",
    "    \n",
    "    # 初期化\n",
    "    def __init__(self, x, y):\n",
    "        self.x = x\n",
    "        self.y = y\n",
    "        \n",
    "    def calc_add1(self, a, b):\n",
    "        return a + b\n",
    "    \n",
    "    def calc_add2(self):\n",
    "        return self.x + self.y\n",
    "\n",
    "    def calc_multi(self, a, b):\n",
    "        return a * b\n",
    "\n",
    "    def calc_print(self, a):\n",
    "        print('data:{0}:yの値{1}'.format(a, self.y))"
   ]
  },
  {
   "cell_type": "markdown",
   "metadata": {
    "colab_type": "text",
    "id": "A1X-cclakPGs"
   },
   "source": [
    "次に、このクラス（`MyCalcClass`）から、次のように2つのインスタンスを生成します。このとき、`instance_1`と`instance_2`は別物として扱われます。上記のたい焼きで例えると、チーズたい焼きとクリームたい焼きは別物ですよね。"
   ]
  },
  {
   "cell_type": "code",
   "execution_count": 34,
   "metadata": {
    "colab": {},
    "colab_type": "code",
    "id": "VlQmYo8qkPGt"
   },
   "outputs": [],
   "source": [
    "instance_1 = MyCalcClass(1, 2)\n",
    "instance_2 = MyCalcClass(5, 10)"
   ]
  },
  {
   "cell_type": "markdown",
   "metadata": {
    "colab_type": "text",
    "id": "ln6lRgpWkPGw"
   },
   "source": [
    "インスタンスを生成するときは、クラスに実装した「`__init__`」という名前の特別なメソッドが実行されます。これを\n",
    "コンストラクタと言います。コードには、「`self.x = x`」「`self.y = y`」という文があります。`self.`とは自分自身という意味です。そのため、この文によって、自身の`x`属性と`y`属性が、括弧のなかに指定した値になります。\n",
    "つまり上記の例では、`instanced_1`では、`MyCalcClass(1, 2)`としているので、`x`が1、`y`が2となります。同様に、`instance_2`の場合は`x`が5、`y`が10となります。\n",
    "\n",
    "これらのインスタンスのメソッドを呼び出してみましょう。まずは、`instance_1`からです。"
   ]
  },
  {
   "cell_type": "code",
   "execution_count": 35,
   "metadata": {
    "colab": {},
    "colab_type": "code",
    "id": "25KEIWCckPGx",
    "outputId": "48a0582b-b7a0-4d1c-d0f2-978dc4b3417c"
   },
   "outputs": [
    {
     "name": "stdout",
     "output_type": "stream",
     "text": [
      "2つの数の足し算(新たに数字を引数としてセット): 8\n",
      "2つの数の足し算(インスタンス化の時の値): 3\n",
      "2つの数のかけ算: 15\n",
      "data:5:yの値2\n"
     ]
    }
   ],
   "source": [
    "print('2つの数の足し算(新たに数字を引数としてセット):', instance_1.calc_add1(5, 3))\n",
    "print('2つの数の足し算(インスタンス化の時の値):', instance_1.calc_add2())\n",
    "print('2つの数のかけ算:', instance_1.calc_multi(5, 3))\n",
    "instance_1.calc_print(5)"
   ]
  },
  {
   "cell_type": "markdown",
   "metadata": {
    "colab_type": "text",
    "id": "CRtt2CNDkPG3"
   },
   "source": [
    "`calc_add1`は引数5と3を設定し、その和を返り値として算出しています。`calc_add2`は何も引数を指定しておらず、`self.x`と`self.y`の値を計算に使っています。この値は、先に説明したようにコンストラクタで設定されています。つまり、`instance_1 = MyCalcClass(1, 2)`では、その値は、それぞれ1と2として初期値が設定されるので、これらを足した3が表示されます。`calc_multi`は引数の掛け算の結果、`instance_1.calc_print(5)`は、引数5と初期値として設定した`self.y`の方（2）を表示しています。"
   ]
  },
  {
   "cell_type": "markdown",
   "metadata": {
    "colab_type": "text",
    "id": "z4L7uW6CkPG3"
   },
   "source": [
    "`次は、`instance_2を使いましょう。上の`instance_1`のときの結果と値が変わります。なぜ変わっているのか、しっかりと追っていきましょう。"
   ]
  },
  {
   "cell_type": "code",
   "execution_count": null,
   "metadata": {
    "colab": {},
    "colab_type": "code",
    "id": "y5UYflpzkPG4",
    "outputId": "eb4f2ed1-351a-4c63-fddb-f9d495991a8f"
   },
   "outputs": [],
   "source": [
    "print('2つの数の足し算(新たに数字を引数としてセット):', instance_2.calc_add1(10, 3))\n",
    "print('2つの数の足し算(インスタンス化の時の値):', instance_2.calc_add2())\n",
    "print('2つの数のかけ算:', instance_2.calc_multi(4, 3))\n",
    "instance_2.calc_print(20)"
   ]
  },
  {
   "cell_type": "markdown",
   "metadata": {
    "colab_type": "text",
    "id": "El0lUO0NkPG5"
   },
   "source": [
    ">**[やってみよう]**\n",
    ">\n",
    ">上のクラス（`MyCalcClass`）を使って、新しくインスタンスを生成し(`instance_3`など）、何か出力してみましょう。さらにできれば、異なるメソッド（2つの引数の差分など）をこのクラスに追加して、呼び出して使ってみましょう。"
   ]
  },
  {
   "cell_type": "markdown",
   "metadata": {
    "colab_type": "text",
    "id": "SYdWvURfkPG7"
   },
   "source": [
    "これは見ているだけではわからないと思うので、上記の例をベースに、実際にサンプルコードなどを作成して実行しましょう。このクラス設計やその実装ができるようになると、大規模な開発をする場合に色々と役に立ちます。\n"
   ]
  },
  {
   "cell_type": "markdown",
   "metadata": {
    "colab_type": "text",
    "id": "WqzzpJytkPG8"
   },
   "source": [
    "以上で、Pythonの基礎的なコードの説明は終わりです。Python初学者の人は慣れない部分もあったかと思いますが、もちろん、これだけでPythonの基礎を押さえるのは不十分です。\n",
    "もし基礎に不安があれば、参考文献「A-4」や参考URL「B-1」を見て復習などをしてください。「A-4」で紹介している『はじめてのPython』はとても分厚い本ですが、とても丁寧に説明されており、クラスやオブジェクト指向についてもしっかりと解説されているので、ぜひ読んでみてください。"
   ]
  },
  {
   "cell_type": "markdown",
   "metadata": {
    "colab_type": "text",
    "id": "E90LmluWkPG8"
   },
   "source": [
    "## 1.3 総合問題"
   ]
  },
  {
   "cell_type": "markdown",
   "metadata": {
    "colab_type": "text",
    "id": "GNev2ooskPG9"
   },
   "source": [
    "### ■ 総合問題1-1 素数判定\n",
    "\n",
    "（1）10までの素数を表示するプログラムを書いてください。なお、素数とは、1とその数自身以外の約数をもたない正の整数のことをいいます。\n",
    "\n",
    "（2）（1）をさらに一般化して、`N`を自然数として、`N`までの素数を表示する関数を書いてください。"
   ]
  },
  {
   "cell_type": "code",
   "execution_count": null,
   "metadata": {},
   "outputs": [],
   "source": []
  }
 ],
 "metadata": {
  "anaconda-cloud": {},
  "colab": {
   "collapsed_sections": [
    "6QsAVfypkPDB",
    "jKV5YqM3kPDo",
    "Jzgui3yZkPEE",
    "nvGyQ5xykPEF",
    "NQSpG4Z6kPEv",
    "RabwtBcNkPE7",
    "CmzYSuwmkPFA",
    "DjZQV2eAkPFK",
    "TacvDA7hkPFW",
    "BfPlgAobkPFZ",
    "NAenoeB2kPGh",
    "dJNVATUekPGi",
    "W2i2Bu46kPGi",
    "GNev2ooskPG9"
   ],
   "name": "chapter1.ipynb",
   "provenance": []
  },
  "kernelspec": {
   "display_name": "Python 3",
   "language": "python",
   "name": "python3"
  },
  "language_info": {
   "codemirror_mode": {
    "name": "ipython",
    "version": 3
   },
   "file_extension": ".py",
   "mimetype": "text/x-python",
   "name": "python",
   "nbconvert_exporter": "python",
   "pygments_lexer": "ipython3",
   "version": "3.6.9"
  },
  "nbpresent": {
   "slides": {
    "008a788b-b456-4a0c-8288-6f60967c483e": {
     "id": "008a788b-b456-4a0c-8288-6f60967c483e",
     "prev": "17036b1e-8781-4a7e-a909-a179f499bbc9",
     "regions": {
      "072dbee3-3b47-4389-a934-e0168ebd835e": {
       "attrs": {
        "height": 0.8,
        "width": 0.8,
        "x": 0.1,
        "y": 0.1
       },
       "content": {
        "cell": "378cb846-5485-41d5-9983-fec98a22072a",
        "part": "whole"
       },
       "id": "072dbee3-3b47-4389-a934-e0168ebd835e"
      }
     }
    },
    "01ab9067-898c-46a1-91d9-18ca4fe5a937": {
     "id": "01ab9067-898c-46a1-91d9-18ca4fe5a937",
     "prev": "008a788b-b456-4a0c-8288-6f60967c483e",
     "regions": {
      "42da7aa5-8de9-4631-8abe-4ab35c510140": {
       "attrs": {
        "height": 0.8,
        "width": 0.8,
        "x": 0.1,
        "y": 0.1
       },
       "content": {
        "cell": "7f0f7ef4-e90b-41de-8f73-6165e1b3c1cb",
        "part": "whole"
       },
       "id": "42da7aa5-8de9-4631-8abe-4ab35c510140"
      }
     }
    },
    "02225e5f-f35d-40ef-8f23-5431b19121ab": {
     "id": "02225e5f-f35d-40ef-8f23-5431b19121ab",
     "prev": "430a8f03-8947-469c-a376-2f271448284d",
     "regions": {
      "5bf42e3a-831e-4238-ae19-d2212b26edc0": {
       "attrs": {
        "height": 0.8,
        "width": 0.8,
        "x": 0.1,
        "y": 0.1
       },
       "content": {
        "cell": "c68c4e4e-072e-4620-a325-3ebb19ebe1ce",
        "part": "whole"
       },
       "id": "5bf42e3a-831e-4238-ae19-d2212b26edc0"
      }
     }
    },
    "094d2d0d-c7e5-40bc-bed7-bd80198e8e18": {
     "id": "094d2d0d-c7e5-40bc-bed7-bd80198e8e18",
     "prev": "de950ae7-a7c1-424c-afe2-42f481db181e",
     "regions": {
      "95429590-c6e8-4e00-a061-62d2a454c52f": {
       "attrs": {
        "height": 0.8,
        "width": 0.8,
        "x": 0.1,
        "y": 0.1
       },
       "content": {
        "cell": "aa08360f-e7dd-4647-bbfb-cadd5f19af31",
        "part": "whole"
       },
       "id": "95429590-c6e8-4e00-a061-62d2a454c52f"
      }
     }
    },
    "0aa8229e-9b5c-4f49-bd1e-34de4cd2e82f": {
     "id": "0aa8229e-9b5c-4f49-bd1e-34de4cd2e82f",
     "prev": "11f1d1c4-4848-4b7d-a62d-5427e055bbe3",
     "regions": {
      "9504ff07-d651-4294-ba2e-a89ec52ca708": {
       "attrs": {
        "height": 0.8,
        "width": 0.8,
        "x": 0.1,
        "y": 0.1
       },
       "content": {
        "cell": "e73995f2-c960-4881-b3d3-82c24b06c64c",
        "part": "whole"
       },
       "id": "9504ff07-d651-4294-ba2e-a89ec52ca708"
      }
     }
    },
    "0c50d9ca-fef0-4e5c-8a4e-f18d1c2dbb9e": {
     "id": "0c50d9ca-fef0-4e5c-8a4e-f18d1c2dbb9e",
     "prev": "b248eaf4-2e85-4c32-8f88-7b2ef510ee7c",
     "regions": {
      "8b734704-6740-44f7-8c87-17350c882ed3": {
       "attrs": {
        "height": 0.8,
        "width": 0.8,
        "x": 0.1,
        "y": 0.1
       },
       "content": {
        "cell": "cc42c471-e943-450e-a441-3dc962f1c40d",
        "part": "whole"
       },
       "id": "8b734704-6740-44f7-8c87-17350c882ed3"
      }
     }
    },
    "107cd2c7-0a77-4fd7-922b-56df6615dcca": {
     "id": "107cd2c7-0a77-4fd7-922b-56df6615dcca",
     "prev": "2e7deda1-5486-4b26-8e0a-c91e4c88dbe8",
     "regions": {
      "2ee1a19b-7a00-46b1-b393-485ddb7c2b9b": {
       "attrs": {
        "height": 0.8,
        "width": 0.8,
        "x": 0.1,
        "y": 0.1
       },
       "content": {
        "cell": "d27b23aa-809c-4965-8399-5e67901e2ae4",
        "part": "whole"
       },
       "id": "2ee1a19b-7a00-46b1-b393-485ddb7c2b9b"
      }
     }
    },
    "11f1d1c4-4848-4b7d-a62d-5427e055bbe3": {
     "id": "11f1d1c4-4848-4b7d-a62d-5427e055bbe3",
     "prev": "9461c0f4-d87e-441d-915d-95c69b105ecb",
     "regions": {
      "185d0c6f-1e15-43e1-81f5-1234d5ac3ade": {
       "attrs": {
        "height": 0.8,
        "width": 0.8,
        "x": 0.1,
        "y": 0.1
       },
       "content": {
        "cell": "18703937-12da-40b5-960d-e7a50467e7d0",
        "part": "whole"
       },
       "id": "185d0c6f-1e15-43e1-81f5-1234d5ac3ade"
      }
     }
    },
    "17036b1e-8781-4a7e-a909-a179f499bbc9": {
     "id": "17036b1e-8781-4a7e-a909-a179f499bbc9",
     "prev": "5494c0f6-12d4-4627-9481-26c7858f8f09",
     "regions": {
      "4757fb07-c8f0-49b5-bb28-9a5bb61995ff": {
       "attrs": {
        "height": 0.8,
        "width": 0.8,
        "x": 0.1,
        "y": 0.1
       },
       "content": {
        "cell": "6452b3ab-84b7-4f3c-b74f-ae118e4ed9f2",
        "part": "whole"
       },
       "id": "4757fb07-c8f0-49b5-bb28-9a5bb61995ff"
      }
     }
    },
    "1d02d174-1ae1-4900-bb8e-92083b3f723b": {
     "id": "1d02d174-1ae1-4900-bb8e-92083b3f723b",
     "prev": "466c6928-dc5e-4aeb-abad-2dbb2c797793",
     "regions": {
      "2e5e7aee-fec1-4322-82df-30c9bda076ce": {
       "attrs": {
        "height": 0.8,
        "width": 0.8,
        "x": 0.1,
        "y": 0.1
       },
       "content": {
        "cell": "e89daf11-82d5-4ae2-905b-b73662884e4e",
        "part": "whole"
       },
       "id": "2e5e7aee-fec1-4322-82df-30c9bda076ce"
      }
     }
    },
    "26984d6c-6cdd-4fb6-a80c-b16f643b3802": {
     "id": "26984d6c-6cdd-4fb6-a80c-b16f643b3802",
     "prev": "dfaeb098-c3a9-4980-ae35-70f9b6296a7d",
     "regions": {
      "e3a7924f-b4ad-4919-b97c-a9f0da0027ec": {
       "attrs": {
        "height": 0.8,
        "width": 0.8,
        "x": 0.1,
        "y": 0.1
       },
       "content": {
        "cell": "5683d4a6-3bdb-44ea-8a8e-6203da028f73",
        "part": "whole"
       },
       "id": "e3a7924f-b4ad-4919-b97c-a9f0da0027ec"
      }
     }
    },
    "2e7deda1-5486-4b26-8e0a-c91e4c88dbe8": {
     "id": "2e7deda1-5486-4b26-8e0a-c91e4c88dbe8",
     "prev": "67a167dd-f578-4c00-9a52-77864d640afa",
     "regions": {
      "eb91815b-1df2-4bfb-b2d9-b47359f388f3": {
       "attrs": {
        "height": 0.8,
        "width": 0.8,
        "x": 0.1,
        "y": 0.1
       },
       "content": {
        "cell": "2b936ae8-a540-4353-8b1d-42f7a3bdc763",
        "part": "whole"
       },
       "id": "eb91815b-1df2-4bfb-b2d9-b47359f388f3"
      }
     }
    },
    "35c31f44-06e2-4d75-a9b7-0c168d125d04": {
     "id": "35c31f44-06e2-4d75-a9b7-0c168d125d04",
     "prev": "8b46588c-ad23-4509-b67d-62702ed7afd1",
     "regions": {
      "82c3daba-b8de-42a1-b157-7274603802ae": {
       "attrs": {
        "height": 0.8,
        "width": 0.8,
        "x": 0.1,
        "y": 0.1
       },
       "content": {
        "cell": "35e93b3d-957c-4833-a2a5-b980ecffa5b1",
        "part": "whole"
       },
       "id": "82c3daba-b8de-42a1-b157-7274603802ae"
      }
     }
    },
    "3671ddb9-95b3-4245-b062-03cc90ea386d": {
     "id": "3671ddb9-95b3-4245-b062-03cc90ea386d",
     "prev": "3c3ef584-2982-4a35-afcf-4772c65dc2ac",
     "regions": {
      "faddc9ae-ef33-4d8e-a04e-e9f73ea0310e": {
       "attrs": {
        "height": 0.8,
        "width": 0.8,
        "x": 0.1,
        "y": 0.1
       },
       "content": {
        "cell": "bea98316-c64e-4810-b176-ed4947524f8c",
        "part": "whole"
       },
       "id": "faddc9ae-ef33-4d8e-a04e-e9f73ea0310e"
      }
     }
    },
    "37edb96d-7d51-438f-bd46-fc06e161e205": {
     "id": "37edb96d-7d51-438f-bd46-fc06e161e205",
     "prev": "58980228-1ba8-4ba6-89d3-dd7694662786",
     "regions": {
      "d1ee61d0-5e72-4925-b975-1cc103761137": {
       "attrs": {
        "height": 0.8,
        "width": 0.8,
        "x": 0.1,
        "y": 0.1
       },
       "content": {
        "cell": "b0fc1861-b979-45c5-abd0-3b05200de3b6",
        "part": "whole"
       },
       "id": "d1ee61d0-5e72-4925-b975-1cc103761137"
      }
     }
    },
    "3a9ce2a4-6dd4-463e-8d2d-4aa731447f39": {
     "id": "3a9ce2a4-6dd4-463e-8d2d-4aa731447f39",
     "prev": "0aa8229e-9b5c-4f49-bd1e-34de4cd2e82f",
     "regions": {
      "80f94dd5-569c-4105-9db9-746bc3a0d979": {
       "attrs": {
        "height": 0.8,
        "width": 0.8,
        "x": 0.1,
        "y": 0.1
       },
       "content": {
        "cell": "d3d6e29a-a939-4ab4-95e0-5645d4eb97a4",
        "part": "whole"
       },
       "id": "80f94dd5-569c-4105-9db9-746bc3a0d979"
      }
     }
    },
    "3c3ef584-2982-4a35-afcf-4772c65dc2ac": {
     "id": "3c3ef584-2982-4a35-afcf-4772c65dc2ac",
     "prev": "523566b9-8158-4001-91b2-f7d1d61ec04b",
     "regions": {
      "8182730f-8099-4a3f-815d-c92171a084a7": {
       "attrs": {
        "height": 0.8,
        "width": 0.8,
        "x": 0.1,
        "y": 0.1
       },
       "content": {
        "cell": "2ff35469-eeef-46b0-8b36-f2b6d4580bd4",
        "part": "whole"
       },
       "id": "8182730f-8099-4a3f-815d-c92171a084a7"
      }
     }
    },
    "3e8e0818-4535-4e50-b8da-423cfa6bda87": {
     "id": "3e8e0818-4535-4e50-b8da-423cfa6bda87",
     "prev": "bff971e4-b2b6-497d-8f6b-6401514ee2ca",
     "regions": {
      "859f95ab-5314-4f50-9fc8-7f8a76741c82": {
       "attrs": {
        "height": 0.8,
        "width": 0.8,
        "x": 0.1,
        "y": 0.1
       },
       "content": {
        "cell": "0893c4bd-30b9-4137-bc19-c40d5def546a",
        "part": "whole"
       },
       "id": "859f95ab-5314-4f50-9fc8-7f8a76741c82"
      }
     }
    },
    "430a8f03-8947-469c-a376-2f271448284d": {
     "id": "430a8f03-8947-469c-a376-2f271448284d",
     "prev": "ae384cc7-844b-4a3a-816d-4275e60a5020",
     "regions": {
      "cc346300-13a7-4c57-9eea-13d379d8f845": {
       "attrs": {
        "height": 0.8,
        "width": 0.8,
        "x": 0.1,
        "y": 0.1
       },
       "content": {
        "cell": "3b3885c1-a497-4d41-bb48-76a6d8b43a62",
        "part": "whole"
       },
       "id": "cc346300-13a7-4c57-9eea-13d379d8f845"
      }
     }
    },
    "43517c80-f987-4261-bad2-6844f9f11a43": {
     "id": "43517c80-f987-4261-bad2-6844f9f11a43",
     "prev": "02225e5f-f35d-40ef-8f23-5431b19121ab",
     "regions": {
      "386e1c27-adc8-4888-b278-a730e1a06a1b": {
       "attrs": {
        "height": 0.8,
        "width": 0.8,
        "x": 0.1,
        "y": 0.1
       },
       "content": {
        "cell": "c34d5c93-c65c-4e47-8c92-b38faead2dc2",
        "part": "whole"
       },
       "id": "386e1c27-adc8-4888-b278-a730e1a06a1b"
      }
     }
    },
    "466c6928-dc5e-4aeb-abad-2dbb2c797793": {
     "id": "466c6928-dc5e-4aeb-abad-2dbb2c797793",
     "prev": "01ab9067-898c-46a1-91d9-18ca4fe5a937",
     "regions": {
      "dadc7530-a88a-474c-93b1-a6b13fdeb671": {
       "attrs": {
        "height": 0.8,
        "width": 0.8,
        "x": 0.1,
        "y": 0.1
       },
       "content": {
        "cell": "07dd10e2-514b-4435-afa4-cab572e54611",
        "part": "whole"
       },
       "id": "dadc7530-a88a-474c-93b1-a6b13fdeb671"
      }
     }
    },
    "523566b9-8158-4001-91b2-f7d1d61ec04b": {
     "id": "523566b9-8158-4001-91b2-f7d1d61ec04b",
     "prev": "db6c2c84-14f3-4a3f-972c-ea1e9b45b091",
     "regions": {
      "fa40db73-7f38-419f-b6d1-2d0c9854ad3d": {
       "attrs": {
        "height": 0.8,
        "width": 0.8,
        "x": 0.1,
        "y": 0.1
       },
       "content": {
        "cell": "9c7b5502-7d21-45ef-9801-c8ab89c0cb1b",
        "part": "whole"
       },
       "id": "fa40db73-7f38-419f-b6d1-2d0c9854ad3d"
      }
     }
    },
    "5342b691-167b-4e0f-a28f-aee2f74648b3": {
     "id": "5342b691-167b-4e0f-a28f-aee2f74648b3",
     "prev": "9750cf96-7612-4159-bac1-bf26fe2f60c8",
     "regions": {
      "8bf6c96e-7113-4293-9db9-3999fd5dc82b": {
       "attrs": {
        "height": 0.8,
        "width": 0.8,
        "x": 0.1,
        "y": 0.1
       },
       "content": {
        "cell": "21eb3ee8-f72c-4842-a2b2-98bc6b4b06b2",
        "part": "whole"
       },
       "id": "8bf6c96e-7113-4293-9db9-3999fd5dc82b"
      }
     }
    },
    "5494c0f6-12d4-4627-9481-26c7858f8f09": {
     "id": "5494c0f6-12d4-4627-9481-26c7858f8f09",
     "prev": "3671ddb9-95b3-4245-b062-03cc90ea386d",
     "regions": {
      "8f4923d7-89d2-4193-a542-786412d24121": {
       "attrs": {
        "height": 0.8,
        "width": 0.8,
        "x": 0.1,
        "y": 0.1
       },
       "content": {
        "cell": "47413f67-a333-4cd6-8a6e-6b268aa4f4ff",
        "part": "whole"
       },
       "id": "8f4923d7-89d2-4193-a542-786412d24121"
      }
     }
    },
    "57d8f821-fdaf-412d-bc5c-fbaf939e7850": {
     "id": "57d8f821-fdaf-412d-bc5c-fbaf939e7850",
     "prev": "5342b691-167b-4e0f-a28f-aee2f74648b3",
     "regions": {
      "595c1191-37e3-41c2-8807-172c5221490d": {
       "attrs": {
        "height": 0.8,
        "width": 0.8,
        "x": 0.1,
        "y": 0.1
       },
       "content": {
        "cell": "885a45ac-f069-4988-b245-fcd79646e17f",
        "part": "whole"
       },
       "id": "595c1191-37e3-41c2-8807-172c5221490d"
      }
     }
    },
    "58980228-1ba8-4ba6-89d3-dd7694662786": {
     "id": "58980228-1ba8-4ba6-89d3-dd7694662786",
     "prev": "ee0491f8-b146-4b0e-99d3-ceb5eb2f3a1d",
     "regions": {
      "c5224b5d-aad4-4862-a3d1-7e6996d3d33d": {
       "attrs": {
        "height": 0.8,
        "width": 0.8,
        "x": 0.1,
        "y": 0.1
       },
       "content": {
        "cell": "8972370e-3b2e-4fe5-b7d5-e6f410f4df68",
        "part": "whole"
       },
       "id": "c5224b5d-aad4-4862-a3d1-7e6996d3d33d"
      }
     }
    },
    "58fe1e15-bd81-4c14-8c10-08606b7f56ae": {
     "id": "58fe1e15-bd81-4c14-8c10-08606b7f56ae",
     "prev": "8511eb84-692c-4a63-b3c3-7e1f86c137bd",
     "regions": {
      "c29ef705-df31-4240-987b-1697100d6ae4": {
       "attrs": {
        "height": 0.8,
        "width": 0.8,
        "x": 0.1,
        "y": 0.1
       },
       "content": {
        "cell": "b5e81c61-d695-4fc4-b784-45ed41026d4a",
        "part": "whole"
       },
       "id": "c29ef705-df31-4240-987b-1697100d6ae4"
      }
     }
    },
    "6156681f-3fe2-4d80-aab1-f7c28e200404": {
     "id": "6156681f-3fe2-4d80-aab1-f7c28e200404",
     "prev": "c17f7347-3cbe-420c-a499-3131e4eaac59",
     "regions": {
      "28d9588e-1085-432e-9b58-6e28c4d7c74f": {
       "attrs": {
        "height": 0.8,
        "width": 0.8,
        "x": 0.1,
        "y": 0.1
       },
       "content": {
        "cell": "3dbf6370-0a3a-44be-ade7-2a32586e4508",
        "part": "whole"
       },
       "id": "28d9588e-1085-432e-9b58-6e28c4d7c74f"
      }
     }
    },
    "67a167dd-f578-4c00-9a52-77864d640afa": {
     "id": "67a167dd-f578-4c00-9a52-77864d640afa",
     "prev": "b7ce05ff-6ab9-49ba-9235-05d97e6d8b19",
     "regions": {
      "b3a441dc-47d2-402e-b9fe-68a0472d5670": {
       "attrs": {
        "height": 0.8,
        "width": 0.8,
        "x": 0.1,
        "y": 0.1
       },
       "content": {
        "cell": "a67a0f57-b7bb-4ad2-89a8-f53f514d52d5",
        "part": "whole"
       },
       "id": "b3a441dc-47d2-402e-b9fe-68a0472d5670"
      }
     }
    },
    "76cecc6a-4ff3-4f36-9fcd-dc72da22db7a": {
     "id": "76cecc6a-4ff3-4f36-9fcd-dc72da22db7a",
     "prev": "107cd2c7-0a77-4fd7-922b-56df6615dcca",
     "regions": {
      "3d9e9ca1-88f1-4d57-b1ce-1cd3377e1f1e": {
       "attrs": {
        "height": 0.8,
        "width": 0.8,
        "x": 0.1,
        "y": 0.1
       },
       "content": {
        "cell": "c3f25ce7-4ac2-4e7e-ae0d-0d354b7aa34a",
        "part": "whole"
       },
       "id": "3d9e9ca1-88f1-4d57-b1ce-1cd3377e1f1e"
      }
     }
    },
    "7a3d7039-5de1-4759-9129-49437077ec67": {
     "id": "7a3d7039-5de1-4759-9129-49437077ec67",
     "prev": "76cecc6a-4ff3-4f36-9fcd-dc72da22db7a",
     "regions": {
      "f8ee8b52-b882-4e27-b1e2-4db18e65b256": {
       "attrs": {
        "height": 0.8,
        "width": 0.8,
        "x": 0.1,
        "y": 0.1
       },
       "content": {
        "cell": "4a0d9ca6-f3a4-453d-b52e-ad5d17ca5883",
        "part": "whole"
       },
       "id": "f8ee8b52-b882-4e27-b1e2-4db18e65b256"
      }
     }
    },
    "7c9758fa-71de-4938-8eed-be5dabd2d61c": {
     "id": "7c9758fa-71de-4938-8eed-be5dabd2d61c",
     "prev": "3e8e0818-4535-4e50-b8da-423cfa6bda87",
     "regions": {
      "94b0287c-da12-4bf9-ab24-b6041cab0a0f": {
       "attrs": {
        "height": 0.8,
        "width": 0.8,
        "x": 0.1,
        "y": 0.1
       },
       "content": {
        "cell": "5e5e8200-af66-4ffa-85d8-0ca019d398d8",
        "part": "whole"
       },
       "id": "94b0287c-da12-4bf9-ab24-b6041cab0a0f"
      }
     }
    },
    "8511eb84-692c-4a63-b3c3-7e1f86c137bd": {
     "id": "8511eb84-692c-4a63-b3c3-7e1f86c137bd",
     "prev": "3a9ce2a4-6dd4-463e-8d2d-4aa731447f39",
     "regions": {
      "d512994f-a930-4cb5-9feb-0c9e9b3eca21": {
       "attrs": {
        "height": 0.8,
        "width": 0.8,
        "x": 0.1,
        "y": 0.1
       },
       "content": {
        "cell": "93a5d1f3-e3b5-4840-95c2-503725844dc3",
        "part": "whole"
       },
       "id": "d512994f-a930-4cb5-9feb-0c9e9b3eca21"
      }
     }
    },
    "863c2f5d-5ed6-4abd-9212-ac3aa08b7c2d": {
     "id": "863c2f5d-5ed6-4abd-9212-ac3aa08b7c2d",
     "prev": "fa1e9266-57b6-41c8-9ad2-05119a8154fa",
     "regions": {
      "2efc3ace-624d-49f2-8602-18d3ce4fd9d1": {
       "attrs": {
        "height": 0.8,
        "width": 0.8,
        "x": 0.1,
        "y": 0.1
       },
       "content": {
        "cell": "1c22acff-5c31-4b42-a557-2be121021d1e",
        "part": "whole"
       },
       "id": "2efc3ace-624d-49f2-8602-18d3ce4fd9d1"
      }
     }
    },
    "8a00b47c-c1da-479f-b5e8-16224b1bc1ad": {
     "id": "8a00b47c-c1da-479f-b5e8-16224b1bc1ad",
     "prev": "c372f9ff-ce00-4768-8a0a-cb894e0fa65d",
     "regions": {
      "88f7e3bd-c1f1-4783-aa29-4b3871ed83c9": {
       "attrs": {
        "height": 0.8,
        "width": 0.8,
        "x": 0.1,
        "y": 0.1
       },
       "content": {
        "cell": "4bcabd6c-13d5-4a8e-a4cf-46d12550458b",
        "part": "whole"
       },
       "id": "88f7e3bd-c1f1-4783-aa29-4b3871ed83c9"
      }
     }
    },
    "8b46588c-ad23-4509-b67d-62702ed7afd1": {
     "id": "8b46588c-ad23-4509-b67d-62702ed7afd1",
     "prev": "37edb96d-7d51-438f-bd46-fc06e161e205",
     "regions": {
      "6e4458c9-28eb-4025-8ac9-d7fc0ffb8fee": {
       "attrs": {
        "height": 0.8,
        "width": 0.8,
        "x": 0.1,
        "y": 0.1
       },
       "content": {
        "cell": "575abe68-ac1a-489a-8b14-aef861c188e3",
        "part": "whole"
       },
       "id": "6e4458c9-28eb-4025-8ac9-d7fc0ffb8fee"
      }
     }
    },
    "92033db1-1754-4f97-a65f-d7fcd5e5ef5f": {
     "id": "92033db1-1754-4f97-a65f-d7fcd5e5ef5f",
     "prev": "7c9758fa-71de-4938-8eed-be5dabd2d61c",
     "regions": {
      "73b1869c-52b3-4f19-8918-f9d27d1ce96a": {
       "attrs": {
        "height": 0.8,
        "width": 0.8,
        "x": 0.1,
        "y": 0.1
       },
       "content": {
        "cell": "31f1dd1c-7279-4590-a581-4789248b9d95",
        "part": "whole"
       },
       "id": "73b1869c-52b3-4f19-8918-f9d27d1ce96a"
      }
     }
    },
    "9461c0f4-d87e-441d-915d-95c69b105ecb": {
     "id": "9461c0f4-d87e-441d-915d-95c69b105ecb",
     "prev": "92033db1-1754-4f97-a65f-d7fcd5e5ef5f",
     "regions": {
      "4dd7f598-05d6-4e49-883d-978967a66cc5": {
       "attrs": {
        "height": 0.8,
        "width": 0.8,
        "x": 0.1,
        "y": 0.1
       },
       "content": {
        "cell": "674e452c-7ba7-4c07-be5e-1e73553f8849",
        "part": "whole"
       },
       "id": "4dd7f598-05d6-4e49-883d-978967a66cc5"
      }
     }
    },
    "94c7954c-21de-44d2-81f0-746748834167": {
     "id": "94c7954c-21de-44d2-81f0-746748834167",
     "prev": "d806c3fb-ea3d-4b90-be5b-e78113b3e887",
     "regions": {
      "a853df0e-2a78-45f8-8841-72a437ba5d68": {
       "attrs": {
        "height": 0.8,
        "width": 0.8,
        "x": 0.1,
        "y": 0.1
       },
       "content": {
        "cell": "f581b3c5-979f-4ad2-95b7-e89dc86afee3",
        "part": "whole"
       },
       "id": "a853df0e-2a78-45f8-8841-72a437ba5d68"
      }
     }
    },
    "94c969b1-892d-4f1a-a832-8154573c893c": {
     "id": "94c969b1-892d-4f1a-a832-8154573c893c",
     "prev": "94c7954c-21de-44d2-81f0-746748834167",
     "regions": {
      "c1ade563-9e9b-490c-970b-37faba235b7e": {
       "attrs": {
        "height": 0.8,
        "width": 0.8,
        "x": 0.1,
        "y": 0.1
       },
       "content": {
        "cell": "e965b847-7d60-48e2-b72f-972816a1e6fc",
        "part": "whole"
       },
       "id": "c1ade563-9e9b-490c-970b-37faba235b7e"
      }
     }
    },
    "9750cf96-7612-4159-bac1-bf26fe2f60c8": {
     "id": "9750cf96-7612-4159-bac1-bf26fe2f60c8",
     "prev": "94c969b1-892d-4f1a-a832-8154573c893c",
     "regions": {
      "116d14ce-3f3d-44a1-aa86-61b1ac19354f": {
       "attrs": {
        "height": 0.8,
        "width": 0.8,
        "x": 0.1,
        "y": 0.1
       },
       "content": {
        "cell": "ddd82eaf-9b54-48bf-ac57-aa797a3a970a",
        "part": "whole"
       },
       "id": "116d14ce-3f3d-44a1-aa86-61b1ac19354f"
      }
     }
    },
    "a40bc8a7-660a-4478-8071-b97c5127c4b5": {
     "id": "a40bc8a7-660a-4478-8071-b97c5127c4b5",
     "prev": "863c2f5d-5ed6-4abd-9212-ac3aa08b7c2d",
     "regions": {
      "929e10a6-a0b0-4d31-99b1-311fcfc150a1": {
       "attrs": {
        "height": 0.8,
        "width": 0.8,
        "x": 0.1,
        "y": 0.1
       },
       "content": {
        "cell": "d7d32de7-bcdd-486d-b6c9-d5caad1164e3",
        "part": "whole"
       },
       "id": "929e10a6-a0b0-4d31-99b1-311fcfc150a1"
      }
     }
    },
    "ae384cc7-844b-4a3a-816d-4275e60a5020": {
     "id": "ae384cc7-844b-4a3a-816d-4275e60a5020",
     "prev": "26984d6c-6cdd-4fb6-a80c-b16f643b3802",
     "regions": {
      "b7a26fcd-98a6-4c24-893f-14ab3d6257bb": {
       "attrs": {
        "height": 0.8,
        "width": 0.8,
        "x": 0.1,
        "y": 0.1
       },
       "content": {
        "cell": "ddc73611-ffe2-434e-b3bd-cd417ef42b68",
        "part": "whole"
       },
       "id": "b7a26fcd-98a6-4c24-893f-14ab3d6257bb"
      }
     }
    },
    "b248eaf4-2e85-4c32-8f88-7b2ef510ee7c": {
     "id": "b248eaf4-2e85-4c32-8f88-7b2ef510ee7c",
     "prev": null,
     "regions": {
      "729796eb-5023-4fc8-b32f-83045cda3258": {
       "attrs": {
        "height": 0.8,
        "width": 0.8,
        "x": 0.1,
        "y": 0.1
       },
       "content": {
        "cell": "dad3a857-8628-4c15-a8ad-312792cb88ac",
        "part": "whole"
       },
       "id": "729796eb-5023-4fc8-b32f-83045cda3258"
      }
     }
    },
    "b7ce05ff-6ab9-49ba-9235-05d97e6d8b19": {
     "id": "b7ce05ff-6ab9-49ba-9235-05d97e6d8b19",
     "prev": "fd5b9f11-7cb4-4280-8955-7da1f2a0eafd",
     "regions": {
      "44f843a2-f9a7-4c01-be36-f2b39de5a725": {
       "attrs": {
        "height": 0.8,
        "width": 0.8,
        "x": 0.1,
        "y": 0.1
       },
       "content": {
        "cell": "852d31b9-64ee-4906-8865-dc217141338a",
        "part": "whole"
       },
       "id": "44f843a2-f9a7-4c01-be36-f2b39de5a725"
      }
     }
    },
    "bff971e4-b2b6-497d-8f6b-6401514ee2ca": {
     "id": "bff971e4-b2b6-497d-8f6b-6401514ee2ca",
     "prev": "7a3d7039-5de1-4759-9129-49437077ec67",
     "regions": {
      "07dd02d3-5ac3-4d96-9291-c3870d15f11e": {
       "attrs": {
        "height": 0.8,
        "width": 0.8,
        "x": 0.1,
        "y": 0.1
       },
       "content": {
        "cell": "31a44e48-3de3-4fa2-9c03-2063209cce11",
        "part": "whole"
       },
       "id": "07dd02d3-5ac3-4d96-9291-c3870d15f11e"
      }
     }
    },
    "c17f7347-3cbe-420c-a499-3131e4eaac59": {
     "id": "c17f7347-3cbe-420c-a499-3131e4eaac59",
     "prev": "57d8f821-fdaf-412d-bc5c-fbaf939e7850",
     "regions": {
      "7d4b25fd-aa9a-4d62-8181-05324639ff0d": {
       "attrs": {
        "height": 0.8,
        "width": 0.8,
        "x": 0.1,
        "y": 0.1
       },
       "content": {
        "cell": "35043c9c-279e-47cd-b82f-9dae8c5f9fec",
        "part": "whole"
       },
       "id": "7d4b25fd-aa9a-4d62-8181-05324639ff0d"
      }
     }
    },
    "c372f9ff-ce00-4768-8a0a-cb894e0fa65d": {
     "id": "c372f9ff-ce00-4768-8a0a-cb894e0fa65d",
     "prev": "35c31f44-06e2-4d75-a9b7-0c168d125d04",
     "regions": {
      "c3931b7b-0a33-46e0-a5b6-6b33b0075fd5": {
       "attrs": {
        "height": 0.8,
        "width": 0.8,
        "x": 0.1,
        "y": 0.1
       },
       "content": {
        "cell": "6dccff7c-9bb1-447a-9692-656ca1687626",
        "part": "whole"
       },
       "id": "c3931b7b-0a33-46e0-a5b6-6b33b0075fd5"
      }
     }
    },
    "d806c3fb-ea3d-4b90-be5b-e78113b3e887": {
     "id": "d806c3fb-ea3d-4b90-be5b-e78113b3e887",
     "prev": "094d2d0d-c7e5-40bc-bed7-bd80198e8e18",
     "regions": {
      "8ec4249f-2827-4eb0-bb27-152d4dea703f": {
       "attrs": {
        "height": 0.8,
        "width": 0.8,
        "x": 0.1,
        "y": 0.1
       },
       "content": {
        "cell": "25b7da30-19eb-4326-ba15-d969f9c1ad12",
        "part": "whole"
       },
       "id": "8ec4249f-2827-4eb0-bb27-152d4dea703f"
      }
     }
    },
    "db6c2c84-14f3-4a3f-972c-ea1e9b45b091": {
     "id": "db6c2c84-14f3-4a3f-972c-ea1e9b45b091",
     "prev": "ff25a0ae-0958-4983-b72b-6d655554983e",
     "regions": {
      "33e20b90-5ef8-482a-af30-6ebe50fa5247": {
       "attrs": {
        "height": 0.8,
        "width": 0.8,
        "x": 0.1,
        "y": 0.1
       },
       "content": {
        "cell": "b2282939-76b5-4358-8caf-bda59cd4dfc8",
        "part": "whole"
       },
       "id": "33e20b90-5ef8-482a-af30-6ebe50fa5247"
      }
     }
    },
    "de950ae7-a7c1-424c-afe2-42f481db181e": {
     "id": "de950ae7-a7c1-424c-afe2-42f481db181e",
     "prev": "58fe1e15-bd81-4c14-8c10-08606b7f56ae",
     "regions": {
      "157e2366-91bc-4374-b005-296b72401f19": {
       "attrs": {
        "height": 0.8,
        "width": 0.8,
        "x": 0.1,
        "y": 0.1
       },
       "content": {
        "cell": "6eff5466-e51a-40e9-b5d6-0e511d329721",
        "part": "whole"
       },
       "id": "157e2366-91bc-4374-b005-296b72401f19"
      }
     }
    },
    "dfaeb098-c3a9-4980-ae35-70f9b6296a7d": {
     "id": "dfaeb098-c3a9-4980-ae35-70f9b6296a7d",
     "prev": "a40bc8a7-660a-4478-8071-b97c5127c4b5",
     "regions": {
      "ff8a9509-83fc-43b8-b85d-05642f796426": {
       "attrs": {
        "height": 0.8,
        "width": 0.8,
        "x": 0.1,
        "y": 0.1
       },
       "content": {
        "cell": "139cbba6-15fb-4eb9-b2d8-a25bdbf3a874",
        "part": "whole"
       },
       "id": "ff8a9509-83fc-43b8-b85d-05642f796426"
      }
     }
    },
    "ee0491f8-b146-4b0e-99d3-ceb5eb2f3a1d": {
     "id": "ee0491f8-b146-4b0e-99d3-ceb5eb2f3a1d",
     "prev": "0c50d9ca-fef0-4e5c-8a4e-f18d1c2dbb9e",
     "regions": {
      "7e1317fc-37fb-47f2-9822-1b464ab3a0f1": {
       "attrs": {
        "height": 0.8,
        "width": 0.8,
        "x": 0.1,
        "y": 0.1
       },
       "content": {
        "cell": "93b648ee-643e-46b2-a289-f6b562875bc4",
        "part": "whole"
       },
       "id": "7e1317fc-37fb-47f2-9822-1b464ab3a0f1"
      }
     }
    },
    "fa1e9266-57b6-41c8-9ad2-05119a8154fa": {
     "id": "fa1e9266-57b6-41c8-9ad2-05119a8154fa",
     "prev": "1d02d174-1ae1-4900-bb8e-92083b3f723b",
     "regions": {
      "642cb521-a4bf-4bdf-94e4-c4e1db951bed": {
       "attrs": {
        "height": 0.8,
        "width": 0.8,
        "x": 0.1,
        "y": 0.1
       },
       "content": {
        "cell": "7bcdf43b-5617-4e59-b3d7-0c3706c527f1",
        "part": "whole"
       },
       "id": "642cb521-a4bf-4bdf-94e4-c4e1db951bed"
      }
     }
    },
    "fd5b9f11-7cb4-4280-8955-7da1f2a0eafd": {
     "id": "fd5b9f11-7cb4-4280-8955-7da1f2a0eafd",
     "prev": "8a00b47c-c1da-479f-b5e8-16224b1bc1ad",
     "regions": {
      "bafa4b52-8d5e-4af8-9b56-5cfb28caec46": {
       "attrs": {
        "height": 0.8,
        "width": 0.8,
        "x": 0.1,
        "y": 0.1
       },
       "content": {
        "cell": "d110e3f4-e865-4198-8668-17bd4f1e9540",
        "part": "whole"
       },
       "id": "bafa4b52-8d5e-4af8-9b56-5cfb28caec46"
      }
     }
    },
    "ff25a0ae-0958-4983-b72b-6d655554983e": {
     "id": "ff25a0ae-0958-4983-b72b-6d655554983e",
     "prev": "6156681f-3fe2-4d80-aab1-f7c28e200404",
     "regions": {
      "4536da0e-7194-48f1-a4eb-13fb6d74ecf5": {
       "attrs": {
        "height": 0.8,
        "width": 0.8,
        "x": 0.1,
        "y": 0.1
       },
       "content": {
        "cell": "72beaf23-bcc8-4311-b327-b67a3b07436a",
        "part": "whole"
       },
       "id": "4536da0e-7194-48f1-a4eb-13fb6d74ecf5"
      }
     }
    }
   },
   "themes": {}
  }
 },
 "nbformat": 4,
 "nbformat_minor": 4
}
