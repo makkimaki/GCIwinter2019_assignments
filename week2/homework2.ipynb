{
 "cells": [
  {
   "cell_type": "markdown",
   "metadata": {},
   "source": [
    "# 課題（ilect上で提出してください）"
   ]
  },
  {
   "cell_type": "markdown",
   "metadata": {},
   "source": [
    "## Pandasを使ったデータ加工処理"
   ]
  },
  {
   "cell_type": "markdown",
   "metadata": {},
   "source": [
    "以下のサイトにあるデータ（ワインの品質）が分析対象になります。\n",
    "\n",
    "http://archive.ics.uci.edu/ml/machine-learning-databases/wine-quality/winequality-red.csv\n",
    "\n",
    "このデータを読み込み、カラムのtotal sulfur dioxideについて分位点で5つに分割し、それぞれのグループについてpHの平均値を算出してください。さらに、この5つのグループのそれぞれのpHの平均値の中で、1番小さい平均値と1番大きな平均値を足して、その合計値を返り値とするような関数を作成してください。"
   ]
  },
  {
   "cell_type": "markdown",
   "metadata": {},
   "source": [
    "提出するときは、以下の点に注意してください。  \n",
    ">- 以下の関数homeworkの!!WRITE ME!!に処理を書いてください。(**「!!WRITE ME!!」は消して、記入してください。**)\n",
    ">- 実際の提出は記述されたhomework関数全てになり、**提出場所はilect上にあるHomeworkからSaveしてください。Solutionに関数を貼り付けます。**   \n",
    ">- 返り値が数値型(1つ)になるようにしてください。\n",
    ">- 関数は1つにまとめてください。"
   ]
  },
  {
   "cell_type": "code",
   "execution_count": null,
   "metadata": {
    "collapsed": true,
    "jupyter": {
     "outputs_hidden": true
    }
   },
   "outputs": [],
   "source": [
    "# common\n",
    "import numpy as np\n",
    "import pandas as pd\n",
    "from pandas import DataFrame\n",
    "\n",
    "# URL\n",
    "url_winequality_data = \"http://archive.ics.uci.edu/ml/machine-learning-databases/wine-quality/winequality-red.csv\""
   ]
  },
  {
   "cell_type": "code",
   "execution_count": null,
   "metadata": {
    "collapsed": true,
    "jupyter": {
     "outputs_hidden": true
    }
   },
   "outputs": [],
   "source": [
    "# working place. everything \n",
    "def homework(url_winequality_data):\n",
    "    !!WRITE ME!!\n",
    "    return my_result  "
   ]
  },
  {
   "cell_type": "code",
   "execution_count": null,
   "metadata": {
    "collapsed": true,
    "jupyter": {
     "outputs_hidden": true
    }
   },
   "outputs": [],
   "source": []
  }
 ],
 "metadata": {
  "anaconda-cloud": {},
  "kernelspec": {
   "display_name": "Python 3",
   "language": "python",
   "name": "python3"
  },
  "language_info": {
   "codemirror_mode": {
    "name": "ipython",
    "version": 3
   },
   "file_extension": ".py",
   "mimetype": "text/x-python",
   "name": "python",
   "nbconvert_exporter": "python",
   "pygments_lexer": "ipython3",
   "version": "3.6.9"
  }
 },
 "nbformat": 4,
 "nbformat_minor": 4
}
