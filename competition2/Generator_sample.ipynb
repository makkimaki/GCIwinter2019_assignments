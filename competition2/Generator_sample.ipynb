{
 "nbformat": 4,
 "nbformat_minor": 2,
 "metadata": {
  "language_info": {
   "name": "python",
   "codemirror_mode": {
    "name": "ipython",
    "version": 3
   },
   "version": "3.7.3-final"
  },
  "orig_nbformat": 2,
  "file_extension": ".py",
  "mimetype": "text/x-python",
  "name": "python",
  "npconvert_exporter": "python",
  "pygments_lexer": "ipython3",
  "version": 3,
  "kernelspec": {
   "name": "python37364bitbaseconda59306d4282b84693a42abfd5247d4d1d",
   "display_name": "Python 3.7.3 64-bit ('base': conda)"
  }
 },
 "cells": [
  {
   "cell_type": "code",
   "execution_count": 2,
   "metadata": {},
   "outputs": [],
   "source": [
    "import pandas as pd\n",
    "addpath = \"./input/\"\n",
    "df = pd.read_csv(addpath + \"train.csv\")"
   ]
  },
  {
   "cell_type": "code",
   "execution_count": 5,
   "metadata": {},
   "outputs": [
    {
     "data": {
      "text/html": "<div>\n<style scoped>\n    .dataframe tbody tr th:only-of-type {\n        vertical-align: middle;\n    }\n\n    .dataframe tbody tr th {\n        vertical-align: top;\n    }\n\n    .dataframe thead th {\n        text-align: right;\n    }\n</style>\n<table border=\"1\" class=\"dataframe\">\n  <thead>\n    <tr style=\"text-align: right;\">\n      <th></th>\n      <th>fixed acidity</th>\n      <th>volatile acidity</th>\n      <th>citric acid</th>\n      <th>residual sugar</th>\n      <th>chlorides</th>\n      <th>free sulfur dioxide</th>\n      <th>total sulfur dioxide</th>\n      <th>density</th>\n      <th>pH</th>\n      <th>sulphates</th>\n      <th>alcohol</th>\n      <th>quality</th>\n    </tr>\n  </thead>\n  <tbody>\n    <tr>\n      <th>0</th>\n      <td>9.8</td>\n      <td>0.63</td>\n      <td>0.24</td>\n      <td>2.4</td>\n      <td>0.078</td>\n      <td>6.1</td>\n      <td>32.6</td>\n      <td>0.9997</td>\n      <td>3.08</td>\n      <td>0.57</td>\n      <td>9.4</td>\n      <td>5.1</td>\n    </tr>\n    <tr>\n      <th>1</th>\n      <td>6.1</td>\n      <td>0.34</td>\n      <td>0.25</td>\n      <td>1.8</td>\n      <td>0.084</td>\n      <td>4.0</td>\n      <td>28.0</td>\n      <td>0.9941</td>\n      <td>3.36</td>\n      <td>0.44</td>\n      <td>10.2</td>\n      <td>4.8</td>\n    </tr>\n    <tr>\n      <th>2</th>\n      <td>7.1</td>\n      <td>0.43</td>\n      <td>0.17</td>\n      <td>1.8</td>\n      <td>0.083</td>\n      <td>27.2</td>\n      <td>51.3</td>\n      <td>0.9941</td>\n      <td>3.51</td>\n      <td>0.63</td>\n      <td>10.4</td>\n      <td>5.5</td>\n    </tr>\n    <tr>\n      <th>3</th>\n      <td>8.6</td>\n      <td>0.47</td>\n      <td>0.27</td>\n      <td>1.9</td>\n      <td>0.058</td>\n      <td>17.5</td>\n      <td>37.6</td>\n      <td>0.9907</td>\n      <td>3.16</td>\n      <td>0.85</td>\n      <td>11.1</td>\n      <td>6.1</td>\n    </tr>\n    <tr>\n      <th>4</th>\n      <td>6.9</td>\n      <td>0.41</td>\n      <td>0.30</td>\n      <td>8.9</td>\n      <td>0.084</td>\n      <td>25.9</td>\n      <td>45.4</td>\n      <td>0.9861</td>\n      <td>3.35</td>\n      <td>0.64</td>\n      <td>10.2</td>\n      <td>5.6</td>\n    </tr>\n  </tbody>\n</table>\n</div>",
      "text/plain": "   fixed acidity  volatile acidity  citric acid  residual sugar  chlorides  \\\n0            9.8              0.63         0.24             2.4      0.078   \n1            6.1              0.34         0.25             1.8      0.084   \n2            7.1              0.43         0.17             1.8      0.083   \n3            8.6              0.47         0.27             1.9      0.058   \n4            6.9              0.41         0.30             8.9      0.084   \n\n   free sulfur dioxide  total sulfur dioxide  density    pH  sulphates  \\\n0                  6.1                  32.6   0.9997  3.08       0.57   \n1                  4.0                  28.0   0.9941  3.36       0.44   \n2                 27.2                  51.3   0.9941  3.51       0.63   \n3                 17.5                  37.6   0.9907  3.16       0.85   \n4                 25.9                  45.4   0.9861  3.35       0.64   \n\n   alcohol  quality  \n0      9.4      5.1  \n1     10.2      4.8  \n2     10.4      5.5  \n3     11.1      6.1  \n4     10.2      5.6  "
     },
     "execution_count": 5,
     "metadata": {},
     "output_type": "execute_result"
    }
   ],
   "source": [
    "df.head()"
   ]
  },
  {
   "cell_type": "code",
   "execution_count": 4,
   "metadata": {},
   "outputs": [
    {
     "name": "stdout",
     "output_type": "stream",
     "text": "{'fixed acidity': 1, '9.8': 9, '6.1': 9, '7.1': 28, '8.6': 17, '6.9': 35, '8.0': 24, '7.8': 25, '7.7': 38, '7.5': 28, '7.6': 27, '10.6': 8, '10.3': 10, '9.7': 9, '11.3': 9, '7.4': 28, '6.2': 12, '8.7': 18, '6.3': 18, '8.2': 26, '6.0': 11, '7.3': 33, '9.1': 9, '12.0': 5, '11.7': 6, '7.0': 20, '7.9': 26, '5.6': 5, '6.8': 21, '6.4': 12, '10.1': 9, '8.9': 16, '11.0': 4, '9.4': 13, '5.2': 6, '10.0': 22, '10.8': 5, '8.8': 18, '7.2': 40, '5.0': 3, '9.0': 21, '6.6': 15, '11.1': 2, '6.5': 17, '8.4': 18, '11.5': 7, '10.2': 7, '8.1': 21, '9.6': 10, '11.9': 5, '13.0': 2, '9.9': 14, '8.3': 19, '12.6': 7, '5.5': 2, '15.1': 1, '8.5': 19, '12.3': 5, '5.9': 4, '5.1': 3, '11.2': 3, '9.3': 10, '13.1': 2, '6.7': 24, '11.6': 6, '10.4': 13, '10.9': 4, '9.5': 10, '9.2': 8, '11.4': 6, '10.5': 6, '5.4': 3, '13.4': 1, '5.8': 3, '10.7': 11, '5.3': 1, '12.2': 2, '12.5': 2, '5.7': 2, '15.0': 1, '12.4': 3, '12.1': 2, '13.5': 1, '4.9': 2, '15.7': 1, '12.9': 1, '12.8': 2, '11.8': 1, '15.5': 1, '13.3': 1, '13.2': 2, '15.4': 1, '12.7': 1, '15.9': 1}\n"
    }
   ],
   "source": [
    "with open(addpath + \"train.csv\") as file:\n",
    "    \n",
    "    # Skip the column names\n",
    "    # file.readline()\n",
    "\n",
    "    # Initialize an empty dictionary: counts_dict\n",
    "    counts_dict = {}\n",
    "\n",
    "    # Process only the first 1000 rows\n",
    "    for j in range(1000):\n",
    "\n",
    "        # Split the current line into a list: line\n",
    "        line = file.readline().split(\",\")\n",
    "\n",
    "        # Get the value for the first column: first_col\n",
    "        first_col = line[0]\n",
    "\n",
    "        # If the column value is in the dict, increment its value\n",
    "        if first_col in counts_dict.keys():\n",
    "            counts_dict[first_col] += 1\n",
    "\n",
    "        # Else, add to the dict and set value to 1\n",
    "        else:\n",
    "            counts_dict[first_col] = 1\n",
    "\n",
    "print(counts_dict)\n",
    "\n",
    "\n"
   ]
  },
  {
   "cell_type": "code",
   "execution_count": null,
   "metadata": {},
   "outputs": [],
   "source": []
  }
 ]
}