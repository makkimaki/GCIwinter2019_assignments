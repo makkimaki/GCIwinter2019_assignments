port{
 "cells": [
  {
   "cell_type": "markdown",
   "metadata": {},
   "source": [
    "# 第2回データ分析コンペティション ： Red Wine Quality Prediction"
   ]
  },
  {
   "cell_type": "markdown",
   "metadata": {},
   "source": [
    "## 背景\n",
    "\n",
    "機械学習・データ分析について説明するときによく使われる有名なデータセットの例として、Wine Qualityデータセットが挙げられます。このデータセットには、ワインの成分データとそのワインの評価(0-10の11段階)が含まれており、コンペティションでは前者をもとに後者を予測する、というように用いられます。今回分析するRed WIne Qualityデータセットは、このWine QualityデータセットのうちRed Wineだけを取り出したものです。\n",
    "\n",
    "Red Wine Qualityデータセットは Kaggle(https://www.kaggle.com/uciml/red-wine-quality-cortez-et-al-2009) にあります。ただし、今回配布するデータセットはこれを少し加工して、ワインの評価を0.0-10.0の101段階にしてあります。\n",
    "\n",
    "第1回コンペではbeginner.ipynbおよびprofessional.ipynbが用意されていました。必要な前処理がすべて含まれており、実行するだけで提出用データを生成することができました。今回はこのようなガイドがなく、この作業を最初から自分の力で進めていく必要があります。第1回で学んだデータ分析の基礎を思い出しながら、ゆっくり取り組んでいただければと思います。"
   ]
  },
  {
   "cell_type": "markdown",
   "metadata": {},
   "source": [
    "## 目標\n",
    "\n",
    "ワインの成分データから、そのワインの品質を予測してください。データセットのqualityカラムが目的変数、それ以外が説明変数となります。  \n",
    "qualityカラムは0.0-10.0の101段階評価になっていますが、これを回帰分析し、予測値は0.0-10.0の連続値としてください。"
   ]
  },
  {
   "cell_type": "markdown",
   "metadata": {},
   "source": [
    "## データ\n",
    "\n",
    "訓練データセットに含まれるカラムを以下に示します。(テストデータセットにはqualityカラムは含まれません。)\n",
    "\n",
    "カラム名|説明\n",
    "---|---\n",
    "fixed acidity | 酒石酸濃度\n",
    "volatile acidity | 酢酸濃度\n",
    "citric acid | クエン酸濃度\n",
    "residual sugar | 発酵後に残っている砂糖の量\n",
    "chlorides | ワインに含まれる塩分量\n",
    "free sulfur dioxide | 遊離二酸化硫黄の量\n",
    "total sulfur dioxide | (すべての)二酸化硫黄の量\n",
    "density | ワインの密度\n",
    "pH | ワインのpH\n",
    "sulphates | ワインに含まれる硫酸塩の量\n",
    "alcohol | アルコールの度数\n",
    "quality | ワインの評価"
   ]
  },
  {
   "cell_type": "markdown",
   "metadata": {},
   "source": [
    "## 評価指標\n",
    "\n",
    "今回は予測データと正解データの平均二乗誤差(Mean Squared Error; MSE)を評価指標とします。正解データを$y_1, \\dots, y_n$、対応する予測データを$\\hat{y}_1, \\dots, \\hat{y}_n$とすると、MSEは次の式で表されます。\n",
    "\n",
    "\\begin{eqnarray*}\n",
    "\\text{MSE} = \\frac{1}{n}\\Sigma_{i=1}^n (y_i - \\hat{y}_i)^2\n",
    "\\end{eqnarray*}\n",
    "\n",
    "このMSEが小さいほど予測の精度が高い、ということになります。\n",
    "\n",
    "MSEを計算する関数を自分で定義しても良いですが、scikit-learnで実装されているもの(sklearn.metrics.mean_squared_error)を利用することもできます。"
   ]
  },
  {
   "cell_type": "markdown",
   "metadata": {},
   "source": [
    "## 提出\n",
    "\n",
    "予測は第1回と同様にiLect上で提出してください。提出するデータの形式は以下のようなCSVファイルとなります。\n",
    "\n",
    "> quality  \n",
    "> 5.000  \n",
    "> 5.000  \n",
    "> 5.000  \n",
    "> ...\n",
    "\n",
    "submission.csvが正しいデータ形式になっているので、それを参考にしてください。\n",
    "もし提出されたデータがこの形式に従っていなかった場合、スコアが999になります。\n",
    "\n",
    "提出回数は無制限ですが、採点は1日3回、以下の時間に行われます。\n",
    "\n",
    "- 12:00\n",
    "- 18:00\n",
    "- 24:00(0:00)\n"
   ]
  },
  {
   "cell_type": "markdown",
   "metadata": {},
   "source": [
    "## タイムライン\n",
    "\n",
    "- 開始日： 2020年1月15日 (水)講義終了後\n",
    "- 終了日： 2020年2月4日 (火) 23:59:59\n",
    "- 順位発表： 2020年2月5日 (水)"
   ]
  },
  {
   "cell_type": "markdown",
   "metadata": {},
   "source": [
    "## ルール\n",
    "\n",
    "- **外部データ使用の禁止**  \n",
    "　データ分析においては、EDA（第1回コンペティションの**beginner.ipynb**にて簡単に用語解説しています）やモデルの学習など全ての段階において外部データを使用しないでください。つまり今回のコンペティションでは、input/train.csvおよびinput/test.csvのみを使用して、データ分析に取り組んでください。  \n",
    "\n",
    "- **Hand-Labelingの禁止**  \n",
    "　モデルによってではなく手作業で予測を作成することは**Hand-Labeling**と呼ばれ、ほとんどのデータ分析コンペティションでは禁止されています。今回のコンペティションでもこのルールを採用し、全てあるいは一部のテストデータに対してHand-Labelingをすることを禁止します。予測は訓練データやテストデータ以外のデータに対しても適用可能なモデルによって自動で為されるようにしてください。\n",
    "\n",
    "- **再現性の確保**  \n",
    "　可能な限り予測の再現性を確保してください。再現性を保つためには、**乱数生成においてシード値を指定すること**が必要条件です。用いられている機械学習ライブラリscikit-learnでは、一般的に乱数生成のシード値はrandom_stateという引数やアトリビュートで指定することとされています。\n",
    "\n",
    "- **Private Sharingの禁止**  \n",
    "　データ分析コンペティションでは一般的に、公平性の観点から個人的な情報共有は厳しく規制されています。多くの場合、チームの結成を規定の方法で宣言した場合のみチーム内での情報共有が許可されます。チーム外の個人的な情報共有は**Private Sharing**と呼ばれ、固く禁じられています。今回のコンペティションでも同様にPrivate Sharingは禁止いたします。"
   ]
  },
  {
   "cell_type": "code",
   "execution_count": null,
   "metadata": {},
   "outputs": [],
   "source": []
  }
 ],
 "metadata": {
  "kernelspec": {
   "display_name": "Python 3",
   "language": "python",
   "name": "python3"
  },
  "language_info": {
   "codemirror_mode": {
    "name": "ipython",
    "version": 3
   },
   "file_extension": ".py",
   "mimetype": "text/x-python",
   "name": "python",
   "nbconvert_exporter": "python",
   "pygments_lexer": "ipython3",
   "version": "3.7.3"
  }
 },
 "nbformat": 4,
 "nbformat_minor": 4
}
