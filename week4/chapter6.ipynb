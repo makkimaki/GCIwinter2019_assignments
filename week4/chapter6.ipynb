{
 "cells": [
  {
   "cell_type": "markdown",
   "metadata": {
    "nbpresent": {
     "id": "af88da20-0f51-483e-bd72-afc896a9da05"
    }
   },
   "source": [
    "# 6 統計・確率"
   ]
  },
  {
   "cell_type": "markdown",
   "metadata": {},
   "source": [
    "本章前半では、客観的にデータを分析し、データの傾向を明らかにする手法として、統計解析の基本について学びます。統計解析は「記述統計」と「推測統計」に大きく分かれますが、本講座ではこのうち「記述統計」と、「推測統計」の1つである回帰を主に取り上げます。\n",
    "解説で使うデータとして、カリフォルニア大学の学生の属性データをダウンロードし、以前学んだPythonの色々なライブラリを使いながら学んでいきます。\n",
    "\n",
    "ゴール：csvファイルのデータを読み込み、基礎的な統計量の算出と可視化、単回帰分析ができる"
   ]
  },
  {
   "cell_type": "markdown",
   "metadata": {},
   "source": [
    "後半部分では、確率と統計を使った考え方と計算テクニックを身に付けていきましょう。確率と統計について、数式も含めて解説してきますので、数学的なバッググラウンドがない方にとっては難しいかもしれません。その場合は、それぞれの基本的な概念と計算方法の特徴をざっくりと把握しておくようにしてください。\n",
    "\n",
    "世の中の様々な現象は確率的に生じていると仮定することで、それらの現象を数式的に表現することができます。具体的には、確率変数や確率分布、そして、確率論の3種の神器といわれる大数（たいすう）の法則と中心極限定理について学びます。ちなみに、3つ目は大偏差原理といって、確率的に起こりにくい非常にまれなケースを扱ったり、偏差が大きい部分の挙動を表すための原理ですが、本書の範囲を大きく超えるため、割愛します。他、統計的推定や検定についても学びます。\n",
    "\n",
    "本講座で今後登場する機械学習は、これらの確率論や統計学の概念が基礎となって成り立っています。まだ確率統計の基礎を学んでいない方は、参考文献も使いながら、しっかりと学んでいきましょう。\n",
    "\n",
    "ゴール：確率と統計の基礎的な理解と計算ができる"
   ]
  },
  {
   "cell_type": "markdown",
   "metadata": {},
   "source": [
    "- **[6.1 統計解析の種類](#6.1-統計解析の種類)** \n",
    "    - [6.1.1 記述統計と推論統計](#6.1.1-記述統計と推論統計)\n",
    "    - [6.1.2 この章で使うライブラリのインポート](#6.1.2-この章で使うライブラリのインポート)\n",
    "<br><br>\n",
    "- **[6.2 データの読み込みと対話](#6.2-データの読み込みと対話)**\n",
    "    - [6.2.1 インターネットなどで配布されている対象データの読み込み](#6.2.1-インターネットなどで配布されている対象データの読み込み)\n",
    "    - [6.2.2 データの読み込みと確認](#6.2.2-データの読み込みと確認)　\n",
    "    - [6.2.3 データの性質を確認する](#6.2.3-データの性質を確認する)　\n",
    "    - [6.2.4 量的データと質的データ](#6.2.4-量的データと質的データ)\n",
    "<br><br>\n",
    "- **[6.3 記述統計](#6.3-記述統計)**\n",
    "    - [6.3.1 ヒストグラム](#6.3.1-ヒストグラム)\n",
    "    - [6.3.2 平均、中央値、最頻値](#6.3.2-平均、中央値、最頻値)\n",
    "    - [6.3.3 分散と標準偏差](#6.3.3-分散と標準偏差)\n",
    "    - [6.3.4 要約統計量とパーセンタイル値](#6.3.4-要約統計量とパーセンタイル値)\n",
    "    - [6.3.5 箱ひげ図](#6.3.5-箱ひげ図)\n",
    "    - [6.3.6 変動係数](#6.3.6-変動係数)\n",
    "    - [6.3.7 散布図と相関係数](#6.3.7-散布図と相関係数)\n",
    "    - [6.3.8 すべての変数のヒストグラムゃ散布図を描く](#6.3.8-すべての変数のヒストグラムや散布図を描く)\n",
    "<br><br>\n",
    "\n",
    "- **[6.4 単回帰分析](#6.4-単回帰分析)**\n",
    "    - [6.4.1 線形単回帰分析](#6.4.1-線形単回帰分析)\n",
    "    - [6.4.2 決定係数](#6.4.2-決定係数)\n",
    "<br><br>\n",
    "\n",
    "- **[6.5 総合問題](#6.2-総合問題)**\n",
    "    - [■総合問題6-1 統計の基礎と可視化](#■総合問題6-1-統計の基礎と可視化)\n",
    "    - [■総合問題6-2 ローレンツ曲線とジニ係数](#■総合問題6-2-ローレンツ曲線とジニ係数)"
   ]
  },
  {
   "cell_type": "markdown",
   "metadata": {},
   "source": [
    "- **[6.6 確率と統計を学ぶ準備](#6.6-確率と統計を学ぶ準備)** \n",
    "    - [6.6.1 この章の前提知識](#6.6.1-この章の前提知識)\n",
    "    - [6.6.2 この章で使うライブラリのインポート](#6.6.2-この章で使うライブラリのインポート)\n",
    "<br><br>\n",
    "- **[6.7 確率](#6.7-確率)**\n",
    "    - [6.7.1 数学的確率](#6.7.1-数学的確率)\n",
    "    - [6.7.2 統計的確率](#6.7.2-統計的確率)\n",
    "    - [6.7.3 条件付き確率と乗法定理](#6.7.3-条件付き確率と乗法定理)\n",
    "    - [6.7.4 独立と従属](#6.7.4-独立と従属)\n",
    "    - [6.7.5 ベイズの定理](#6.7.5-ベイズの定理)\n",
    "<br><br>\n",
    "- **[6.8 確率変数と確率分布](#6.8-確率変数と確率分布)**\n",
    "    - [6.8.1 確率変数、確率関数、分布関数、期待値](#6.8.1-確率変数、確率関数、分布関数、期待値)\n",
    "    - [6.8.2 さまざまな分布関数](#6.8.2-さまざまな分布関数)\n",
    "    - [6.8.3 カーネル密度関数](#6.8.3-カーネル密度関数)\n",
    "<br><br> \n",
    "- **[6.9 （応用）多次元確率分布](#6.9-（応用）多次元確率分布)**\n",
    "    - [6.9.1 同時確率関数と周辺確率関数](#6.9.1-同時確率関数と周辺確率関数)\n",
    "    - [6.9.2 条件付き確率関数と条件付き期待値](#6.9.2-条件付き確率関数と条件付き期待値)\n",
    "    - [6.9.3 独立の定義と連続分布](#6.9.3-独立の定義と連続分布)\n",
    "<br><br> \n",
    "- **[6.10 推計統計学](#6.10-推計統計学)**\n",
    "    - [6.10.1 大数の法則](#6.10.1-大数の法則)\n",
    "    - [6.10.2 中心極限定理](#6.10.2-中心極限定理)\n",
    "    - [6.10.3 標本分布](#6.10.3-標本分布)\n",
    "<br><br> \n",
    "- **[6.11 統計的推定](#6.11-統計的推定)**\n",
    "    - [6.11.1 推定量と点推定](#6.11.1-推定量と点推定)\n",
    "    - [6.11.2 不偏性と一致性](#6.11.2-不偏性と一致性)\n",
    "    - [6.11.3 区間推定](#6.11.3-区間推定)\n",
    "    - [6.11.4 推定量を求める](#6.11.4-推定量を求める)\n",
    "<br><br> \n",
    "- **[6.12 統計的検定](#6.12-統計的検定)**\n",
    "    - [6.12.1 検定](#6.12.1-検定)\n",
    "    - [6.12.2 第1種の過誤と第2種の過誤](#6.12.2-第1種の過誤と第2種の過誤)\n",
    "    - [6.12.3 ビッグデータに対する検定の注意](#6.12.3-ビッグデータに対する検定の注意)\n",
    "<br><br>\n",
    "- **[6.13 総合問題](#6.13-総合問題)**\n",
    "    - [■総合問題6-3 検定](#■総合問題6-3-検定)"
   ]
  },
  {
   "cell_type": "markdown",
   "metadata": {},
   "source": [
    "***"
   ]
  },
  {
   "cell_type": "markdown",
   "metadata": {},
   "source": [
    "## 6.1 統計解析の種類\n",
    "\n",
    "キーワード：記述統計、推論統計、平均、標準偏差、単回帰分析、Numpy、Scipy、Pandas、Matplotlib、Scikit-learn\n",
    "\n",
    "本講座ではPythonといくつかのライブラリについて、基本的な使い方を説明してきました。この章からは、それらを活用して、実際のデータと対話していきます。\n",
    "\n",
    "### 6.1.1 記述統計と推論統計\n",
    "統計解析は、データを客観的に分析し、そのデータに含まれる傾向を明らかにする方法です。その手法は、「記述統計」と「推測統計」に大きく分かれます。\n",
    "\n",
    "\n",
    "**記述統計** \n",
    "\n",
    "記述統計は、集めたデータの特徴をつかんだり分かりやすく整理したり見やすくしたりする方法です。たとえば、平均や標準偏差などを計算してデータの特徴を計算したり、データを分類したり、図やグラフなどを用いて表現したりするのが記述統計です。この章で詳しく扱います。\n",
    "\n",
    "**推論統計**\n",
    "\n",
    "集めたデータから推論する方法です。たとえば、日本の全人口の年齢別の身長を調べたいとします。全員の身長を調べるのは困難です。そこでランダムに抽出した一部の人たちだけを対象に身長を調べ、そこから母集団である日本人の身長を推論します。このように、部分的なデータしかないものから確率分布に基づいたモデルを用いて精密な解析をし、全体を推論して統計を求めるのが、推論統計の考え方です。\n",
    "推論統計は過去のデータから未来予測するときにも使われます。この章では、推論統計の基礎である単回帰分析について説明します。より複雑な推論統計については、次の章で扱います。\n",
    "\n",
    "### 6.1.2 この章で使うライブラリのインポート\n",
    "\n",
    "この章では、以前紹介した各種ライブラリを使います。次のようにインポートしていることを前提として進めていきます。"
   ]
  },
  {
   "cell_type": "code",
   "execution_count": null,
   "metadata": {
    "scrolled": true
   },
   "outputs": [],
   "source": [
    "# 以下のライブラリを使うので、あらかじめ読み込んでおいてください\n",
    "import numpy as np\n",
    "import scipy as sp\n",
    "import pandas as pd\n",
    "from pandas import Series, DataFrame\n",
    "\n",
    "# 可視化ライブラリ\n",
    "import matplotlib.pyplot as plt\n",
    "import matplotlib as mpl\n",
    "import seaborn as sns\n",
    "sns.set()\n",
    "%matplotlib inline\n",
    "\n",
    "# 小数第3位まで表示\n",
    "%precision 3"
   ]
  },
  {
   "cell_type": "markdown",
   "metadata": {},
   "source": [
    "また、「6.4　単回帰分析」では、Scikit-learnの線形回帰分析用のライブラリである`sklearn.linear_model`を使います。scikit-learnは、機械学習の基本的なライブラリです。「3.4」でも改めて説明しますが、次のようにインポートします。"
   ]
  },
  {
   "cell_type": "code",
   "execution_count": null,
   "metadata": {},
   "outputs": [],
   "source": [
    "from sklearn import linear_model"
   ]
  },
  {
   "cell_type": "markdown",
   "metadata": {
    "nbpresent": {
     "id": "aa08360f-e7dd-4647-bbfb-cadd5f19af31"
    }
   },
   "source": [
    "## 6.2 データの読み込みと対話\n",
    "キーワード：ディレクトリ（フォルダ）操作、CSV、量的データ、質的データ、平均"
   ]
  },
  {
   "cell_type": "markdown",
   "metadata": {},
   "source": [
    "データを解析するには、対象のデータをPythonで扱えるように読み込む必要があります。\n",
    "データはCSV形式データやデータベースとして扱うのが一般的です。またインターネットには、研究用のデータが圧縮されたZIP形式で提供されているものもあります。\n",
    "まずは、こうしたデータを読み込む方法から習得しましょう。\n",
    "\n",
    "### 6.2.1 インターネットなどで配布されている対象データの読み込み\n",
    "\n",
    "ここでは対象のデータが、ZIP形式ファイルとしてWebで公開されており、それをダウンロードして利用するという状況を想定します。ブラウザからあらかじめダウンロードしておくこともできますが、Pythonでは、直接読み込んでデータを保存することもできるため、本書では、Pythonのプログラムでダウンロードする方法を説明します。\n",
    "\n",
    "#### カレントディレクトリの確認\n",
    "\n",
    "まずは、ダウンロードするファイルを置くディレクトリ（フォルダ）を準備します。Jupyter環境で「`pwd`」と入力して実行すると、現在、どこのディレクトリが操作対象になっているのかを確認できます。操作対象となっているディレクトリのことをカレントディレクトリと言います（Jupyter環境ではなく、コマンドプロンプトやシェルなどでも、同じように操作対象のディレクトリをカレントディレクトリと言います）。\n",
    "\n",
    "なお、表示されるディレクトリの名前は、環境によって異なります。すなわち、実行例は、ここで提示しているものと違うかも知れませんが、結果が表示されていれば問題ありません。\n",
    "\n",
    "なお、「`pwd`」はPythonのプログラムではなく、シェルのコマンドです。Jupyter環境では、ひとつのセルに「`pwd`などのシェルのコマンド」と「Pythonのコマンド」を混ぜて書くことはできず、エラーとなるので注意してください。"
   ]
  },
  {
   "cell_type": "code",
   "execution_count": null,
   "metadata": {
    "scrolled": true
   },
   "outputs": [],
   "source": [
    "pwd"
   ]
  },
  {
   "cell_type": "markdown",
   "metadata": {},
   "source": [
    "#### ディレクトリの作成と移動\n",
    "\n",
    "確認したら、ここにダウンロードするディレクトリを作りましょう。Jupyter環境のセルに次のように入力して実行すると、上記で確認したディレクトリの下にchap6という名前のフォルダが作られます。\n"
   ]
  },
  {
   "cell_type": "code",
   "execution_count": null,
   "metadata": {},
   "outputs": [],
   "source": [
    "mkdir chap6"
   ]
  },
  {
   "cell_type": "markdown",
   "metadata": {},
   "source": [
    "ディレクトリを作成したら、そこに移動しましょう。セルに次のように`cd`コマンドを入力して実行することで、いま作成したchap6ディレクトリに移動できます。\n"
   ]
  },
  {
   "cell_type": "code",
   "execution_count": null,
   "metadata": {},
   "outputs": [],
   "source": [
    "cd ./chap6"
   ]
  },
  {
   "cell_type": "markdown",
   "metadata": {},
   "source": [
    "#### サンプルデータのダウンード"
   ]
  },
  {
   "cell_type": "markdown",
   "metadata": {},
   "source": [
    "次に、このディレクトリにサンプルデータをダウンロードします。ここでは、カリフォルニア大学アーバイン校（UCI）が提供しているサンプルデータを利用します。\n",
    "ここではファイルをPythonのプログラムでダウンロードすることにします。下記に示すコードを順にJupyter環境のセルに入力して順に実行すると、いま作成したchap6ディレクトリにダウンロードしたデータが保存されます。\n"
   ]
  },
  {
   "cell_type": "markdown",
   "metadata": {},
   "source": [
    "#### ZIPファイルとファイルをダウンロードするためのライブラリ\n",
    "\n",
    "まずは、ZIPファイルやファイルをダウンロードするためのライブラリをインポートします。ZIPファイルを読み込んだり、Webから直接ダウンロードしたりするには、次のように「`requests`」「`zipfile`」「`io`」の3つのライブラリを使います。\n",
    "\n",
    "- `requests` … Webのデータを送受信します\n",
    "- `zipfile` … ZIP形式ファイルを読み書きします\n",
    "- `io` … ファイルを読み書きします"
   ]
  },
  {
   "cell_type": "code",
   "execution_count": null,
   "metadata": {},
   "outputs": [],
   "source": [
    "# webからデータを取得したり、zipファイルを扱うためのライブラリ\n",
    "import requests, zipfile\n",
    "from io import StringIO\n",
    "import io"
   ]
  },
  {
   "cell_type": "markdown",
   "metadata": {},
   "source": [
    "#### ZIPファイルをダウンロードして展開する\n",
    "\n",
    "ここで利用するファイルは、次のファイルです。ZIP形式でまとめられています。\n",
    "\n",
    "http://archive.ics.uci.edu/ml/machine-learning-databases/00356/student.zip\n",
    "\n",
    "このファイルをダウンロードして展開するには、次のPythonプログラムをJupyter環境のセルに入力して実行します。すると、現在のカレントディレクトリに展開されます。ここまでの操作では、カレントディレクトリをchap6に移動しているので、そのディレクトリに展開されるはずです。なお、LinuxやMacのターミナルを使われている方は、wgetコマンドでデータのダウンロードが可能です。\n"
   ]
  },
  {
   "cell_type": "code",
   "execution_count": null,
   "metadata": {},
   "outputs": [],
   "source": [
    "# データがあるurlの指定\n",
    "url = 'http://archive.ics.uci.edu/ml/machine-learning-databases/00356/student.zip'\n",
    "\n",
    "# データをurlから取得する\n",
    "r = requests.get(url, stream=True)\n",
    "\n",
    "# zipfileを読み込み展開する\n",
    "z = zipfile.ZipFile(io.BytesIO(r.content))\n",
    "z.extractall()"
   ]
  },
  {
   "cell_type": "markdown",
   "metadata": {},
   "source": [
    "Webからデータをダウンロードするには、`requests.get`を使います。このダウンロードしたデータを、`io.BytesIO`を使ってバイナリストリームとして`ZipFile`オブジェクトに与え、最後に`extractall()`を実行すると、ダウンロードしたZIP形式データを展開できます。\n",
    "ダウンロードが終了したら、データがちゃんとダウンロードされ、展開されているかチェックしましょう。次のように`ls`コマンドを実行すると、カレントディレクトリのファイル一覧を表示できます。"
   ]
  },
  {
   "cell_type": "code",
   "execution_count": null,
   "metadata": {},
   "outputs": [],
   "source": [
    "ls"
   ]
  },
  {
   "cell_type": "markdown",
   "metadata": {},
   "source": [
    "無事に展開されると、「student.txt」「student-mat.csv」「student-merge.R」「student-por.csv」という4つのファイルが配置されます。本書では、これらのデータのうち、「student-mat.csv」と「student-por.csv」の2つのデータを使います。"
   ]
  },
  {
   "cell_type": "markdown",
   "metadata": {},
   "source": [
    "\n",
    "### 6.2.2 データの読み込みと確認\n",
    "\n",
    "ダウンロードしたデータのうち、まずは、「student-mat.csv」が、どのようなデータであるのかを観察していきます（後の練習問題で「student-por.csv」と合わせたデータを扱います）。\n",
    "\n",
    "####  データをDataFrameとして読み込む\n",
    "まずは、対象のデータを読み取り、Pandasの`DataFrame`オブジェクトとして扱います。次のようにpd.read_csvの引数にファイル名student-mat.csvファイルを記載して実行すると、そのファイルが読み込まれ、`DataFrame`オブジェクトとなります。"
   ]
  },
  {
   "cell_type": "code",
   "execution_count": null,
   "metadata": {},
   "outputs": [],
   "source": [
    "student_data_math = pd.read_csv('student-mat.csv')"
   ]
  },
  {
   "cell_type": "markdown",
   "metadata": {},
   "source": [
    "#### データを確認する\n",
    "\n",
    "データを読み込んだら、実際のデータの中身を見てみましょう。`head`を使うと、データの先頭から一部をサンプルとして参照できます。括弧のなかに何も指定しない場合は先頭の5行が表示されますが、括弧のなかに行数を指定した場合は、指定した行数だけ表示されます。たとえば、`head(10)`とすれば、10行分表示されます。"
   ]
  },
  {
   "cell_type": "code",
   "execution_count": null,
   "metadata": {},
   "outputs": [],
   "source": [
    "student_data_math.head()"
   ]
  },
  {
   "cell_type": "markdown",
   "metadata": {},
   "source": [
    "#### カンマで区切ってデータを読む\n",
    "\n",
    "データが入っているのはわかりますが、このままではデータが大変扱いにくいです。よくデータを見てみると、ダウンロードしたデータの区切り文字は「;」（セミコロン）となっています。ほとんどのCSV形式ファイルでは「,」（カンマ）がデータの区切り文字として使われるのが慣例なのですが、ダウンロードしたデータは「;」が区切りであるため、データの区切りを正しく識別できないので、このようにデータがつながってしまうのです。\n",
    "\n",
    "区切り文字を変えるには、`read＿csv`のバラメータとして「`sep='区切り文字'`」を指定します。「;」を区切り文字にするため、次のようにして、データを再度読み込みましょう。"
   ]
  },
  {
   "cell_type": "code",
   "execution_count": null,
   "metadata": {
    "nbpresent": {
     "id": "f581b3c5-979f-4ad2-95b7-e89dc86afee3"
    }
   },
   "outputs": [],
   "source": [
    "# データの読み込み\n",
    "# 区切りに\";\"がついているので注意\n",
    "student_data_math = pd.read_csv('student-mat.csv', sep=';')"
   ]
  },
  {
   "cell_type": "markdown",
   "metadata": {},
   "source": [
    "もう一度データを確認します。"
   ]
  },
  {
   "cell_type": "code",
   "execution_count": null,
   "metadata": {
    "nbpresent": {
     "id": "ddd82eaf-9b54-48bf-ac57-aa797a3a970a"
    }
   },
   "outputs": [],
   "source": [
    "# どんなデータがあるかざっと見る\n",
    "student_data_math.head()"
   ]
  },
  {
   "cell_type": "markdown",
   "metadata": {},
   "source": [
    "データが正しく区切られました。\n",
    "\n",
    "なお、read_csvの解説を見ると最初から「;」が設定されていることが多いのですが、まだ何も知らない見たこともないデータに対して、区切り文字を「;」にすればよいかどうかは、普通はわかりません。データ分析の実務では、試行錯誤をしながら区切り文字を探すことも多いので、今回は上記のような流れで実施してみました。\n",
    "\n",
    "なお、このread_csvについては、sep以外にもパラメータがいくつかあり、区切り文字のほか、データ名（アドレス含む）、ヘッダーがあるかないかを指定することもできます。どんなパラメータが設定できるのかは、次のように実行すると確認できます。"
   ]
  },
  {
   "cell_type": "code",
   "execution_count": null,
   "metadata": {},
   "outputs": [],
   "source": [
    "?pd.read_csv"
   ]
  },
  {
   "cell_type": "markdown",
   "metadata": {},
   "source": [
    "### 6.2.3 データの性質を確認する\n",
    "\n",
    "先ほど読み込んだデータを見てみると、`school`や`age`など学生の属性情報が入っているというのはわかります。しかし、いくつデータがあるのか、どんなデータの種類があるのかまだわかりません。\n",
    "\n",
    "#### データの個数や型を確認する\n",
    "次のように`info`を使うと、すべての変数について、nullでないデータの個数や変数の型がわかります。\n"
   ]
  },
  {
   "cell_type": "code",
   "execution_count": null,
   "metadata": {
    "nbpresent": {
     "id": "21eb3ee8-f72c-4842-a2b2-98bc6b4b06b2"
    }
   },
   "outputs": [],
   "source": [
    "# すべてのカラムの情報等チェック\n",
    "student_data_math.info()"
   ]
  },
  {
   "cell_type": "markdown",
   "metadata": {},
   "source": [
    "はじめに「`RangeIndex: 395 entries, 0 to 394`」とあり、395個データがあることがわかります。\n",
    "`non-null`は`null`でないデータを意味します。すべての変数について「`395 non-null`」となっているので、今回は`null`のデータは存在しないようです。\n",
    "\n",
    "\n",
    "#### ■コラム「変数」という用語について\n",
    "\n",
    "「変数」という言葉は、Pythonのプログラミングの世界と、データ解析の数学の世界で、どちらでも使います。文脈によって、どちらの意味なのかが違うので、混乱しないようにしましょう。\n",
    "\n",
    "- Pythonの変数：データを格納するための機能です。たとえば「変数`a`に代入する」などという使い方をします。\n",
    "- データ解析における変数：対象データにおいて変化する値を示したものです。実際の実データであったり、予測データであったりします。この章で後に出てきますが、「目的変数」や「説明変数」など、特別な用語で呼ばれるものもあります。\n",
    "\n",
    "すぐ上の文脈の「すべての変数について、`null`でないデータの個数や変数の型がわかります」という文脈は、「データ解析における変数」のほうを示しています。つまり、「`school`」「`sex`」「`age`」など、ラベル付けされた、それぞれのデータ列を指しています。\n",
    "\n",
    "\n",
    "\n",
    "#### ドキュメントでデータ項目を確認する\n",
    "さらにこのデータを理解していくために、このデータのカラムが一体何のデータなのか把握していきましょう。\n",
    "実は、ダウンロードしたデータのなかに含まれているstudent.txtファイルには、変数に関する詳しい情報が書かれています。シェルやコマンドライン等に慣れている人は、ここで**less ファイル名**や**cat ファイル名**でその中身を見ることができます。そうでなければ、テキストエディタなどで直接開いて確認するとよいでしょう。\n",
    "\n",
    "下記に、student.txtに記載されている内容を整理した情報を記載します。\n",
    "\n",
    "ここではstudent.txtからデータの意味を紐解いていますが、実際のビジネスの現場では、データに詳しい人から情報をもらったり、データの仕様書を読み解いて確認していく作業をすることで、データ項目を確認します。"
   ]
  },
  {
   "cell_type": "markdown",
   "metadata": {},
   "source": [
    "** データの属性説明 **\n",
    "\n",
    "1 school - 学校（binary: \"GP\" - Gabriel Pereira or \"MS\" - Mousinho da Silveira）<br>\n",
    "2 sex - 性（binary: \"F\" - female or \"M\" - male）<br>\n",
    "3 age - 年齢（numeric: from 15 to 22）<br>\n",
    "4 address - 住所のタイプ（binary: \"U\" - urban or \"R\" - rural）<br>\n",
    "5 famsize - 家族の人数（binary: \"LE3\" - less or equal to 3 or \"GT3\" - greater than 3）<br>\n",
    "6 Pstatus - 両親と同居しているかどうか（binary: \"T\" - living together or \"A\" - apart）<br>\n",
    "7 Medu - 母親の学歴（numeric: 0 - none,  1 - primary education（4th grade）, 2 ? 5th to 9th grade, 3 ? secondary education or 4 ? higher education）<br>\n",
    "8 Fedu - 父親の学歴（numeric: 0 - none,  1 - primary education（4th grade）, 2 ? 5th to 9th grade, 3 ? secondary education or 4 ? higher education）<br>\n",
    "9 Mjob - 母親の仕事（nominal: \"teacher\", \"health\" care related, civil \"services\"（e.g. administrative or police）, \"at_home\" or \"other\"）<br>\n",
    "10 Fjob - 父親の仕事（nominal: \"teacher\", \"health\" care related, civil \"services\"（e.g. administrative or police）, \"at_home\" or \"other\"）<br>\n",
    "11 reason - 学校を選んだ理由（nominal: close to \"home\", school \"reputation\", \"course\" preference or \"other\"）<br>\n",
    "12 guardian - 生徒の保護者（nominal: \"mother\", \"father\" or \"other\"）<br>\n",
    "13 traveltime - 通学時間（numeric: 1 - <15 min., 2 - 15 to 30 min., 3 - 30 min. to 1 hour, or 4 - >1 hour）<br>\n",
    "14 studytime - 週の勉強時間（numeric: 1 - <2 hours, 2 - 2 to 5 hours, 3 - 5 to 10 hours, or 4 - >10 hours）<br>\n",
    "15 failures - 過去のnumber of past class failures（numeric: n if 1<=n<3, else 4）<br>\n",
    "16 schoolsup - 追加の教育サポート（binary: yes or no）<br>\n",
    "17 famsup - 家族の教育サポート（binary: yes or no）<br>\n",
    "18 paid - 追加の有料クラス（Math or Portuguese）（binary: yes or no）<br>\n",
    "19 activities - 学校外の活動（binary: yes or no）<br>\n",
    "20 nursery - 保育園に通ったことがあるかどうか（binary: yes or no）<br>\n",
    "21 higher - 高い教育を受けたいかどうか（binary: yes or no）<br>\n",
    "22 internet - 家でインターネットのアクセスができるかどうか（binary: yes or no）<br>\n",
    "23 romantic - 恋愛関係（binary: yes or no）<br>\n",
    "24 famrel - 家族との関係性（numeric: from 1 - very bad to 5 - excellent）<br>\n",
    "25 freetime - 学校後の自由時間（numeric: from 1 - very low to 5 - very high）<br>\n",
    "26 goout - 友人と遊ぶかどうか（numeric: from 1 - very low to 5 - very high）<br>\n",
    "27 Dalc - 平日のアルコール摂取量（numeric: from 1 - very low to 5 - very high）<br>\n",
    "28 Walc - 週末のアルコール摂取量（numeric: from 1 - very low to 5 - very high）<br>\n",
    "29 health - 現在の健康状態（numeric: from 1 - very bad to 5 - very good）<br>\n",
    "30 absences - 学校の欠席数（numeric: from 0 to 93）<br>\n",
    "31 G1 - 一期の成績（numeric: from 0 to 20）<br>\n",
    "31 G2 - 二期の成績（numeric: from 0 to 20）<br>\n",
    "32 G3 - 最終の成績（numeric: from 0 to 20, output target）"
   ]
  },
  {
   "cell_type": "markdown",
   "metadata": {},
   "source": [
    "### 6.2.4 量的データと質的データ\n",
    "さて、上記のデータを見てみると、数字のデータがあったり、男女などの属性データがあったりします。\n",
    "\n",
    "データは基本的に、量的データと質的データの2つに分けることができます。集計やモデリングの際に気をつけて扱いましょう。\n",
    "\n",
    "・**量的データ**：四則演算を適用可能な連続値で表現されるデータであり、比率に意味がある。例）人数や金額などのデータ。\n",
    "\n",
    "・**質的データ**：四則演算を適用不可能な不連続のデータであり、状態を表現するために利用される。例）順位やカテゴリなどのデータ。\n",
    "\n",
    "\n",
    "#### 量的データと質的データの例\n",
    "次のコードは、先ほど読み込んだデータの中にある「性別」を指定しています。このデータは特に数値化されておらず、比較もできないので、質的データです。"
   ]
  },
  {
   "cell_type": "code",
   "execution_count": null,
   "metadata": {
    "nbpresent": {
     "id": "885a45ac-f069-4988-b245-fcd79646e17f"
    }
   },
   "outputs": [],
   "source": [
    "student_data_math['sex'].head()"
   ]
  },
  {
   "cell_type": "markdown",
   "metadata": {},
   "source": [
    "次のコードでは、データの列にある「欠席数」を指定しています。このデータは量的データです。"
   ]
  },
  {
   "cell_type": "code",
   "execution_count": null,
   "metadata": {},
   "outputs": [],
   "source": [
    "student_data_math['absences'].head()"
   ]
  },
  {
   "cell_type": "markdown",
   "metadata": {},
   "source": [
    "#### 軸別に平均値を求める\n",
    "\n",
    "ここで、前に学んだPandasのテクニックを使って、性別を軸にして、年齢の平均値をそれぞれ計算してみましょう。次のようにすれば求められます。"
   ]
  },
  {
   "cell_type": "code",
   "execution_count": null,
   "metadata": {
    "scrolled": true
   },
   "outputs": [],
   "source": [
    "student_data_math.groupby('sex')['age'].mean()"
   ]
  },
  {
   "cell_type": "markdown",
   "metadata": {},
   "source": [
    "簡単ではありましたが、データの中身についてカラムや、その数字等を見てきました。他にも、いろいろな視点でデータ集計ができるので、何か仮説を持って（男性の方がアルコール摂取量が多い、など）、その仮説があっているかどうか実装して確かめてみましょう。"
   ]
  },
  {
   "cell_type": "markdown",
   "metadata": {},
   "source": [
    ">**[やってみよう]**\n",
    ">\n",
    ">読み込んだデータを使って、いろいろな視点でデータ集計して、データと対話してみましょう。どんな仮説を考えますか。また、その仮説を確かめるために、どのような実装をしますか。"
   ]
  },
  {
   "cell_type": "markdown",
   "metadata": {},
   "source": [
    "## 6.3 記述統計\n",
    "キーワード：記述統計学、量的データ、質的データ、ヒストグラム、四分位範囲、要約統計量、平均、分散、標準偏差、変動係数、散布図、相関係数\n",
    "\n",
    "データの概要が分かったところで、本題の**記述統計**について学んでいきます。\n",
    "\n",
    "### 6.3.1 ヒストグラム\n",
    "まずは、このデータの中にある欠席数について考えてみることにします。`head`でサンプルを確認すると、10や2など、さまざまな値がありました。\n",
    "\n",
    "それぞれの値がいったいどれくらいあるのか観測するのが、次のヒストグラムです。「Matplotlibの基礎」で学んだMatplotlibを使って、`hist`でそのグラフを表示させます（ヒストグラムについては「2.5.5　ヒストグラム」も参考にしてください）。"
   ]
  },
  {
   "cell_type": "code",
   "execution_count": null,
   "metadata": {
    "scrolled": true
   },
   "outputs": [],
   "source": [
    "# histogram、データの指定\n",
    "plt.hist(student_data_math['absences'])\n",
    "\n",
    "# x軸とy軸のそれぞれのラベル\n",
    "plt.xlabel('absences')\n",
    "plt.ylabel('count')\n",
    "\n",
    "# グリッドをつける\n",
    "plt.grid(True)"
   ]
  },
  {
   "cell_type": "markdown",
   "metadata": {},
   "source": [
    "上記のヒストグラムを観察すると、0から10までの付近にデータが集中しているのがわかります。一方、70以上など（の数字）もあり、ロングテールな分布になっています。ロングテールとは、分布の裾が緩やかに減少しているような分布です。なお、上のような分布を「右に歪みのある分布」といい、見た目とは異なり、よく間違えられるので表現に注意しましょう。\n",
    "\n",
    "### 6.3.2 平均、中央値、最頻値\n",
    "このヒストグラムは、データの全体像を見る上では欠かせないものですが、どのような時にデータが偏っているといえるのかなどの情報は読み取れず、客観性が少し乏しくなります。そのため、次の要約統計量（中央値、平均、標準偏差など）について計算することで、データの傾向を数値化し、より客観的にデータを表現することができます。"
   ]
  },
  {
   "cell_type": "code",
   "execution_count": null,
   "metadata": {},
   "outputs": [],
   "source": [
    "# 平均値\n",
    "print('平均値：', student_data_math['absences'].mean())\n",
    "# 中央値：中央値でデータを分けると中央値の前後でデータ数が同じになる（データの真ん中の値）、外れ値の値に影響を受けにくい\n",
    "print('中央値：', student_data_math['absences'].median())\n",
    "# 最頻値：最も頻度が多い値\n",
    "print('最頻値：', student_data_math['absences'].mode())"
   ]
  },
  {
   "cell_type": "markdown",
   "metadata": {},
   "source": [
    "なお、平均値$\\overline{x}$の計算式は以下の通りです。ここで$x_i$を第$i$番目のデータ（値）とします。"
   ]
  },
  {
   "cell_type": "markdown",
   "metadata": {},
   "source": [
    "\\begin{eqnarray}\n",
    "\\overline{x}=\\frac{1}{n}\\sum^n_{i=1}x_i\n",
    "\\end{eqnarray}"
   ]
  },
  {
   "cell_type": "markdown",
   "metadata": {},
   "source": [
    "### 6.3.3 分散と標準偏差\n",
    "次に、このデータが散らばっているのか、それともまとまっている（平均付近に固まっている）のかを調べるのが分散です。分散の計算式は以下の通りです。分散は$\\sigma^2$と示すことが一般的です。"
   ]
  },
  {
   "cell_type": "markdown",
   "metadata": {},
   "source": [
    "\\begin{eqnarray}\n",
    "\\sigma^2 = \\frac{1}{n-1}\\sum^n_{i=1}(x_i-{\\overline{x}} )^2\n",
    "\\end{eqnarray}"
   ]
  },
  {
   "cell_type": "markdown",
   "metadata": {},
   "source": [
    "該当の変数を指定した後に、`var()`で計算できます。値が小さいほど、データの散らばりが少ないことを意味しています。"
   ]
  },
  {
   "cell_type": "code",
   "execution_count": null,
   "metadata": {},
   "outputs": [],
   "source": [
    "# 分散\n",
    "student_data_math['absences'].var()"
   ]
  },
  {
   "cell_type": "markdown",
   "metadata": {},
   "source": [
    "標準偏差は分散の平方根で、以下のようになります。標準偏差は$\\sigma$で示すことが一般的です。"
   ]
  },
  {
   "cell_type": "markdown",
   "metadata": {},
   "source": [
    "\\begin{eqnarray}\n",
    "\\sigma = \\sqrt{\\frac{1}{n-1}\\sum^n_{i=1}(x_i-{\\overline{x}} )^2}\n",
    "\\end{eqnarray}"
   ]
  },
  {
   "cell_type": "markdown",
   "metadata": {},
   "source": [
    "分散では、実際のデータのばらつきがどの程度かわかりません。なぜなら、上記で提示した分散の定義式を見るとわかるように、計算式で二乗しているためです。標準偏差にすれば、単位の次元が実際のデータと同じなので、以下の結果から±8日程度のばらつきがあることが分かります。標準偏差は`std()`で計算できます。"
   ]
  },
  {
   "cell_type": "code",
   "execution_count": null,
   "metadata": {},
   "outputs": [],
   "source": [
    "# 標準偏差 σ\n",
    "student_data_math['absences'].std()"
   ]
  },
  {
   "cell_type": "markdown",
   "metadata": {},
   "source": [
    "なお平方根は、`np.sqrt`で平方根の計算ができるので、以下の方法で計算しても同じです。"
   ]
  },
  {
   "cell_type": "code",
   "execution_count": null,
   "metadata": {},
   "outputs": [],
   "source": [
    "np.sqrt(student_data_math['absences'].var())"
   ]
  },
  {
   "cell_type": "markdown",
   "metadata": {},
   "source": [
    "### 6.3.4 要約統計量とパーセンタイル値\n",
    "これまで、1つ1つの統計量を見てきましたが、Pandasで読み込んだ`DataFrame`の`describe`メソッドを実行すると、これまで求めてきた統計量を、まとめて確認できます。\n",
    "`describe`メソッドでは、それぞれ順にデータ数、平均値、標準偏差、最小値、25、50、75パーセンタイル値、そして最大値を計算できます。\n",
    "なお「パーセンタイル値」とは、全体を100として小さい方から数えて何番になるのかを示す数値です。たとえば、10パーセンタイルは100個のデータのうち小さいほうから数えて10番目ということになります。50パーセンタイルだと50番目で真ん中の値となり、中央値になります（下図参照）。25%タイルと75%タイルはそれぞれ第1四分位点、第3四分位点とも呼びます。"
   ]
  },
  {
   "cell_type": "markdown",
   "metadata": {},
   "source": [
    "![comment](http://ghw.pfizer.co.jp/comedical/evaluation/images/img_relation_01.gif)"
   ]
  },
  {
   "cell_type": "markdown",
   "metadata": {},
   "source": [
    "参照URL：http://ghw.pfizer.co.jp/comedical/evaluation/images/img_relation_01.gif"
   ]
  },
  {
   "cell_type": "code",
   "execution_count": null,
   "metadata": {
    "nbpresent": {
     "id": "9c7b5502-7d21-45ef-9801-c8ab89c0cb1b"
    }
   },
   "outputs": [],
   "source": [
    "# 要約統計量\n",
    "student_data_math['absences'].describe()"
   ]
  },
  {
   "cell_type": "markdown",
   "metadata": {},
   "source": [
    "#### 四方位範囲を求める\n",
    "\n",
    "`describe`メソッドの結果は、`Series`オブジェクトに入ります。\n",
    "\n",
    "\n",
    "それぞれの要素は、`describe()[インデックス番号]`として取得できます。たとえば、平均値を示す`mean`の値は、`describe()[1]`、標準偏差を示す`std`の値は`describe()[2]`です。"
   ]
  },
  {
   "cell_type": "markdown",
   "metadata": {},
   "source": [
    "それぞれの要素を参照すれば、その値を使った計算ができます。たとえば、**四分位範囲**と呼ばれる75%タイルと25%タイルの差を計算したいときは、上から5番目と7番目の要素になるので、それらを使って次のように計算します。"
   ]
  },
  {
   "cell_type": "code",
   "execution_count": null,
   "metadata": {},
   "outputs": [],
   "source": [
    "# 四分位範囲(75%タイル ー 25%タイル)\n",
    "student_data_math['absences'].describe()[6] - student_data_math['absences'].describe()[4]"
   ]
  },
  {
   "cell_type": "markdown",
   "metadata": {},
   "source": [
    "#### 全列を対象とした結果を求める\n",
    "\n",
    "`describe`メソッドで列名や要素を指定せずに実行すると、すべての量的データの要約統計量を求めることができます。まとめて計算する場合は便利です。他、列を絞り込んで計算することもできます。"
   ]
  },
  {
   "cell_type": "code",
   "execution_count": null,
   "metadata": {
    "scrolled": true
   },
   "outputs": [],
   "source": [
    "# 要約統計量まとめて計算\n",
    "student_data_math.describe()"
   ]
  },
  {
   "cell_type": "markdown",
   "metadata": {},
   "source": [
    "### 6.3.5 箱ひげ図\n",
    "\n",
    "さて、これまで最大値、最小値、中央値、四分位範囲などを算出してきましたが、ただ数字を見ているだけでは、比較などが難しいので、それらをグラフ化してみましょう。そのときに使うのが、次の「箱ひげ図」です。\n",
    "\n",
    "下記の2つの例は、「1期目の成績G1」「欠席数」の箱ひげ図をそれぞれ描いたものです。特徴としてかなり異なるのがわかります。\n",
    "\n",
    "箱ひげ図は、箱の上底が第3四分位点、下底が第1四分位点、真ん中の線が中央値です。ヒゲの上端が最大値、下端が最小値です。これで扱うデータの範囲等がわかります。"
   ]
  },
  {
   "cell_type": "code",
   "execution_count": null,
   "metadata": {},
   "outputs": [],
   "source": [
    "# 箱ひげ図：G1\n",
    "plt.boxplot(student_data_math['G1'])\n",
    "plt.grid(True)"
   ]
  },
  {
   "cell_type": "code",
   "execution_count": null,
   "metadata": {
    "scrolled": true
   },
   "outputs": [],
   "source": [
    "# 箱ひげ図：欠席数\n",
    "plt.boxplot(student_data_math['absences'])\n",
    "plt.grid(True)"
   ]
  },
  {
   "cell_type": "markdown",
   "metadata": {},
   "source": [
    "なお、データに外れ値がある場合、それが省かれて、箱ひげ図が表示されるので注意しましょう。先ほどの欠席数`absences`を見ると、最大値が75なのに、グラフ上には出てきていないので、気づいている方もいるかもしません。外れ値はデフォルトで指定されており、それを取り除いた場合のグラフが表示されます。\n",
    "\n",
    "なお、外れ値は異常値ともいわれ、厳密な定義は特に決まっていません。各業界の慣習で決まることもあります。上記のグラフは外れ値を省略していますが、省かないときもあります。外れ値や異常値については、本書のレベルを超えてしまいますので、詳しくは割愛します。"
   ]
  },
  {
   "cell_type": "markdown",
   "metadata": {},
   "source": [
    "他の変数でも箱ひげ図が描けるので、やってみましょう。"
   ]
  },
  {
   "cell_type": "markdown",
   "metadata": {},
   "source": [
    ">**[やってみよう]**\n",
    ">\n",
    ">他の変数についても、箱ひげ図を表示させてみましょう。どんな図になっているでしょうか。そこから何かわかることがないか考察してみましょう。"
   ]
  },
  {
   "cell_type": "markdown",
   "metadata": {},
   "source": [
    "なお、以下のように複数の箱ひげ図を同時に表示することもできます。"
   ]
  },
  {
   "cell_type": "code",
   "execution_count": null,
   "metadata": {
    "scrolled": true
   },
   "outputs": [],
   "source": [
    "# 箱ひげ図：G1,G2,G3\n",
    "plt.boxplot([student_data_math['G1'], student_data_math['G2'], student_data_math['G3']])\n",
    "plt.grid(True)"
   ]
  },
  {
   "cell_type": "markdown",
   "metadata": {},
   "source": [
    "### 6.3.6 変動係数\n",
    "\n",
    "次に、**変動係数**について説明していきます。\n",
    "\n",
    "先ほど、分散や標準偏差について見てきましたが、異なる種類のデータ同士について、これらの単純比較はできません。データの大きさがそもそも異なると、大きな値をとるものの方が偏差も大きくなる傾向にあるからです。たとえば、株価（日経平均など）の標準偏差と為替（ドル円など）の標準偏差をそれぞれ計算するとしましょう。この2つの標準偏差を直接比較するのはナンセンスです。なぜなら2万円前後で動いている日経平均と100円前後で動いている為替の標準偏差とでは、スケールが異なるからです。\n",
    "\n",
    "そこで登場するのが変動係数です。変動係数は、標準偏差を平均値で割った値です。この値を使うとスケールに依存せず、比較できるようになります。変数は$CV$で示すことが一般的です。"
   ]
  },
  {
   "cell_type": "markdown",
   "metadata": {},
   "source": [
    "\\begin{eqnarray}\n",
    "CV = \\frac{\\sigma}{\\overline{x}}\\\n",
    "\\end{eqnarray}"
   ]
  },
  {
   "cell_type": "code",
   "execution_count": null,
   "metadata": {},
   "outputs": [],
   "source": [
    "# 変動係数：欠席数\n",
    "student_data_math['absences'].std() / student_data_math['absences'].mean()"
   ]
  },
  {
   "cell_type": "markdown",
   "metadata": {},
   "source": [
    "なお、`describe()`の結果に変動係数は出力されませんが、以下のようにすれば、一気に算出できます。それぞれの要素ごとに計算されるのがPandasのDatarFrame（もしくは、Numpy）の特徴です。この結果を見ると、落第数（`failures`）と欠席数（`absences`）のデータの散らばり具合が大きいことがわかります。"
   ]
  },
  {
   "cell_type": "code",
   "execution_count": null,
   "metadata": {},
   "outputs": [],
   "source": [
    "# それぞれの変動係数をまとめて計算\n",
    "student_data_math.std() / student_data_math.mean() "
   ]
  },
  {
   "cell_type": "markdown",
   "metadata": {},
   "source": [
    "### 6.3.7 散布図と相関係数\n",
    "\n",
    "さて、これまでは基本的に1変数のみに着目して、グラフや要約統計量を算出してきました。次に、変数間の関係性を見ていくために、散布図と相関係数について学びましょう。\n",
    "\n",
    "次の散布図は、1期目の成績G1と最終成績G3の関係を示しています。"
   ]
  },
  {
   "cell_type": "code",
   "execution_count": null,
   "metadata": {
    "nbpresent": {
     "id": "72beaf23-bcc8-4311-b327-b67a3b07436a"
    }
   },
   "outputs": [],
   "source": [
    "# 散布図\n",
    "plt.plot(student_data_math['G1'], student_data_math['G3'], 'o')\n",
    "\n",
    "# ラベル\n",
    "plt.ylabel('G3 grade')\n",
    "plt.xlabel('G1 grade')\n",
    "plt.grid(True)"
   ]
  },
  {
   "cell_type": "markdown",
   "metadata": {},
   "source": [
    "初めから成績がいい（G1の値が大きい）人ほど後の成績もいい（G3の値が大きい）というのは当たり前の結果ですが、傾向としてはっきりと表れているのがグラフからわかります。\n",
    "\n",
    "補足として、このグラフをよく見てみると、最終成績（G3）が0である人がいるのがわかります。一期の成績で0である人はいなかったので、これが異常値なのか、正しい値なのかはデータを見ているだけでは判断できませんが、データとしてG3の成績のスコアが0から20とあるので正しい値だと判断し、このままで扱うことにします（G3の成績のスコアは、前述のstudent_data_math.describe()の結果で「G3」の列を確認するとわかります）。\n",
    "\n",
    "ビジネスの現場では、なぜこのような値になっているか原因を突き止めるため、このデータに詳しい人、システム関係の人たちとヒアリングしながら理解していきます。もし、欠損値等であった場合には、対処方法は色々とありますが、後の章で学ぶことにしましょう。"
   ]
  },
  {
   "cell_type": "markdown",
   "metadata": {},
   "source": [
    "#### 共分散\n",
    "次に、2変数の関係性について、数値化してみることを考えます。2つの変数の関係性を見るための指標として**共分散**があり、その定義は、下記の通りです。共分散が$S_{xy}$で、$x, y$という2つの変数の関係性を示しています。"
   ]
  },
  {
   "cell_type": "markdown",
   "metadata": {},
   "source": [
    "\\begin{eqnarray}\n",
    "S_{xy} = \\frac{1}{n}\\displaystyle \\sum_{i = 1}^n (x_i - \\overline{x})\n",
    "(y_i - \\overline{y})\n",
    "\\end{eqnarray}"
   ]
  },
  {
   "cell_type": "markdown",
   "metadata": {},
   "source": [
    "共分散は、2組の変数の偏差の積の平均値です。2組以上の変数の分散を考えるときに使われます。Numpyには共分散の行列（共分散行列）を算出する機能があり、次のように`cov`関数を使うと求められます。以下ではG1とG3の共分散を計算しています。\n"
   ]
  },
  {
   "cell_type": "code",
   "execution_count": null,
   "metadata": {
    "scrolled": true
   },
   "outputs": [],
   "source": [
    "# 共分散行列\n",
    "np.cov(student_data_math['G1'], student_data_math['G3'])"
   ]
  },
  {
   "cell_type": "markdown",
   "metadata": {},
   "source": [
    "結果の行列の意味は、次の通りです。\n",
    "\n",
    "- G1とG3の共分散 … 共分散行列の$(1,2)$と$(2,1)$の要素です。上の例では、12.188という値です。\n",
    "- G1の分散 … 共分散行列の$(1,1)$の要素です。上の例では11.017です\n",
    "- G3の分散 … 共分散行列の$(2,2)$の要素です。上の例では20.99です。\n",
    "\n",
    "それぞれG1とG3の分散は、すでに説明したように`var`関数で計算できます。実際に求めてみると、値が合致することがわかります。"
   ]
  },
  {
   "cell_type": "code",
   "execution_count": null,
   "metadata": {},
   "outputs": [],
   "source": [
    "# 分散\n",
    "print('G1の分散:',student_data_math['G1'].var())\n",
    "print('G3の分散:',student_data_math['G3'].var())"
   ]
  },
  {
   "cell_type": "markdown",
   "metadata": {},
   "source": [
    "#### 相関係数\n",
    "\n",
    "共分散はその定義式から、各変数のスケールや単位に依存してしまいます。そのスケールの影響を受けずに、2つの変数の関係を数値化するのが相関係数です。共分散をそれぞれの変数（ここでは$ x $と$ y $）の標準偏差で割った数式が相関係数です。その定義は、以下の通りです。相関係数は$r_{xy}$で示すことが一般的です。"
   ]
  },
  {
   "cell_type": "markdown",
   "metadata": {},
   "source": [
    "\\begin{eqnarray}\n",
    "r_{xy} = \\frac{\\displaystyle \\sum_{i = 1}^n (x_i - \\overline{x})\n",
    "(y_i - \\overline{y})}{\\sqrt{\\displaystyle \\sum_{i = 1}^n \n",
    "(x_i - \\overline{x})^2}\\sqrt{\\displaystyle \\sum_{i = 1}^n \n",
    "(y_i - \\overline{y})^2}}\n",
    "\\end{eqnarray}"
   ]
  },
  {
   "cell_type": "markdown",
   "metadata": {},
   "source": [
    "この相関係数は、-1から1までの値を取り、1に近ければ近いほど**正の相関**があるといい、-1に近ければ近いほど**負の相関**があるといいます。0に近い場合は、**無相関**であるといいます。"
   ]
  },
  {
   "cell_type": "markdown",
   "metadata": {},
   "source": [
    "Pythonでは、ピアソン関数が計算できるScipyの`pearsonr`を使って、2変数の相関係数を算出できます。たとえば、次のようにすると、G1とG3の相関係数を求められます。データ分析の現場で単に相関関数という場合には、ピアソン関数を指します。"
   ]
  },
  {
   "cell_type": "code",
   "execution_count": null,
   "metadata": {
    "nbpresent": {
     "id": "c68c4e4e-072e-4620-a325-3ebb19ebe1ce"
    }
   },
   "outputs": [],
   "source": [
    "sp.stats.pearsonr(student_data_math['G1'], student_data_math['G3'])"
   ]
  },
  {
   "cell_type": "markdown",
   "metadata": {},
   "source": [
    "結果は、「0.8」と相関関係がある高い数字が出ました。なお、計算結果の2つ目の値はp値という値で、詳しくは「4.7.1 検定」で解説しています。"
   ]
  },
  {
   "cell_type": "markdown",
   "metadata": {},
   "source": [
    "この数字については、厳密に高い低いというのはなく、またこれが高いからといって**因果関係**があるとは言えないので注意しましょう（なお、本講座では詳しく扱いませんが、因果関係を把握したい場合には、**実験計画法**と呼ばれるアプローチなどを使っていきます。具体的には、あるマーケティング施策で、ある広告を見て効果があったのかなかったのか、因果関係を知りたい場合に、広告を見せる処置群と何も広告を見せないコントロール群に分けて、その比率等を計算していきます）。"
   ]
  },
  {
   "cell_type": "markdown",
   "metadata": {},
   "source": [
    "次の計算は、相関行列を算出するものです。それぞれの変数について、すべての組み合わせで相関係数を算出しています。先ほどのG1とG3の相関係数は0.801ですし、自分自身の相関係数は1になるのが自明ですから、この結果になるのは明らかです。"
   ]
  },
  {
   "cell_type": "code",
   "execution_count": null,
   "metadata": {},
   "outputs": [],
   "source": [
    "# 相関行列\n",
    "np.corrcoef([student_data_math['G1'], student_data_math['G3']]) "
   ]
  },
  {
   "cell_type": "markdown",
   "metadata": {},
   "source": [
    "### 6.3.8 すべての変数のヒストグラムや散布図を描く\n",
    "\n",
    "最後に、各変数のヒストグラムをすべて表示したり、散布図を描く方法を紹介します。\n",
    "\n",
    "このような処理には、統計的データ分析と可視化に関する機能が豊富に用意されているSeabornというライブラリを利用すると便利です。`seaborn`パッケージの`pairplot`を使えば、さまざまな変数の関係性を一度に確認できるので、とても便利です。ただし、変数が多いと計算に時間がかかり、若干見にくくなります。その場合は、「2.4.5　データの抽出」で説明した方法で該当データを絞り込むなどするとよいでしょう。\n",
    "\n",
    "サンプルとして、先ほどのデータにおいて、アルコールの摂取量と成績のスコアに関係があるのか、見てみることにします。\n",
    "\n",
    "Dalcは平日のアルコール摂取量、Walcは週末のアルコール摂取量です。それらと1期目の成績（G1）、最終成績（G3）の関係を見ています。アルコールを飲むからといって、成績が悪いと言えるのでしょうか。それとも関係ないのでしょうか。\n"
   ]
  },
  {
   "cell_type": "code",
   "execution_count": null,
   "metadata": {},
   "outputs": [],
   "source": [
    "sns.pairplot(student_data_math[['Dalc', 'Walc', 'G1', 'G3']])\n",
    "plt.grid(True)"
   ]
  },
  {
   "cell_type": "code",
   "execution_count": null,
   "metadata": {},
   "outputs": [],
   "source": [
    "# 例：週末にアルコールを飲む人の1期目の成績の平均値\n",
    "student_data_math.groupby('Walc')['G1'].mean()"
   ]
  },
  {
   "cell_type": "markdown",
   "metadata": {},
   "source": [
    "グラフから、平日にアルコールを頻繁に飲んでいる人（4や5の人）はG3で好成績を取っている人はいないようですが、極端に悪い成績を取っている人もいないようです。また、週末にアルコールを飲まない人の方が1期目の成績は少し良さそうに見えますが、こう結論付けて良いのでしょうか。これらのグラフや数値だけでは、なかなか判断が難しいですが、次の統計の章や機械学習の章でもアプローチしてみます。\n",
    "\n"
   ]
  },
  {
   "cell_type": "markdown",
   "metadata": {},
   "source": [
    "以上で、記述統計に関する基礎的事項は終わります。\n",
    "\n",
    "とても基本的ですが、ここで説明した内容は、どのようなデータ分析をする場合でも、データの全体像をつかむために必要な作業です。\n",
    "\n",
    "この講座では、機械学習のライブラリ等を使って、簡単に機械学習の計算ができることを紹介していきますが、その一方で、今までやってきた基礎的な統計量を見ていくことも大事であることは強調しておきます。簡単な散布図を書くだけで重要な傾向がわかることもあります。また、ここまでの内容はおそらく数学的なバックグラウンドがない人でもついていきやすく、説明がしやすいはずです。\n",
    "\n",
    "もちろん、これだけで終わるならば機械学習は必要なくなりますが、機械学習を適用する前に、データと対話をして、不明事項や異常値の確認をするなど、関係者と密に連携をとっておけば、よりよいデータ分析ができます。"
   ]
  },
  {
   "cell_type": "markdown",
   "metadata": {},
   "source": [
    ">**[ポイント]**\n",
    "\n",
    ">データ分析をするときにはまず基本統計量やヒストグラム、散布図等を見て、データの全体像を掴もう。"
   ]
  },
  {
   "cell_type": "markdown",
   "metadata": {},
   "source": [
    "#### <練習問題 6-1>\n",
    "\n",
    "本章でダウンロードしたポルトガル語の成績データであるstudet-por.csvを読み込んで、要約統計量を表示してください。"
   ]
  },
  {
   "cell_type": "markdown",
   "metadata": {},
   "source": [
    "#### <練習問題 6-2>\n",
    "\n",
    "以下の変数をキーとして、数学のデータとポルトガル語のデータをマージしてください。マージするときは、両方にデータが含まれている（欠けていない）データを対象としてください（内部結合と言います）。\n",
    "\n",
    "そして、要約統計量など計算してください。\n",
    "\n",
    "なお、以下以外の変数名は、それぞれのデータで同名の変数名があり重複するので、`suffixes=('_math', '_por')`のパラメータを追加して、どちらからのデータかわかるようにしてください。\n",
    "\n",
    "`['school','sex','age','address','famsize','Pstatus','Medu','Fedu','Mjob','Fjob','reason','nursery','internet']`"
   ]
  },
  {
   "cell_type": "markdown",
   "metadata": {},
   "source": [
    "#### <練習問題 6-3>\n",
    "\n",
    "<練習問題 6-2>でマージしたデータについて、`Medu`、`Fedu`、`G3_math`などの変数をいくつかピックアップして、散布図とヒストグラムを作成してみましょう。どういった傾向がありますか。また、数学データのみの結果と違いはありますか。考察してみましょう。"
   ]
  },
  {
   "cell_type": "markdown",
   "metadata": {},
   "source": [
    "***"
   ]
  },
  {
   "cell_type": "markdown",
   "metadata": {},
   "source": [
    "## 6.4 単回帰分析\n",
    "キーワード：Scikit-learn、目的変数、説明変数、単回帰分析、最小二乗法、決定係数"
   ]
  },
  {
   "cell_type": "markdown",
   "metadata": {},
   "source": [
    "記述統計の次は、回帰分析の基礎を学びましょう。\n",
    "回帰分析とは、数値を予測する分析です。機械学習では、データの予測をしますが、その基礎となるのが、ここで説明する単回帰分析です。\n",
    "\n",
    "先ほど、学生のデータについて、一期目の数学の成績と最終期の数学の成績をグラフ化（散布図）してみました。この散布図からG1とG3には関係がありそうだというのはわかります。"
   ]
  },
  {
   "cell_type": "code",
   "execution_count": null,
   "metadata": {
    "scrolled": true
   },
   "outputs": [],
   "source": [
    "# 散布図\n",
    "plt.plot(student_data_math['G1'], student_data_math['G3'], 'o')\n",
    "plt.xlabel('G1 grade')\n",
    "plt.ylabel('G3 grade')\n",
    "plt.grid(True)"
   ]
  },
  {
   "cell_type": "markdown",
   "metadata": {},
   "source": [
    "回帰問題では、与えられたデータから関係式を仮定して、データに最も当てはまる係数を求めていきます。具体的には、あらかじめ分かっているG1の成績をもとに、G3の成績を予測します。つまり、目的となる変数G3（**目的変数**といいます）があり、それを説明する変数G1（**説明変数**といいます）を使って予測します。これは後ほど機械学習の章で学ぶ「教師あり学習」の1つでもあり、学習時のデータに正解を1つ1つ与えて、その関係性を計算する基礎となるものです。\n",
    "\n",
    "回帰分析の手法は、アウトプット（目的変数）とインプット（説明変数）の関係において、インプットが1変数のものと、2変数以上あるもので、大きく分けられます。前者を単回帰分析、後者を重回帰分析と言います。この節では単純な単回帰分析について説明することにし、重回帰分析については後の機械学習の章で改めて説明します。\n",
    "\n",
    "なお、この節で学ぶ内容を厳密に理解するためには、次の章で学ぶ統計や推定、検定の知識等が必要です。実際、多くの統計の教科書では、これらの知識を学んだ後で回帰分析について解説しています。\n",
    "\n",
    "しかしPythonを使って回帰分析する場合、そうした知識がなくてもScikit-learnという抽象度の高いライブラリを利用することで計算できるため、ここでは、先に実際の計算の方法を説明することにします。この章の内容は、もう少し先に進んでから、後で振り返って復習すると、より深く理解できるはずです。\n",
    "\n",
    "### 6.4.1 線形単回帰分析\n",
    "\n",
    "ここでは単回帰分析のうちでも、アウトプットと**パラメータ**が線形の関係に成り立つ（ $ y = ax + b $ ）ことを前提とした線形単回帰という手法で回帰問題を解く方法を説明します。\n",
    "線形単回帰分析は、Scikit-learnというライブラリに用意されている`sklearn.linear_model`を使うと簡単に計算できます。Scikit-learnは機械学習のためのパッケージです。このパッケージは、後の機械学習の章で、さらにさまざまな計算をする場面でも利用します。まず、以下のように`linear_model`をインポートした後、インスタンスを作ります。"
   ]
  },
  {
   "cell_type": "code",
   "execution_count": null,
   "metadata": {},
   "outputs": [],
   "source": [
    "from sklearn import linear_model\n",
    "\n",
    "# 線形回帰のインスタンスを生成\n",
    "reg = linear_model.LinearRegression()"
   ]
  },
  {
   "cell_type": "markdown",
   "metadata": {},
   "source": [
    "以下では、説明変数（$X$とします）と目的変数（$Y$とします）データをセットして、線形回帰する`fit`という機能を使って、予測モデルを計算します。\n",
    "\n",
    "この場合の`fit`関数は、**最小二乗法**という手法で回帰係数$a$と切片$b$を計算しています。この方法は、実際の目的変数のデータと予測したデータの差の二乗和をとり、それが最小になる時の係数と切片を求めるものです。式で表現すると、$y$を実測値、$ f(x) = ax + b $を予測値として、以下の式を最小にするように計算しています（計算方法としては、この式を微分していくのですが、`fit`関数を実行すれば、その計算をしてくれるので詳細は割愛します）。"
   ]
  },
  {
   "cell_type": "markdown",
   "metadata": {},
   "source": [
    "\\begin{eqnarray}\n",
    "\\sum^n_{i=1}(y_i-f(x_i))^2\n",
    "\\end{eqnarray}"
   ]
  },
  {
   "cell_type": "code",
   "execution_count": null,
   "metadata": {},
   "outputs": [],
   "source": [
    "# 説明変数に \"一期目の数学の成績\" を利用\n",
    "# locはデータフレームから、行と列を指定して取り出す。loc[:, ['G1']]は、G1列のすべての列を取り出すことをしている\n",
    "# valuesに直しているので、注意\n",
    "X = student_data_math.loc[:, ['G1']].values\n",
    "\n",
    "# 目的変数に \"最終の数学の成績\" を利用\n",
    "Y = student_data_math['G3'].values\n",
    " \n",
    "# 予測モデルを計算、ここでa,bを算出\n",
    "reg.fit(X, Y)\n",
    " \n",
    "# 回帰係数\n",
    "print('回帰係数:', reg.coef_)\n",
    " \n",
    "# 切片 \n",
    "print('切片:', reg.intercept_)"
   ]
  },
  {
   "cell_type": "markdown",
   "metadata": {},
   "source": [
    "上記の回帰係数が線形の回帰式 $ y = ax + b $ における$ a $に相当し、切片に相当するのが$b$です。先ほどの散布図と重ねて、予測した線形回帰式を描いてみましょう。$Y$、つまり予測したい最終の数学の成績G3は、`predict`を使って、括弧の中に説明変数を入れることで計算できます。"
   ]
  },
  {
   "cell_type": "code",
   "execution_count": null,
   "metadata": {},
   "outputs": [],
   "source": [
    "# 先ほどと同じ散布図\n",
    "plt.scatter(X, Y)\n",
    "plt.xlabel('G1 grade')\n",
    "plt.ylabel('G3 grade')\n",
    "\n",
    "# その上に線形回帰直線を引く\n",
    "plt.plot(X, reg.predict(X))\n",
    "plt.grid(True)"
   ]
  },
  {
   "cell_type": "markdown",
   "metadata": {},
   "source": [
    "### 6.4.2 決定係数\n",
    "\n",
    "上記のグラフを見ると予測式は実測値をうまく予測しているようにも見えますが、これが客観的にどうなのかというのは判断がつきません。そこで、それを数値化したものが、**決定係数**です。決定係数は寄与率とも呼ばれます。定義は以下のとおりです。決定係数は$R^2$と示すことが一般的です。"
   ]
  },
  {
   "cell_type": "markdown",
   "metadata": {},
   "source": [
    "\\begin{eqnarray}\n",
    "R^2 = 1 - \\frac{\\sum_{i = 1}^n(y_i - f(x_i))^2}{\\sum_{i = 1}^{n}(y_i - \\bar{y})^2}\n",
    "\\end{eqnarray}"
   ]
  },
  {
   "cell_type": "markdown",
   "metadata": {},
   "source": [
    "$R^2$は最大で1の値を取り、1に近ければ近いほど良いモデルになります。$\\bar{y}$は目的変数の平均値です。説明変数を使わずに常に$\\bar{y}$（定数）で予測した場合と二乗誤差が等しい場合に $R^2=0$ となります。Pythonを使って決定係数を求めるには、`score`を使って以下のようにします。"
   ]
  },
  {
   "cell_type": "code",
   "execution_count": null,
   "metadata": {},
   "outputs": [],
   "source": [
    "# 決定係数、寄与率とも呼ばれる\n",
    "print('決定係数:', reg.score(X, Y))"
   ]
  },
  {
   "cell_type": "markdown",
   "metadata": {},
   "source": [
    "なお、この決定係数の数値がどこまで高ければ良いのかという問題はあります。教科書的なデータや問題では0.9以上の場合が多いですが、実務ではなかなかそこまで出せることはなく、それをどう判断するかはケースバイケースです。ちなみに、上の0.64は高くはありませんが、現場レベルで見ると、使えないレベルでもありません。\n",
    "\n",
    "以上で、単回帰分析と本章の説明は終わりになります。お疲れ様でした。残りは、練習問題と総合演習問題になります。ぜひチャレンジしてください。"
   ]
  },
  {
   "cell_type": "markdown",
   "metadata": {},
   "source": [
    "#### <練習問題 6-4>\n",
    "\n",
    "\n",
    "ポルトガル語の成績データであるstudent-por.csvのデータを使って、`G3`を目的変数、`G1`を説明変数として単回帰分析を実施し、回帰係数、切片、決定係数を求めてください。"
   ]
  },
  {
   "cell_type": "markdown",
   "metadata": {},
   "source": [
    "#### <練習問題 6-5>\n",
    "\n",
    "練習問題6-4のデータの実際の散布図と、回帰直線を合わせてグラフ化してください。"
   ]
  },
  {
   "cell_type": "markdown",
   "metadata": {},
   "source": [
    "#### <練習問題 6-6>\n",
    "\n",
    "student-por.csvのデータを使って、`G3`を目的変数、`absences`（欠席数）を説明変数として単回帰分析を実施し、回帰係数、切片、決定係数を求めてください。また、散布図と回帰直線をグラフ化してみましょう。そして、この結果を見て、考察してみましょう。"
   ]
  },
  {
   "cell_type": "markdown",
   "metadata": {},
   "source": [
    "***"
   ]
  },
  {
   "cell_type": "markdown",
   "metadata": {},
   "source": [
    "## 6.5 総合問題"
   ]
  },
  {
   "cell_type": "markdown",
   "metadata": {},
   "source": [
    "### ■総合問題6-1 統計の基礎と可視化\n",
    "\n",
    "以下のサイトにあるデータ（ワインの品質）を読み込み、以下の問いに答えてください。\n",
    "\n",
    "http://archive.ics.uci.edu/ml/machine-learning-databases/wine-quality/winequality-red.csv\n",
    "\n",
    "（1）要約統計量（平均、最大値、最小値、標準偏差など）を算出してください。\n",
    "\n",
    "（2）それぞれの変数の分布と、それぞれの変数の関係性（2変数間のみ）がわかるように、グラフ化してみましょう。何かわかる傾向はありますか。"
   ]
  },
  {
   "cell_type": "markdown",
   "metadata": {},
   "source": [
    "### ■総合問題6-2 ローレンツ曲線とジニ係数\n",
    "\n",
    "この章で利用したサンプルデータstudent_data_mathのデータを使って、以下の問いに答えてください。ここで扱うローレンツ曲線やジニ係数は、貧富の格差（地域別、国別など）を見るための指標として使われています（なお、本問題は少し難易度が高いため、参考程度に見てください。詳細は、以前に紹介した統計学入門などの文献を参照するか、ネットで検索してください）。\n",
    "\n",
    "（1）一期目の数学データについて、男女別に昇順に並び替えをしてください。そして、横軸に人数の累積比率、縦軸に一期目の値の累積比率をとってください。この曲線をローレンツ曲線といいます。このローレンツ曲線を男女別に一期目の数学成績でグラフ化してください。\n",
    "\n",
    "（2）不平等の程度を数値で表したものをジニ係数といいます。この値は、ローレンツ曲線と45度線で囲まれた部分の面積の2倍で定義されて、0から1の値を取ります。値が大きければ大きいほど、不平等の度合いが大きくなります。なお以下のようにジニ係数は定義できます。$\\overline{x}$は平均値です。\n",
    "\n",
    "\\begin{eqnarray}\n",
    "GI=\\sum_{i}\\sum_{j}\\left| \\frac{x_i-x_j}{2n^2 \\overline{x}}\\right|\n",
    "\\end{eqnarray}\n",
    "\n",
    "これを利用して、男女の一期目の成績について、ジニ係数をそれぞれ求めてください。"
   ]
  },
  {
   "cell_type": "markdown",
   "metadata": {},
   "source": [
    "***"
   ]
  },
  {
   "cell_type": "markdown",
   "metadata": {
    "nbpresent": {
     "id": "b5e81c61-d695-4fc4-b784-45ed41026d4a"
    }
   },
   "source": [
    "## 6.6 確率と統計を学ぶ準備\n",
    "\n",
    "キーワード：Numpy、Scipy、Pandas、Matplotlib、ランダムシード\n",
    "\n",
    "この章では、確率と統計を学びます。はじめに概念等について説明し、それから、少し理論的な話に入っていきます。\n",
    "\n",
    "\n",
    "### 6.6.1 この章の前提知識\n",
    "数式が若干多くなり、はじめは少しとっつきにくいかも知れませんが、徐々に慣れていきましょう。初心者向けに参考になるものとして、巻末の参考文献「A-5」、参考URL「B-10」を挙げておきます。これらもあわせて学習すると、確率・統計の基礎についてより理解ができると思います。\n",
    "\n",
    "以降では、これらの基礎知識を見たことがあるという前提で、解説を進めていきます。"
   ]
  },
  {
   "cell_type": "markdown",
   "metadata": {},
   "source": [
    "### 6.6.2 この章で使うライブラリのインポート\n",
    "この章では、以前各種ライブラリを使います。次のようにインポートしていることを前提として、以下、進めていきます。\n",
    "\n",
    "以下のプログラムの最後の行では「`np.random.seed(0)`」と記述してランダムシード（乱数を発生させるとき基準にする値）を0に設定しています。そのため発生する乱数の系列が0に設定されるため、パソコンの環境等によって得られる乱数の系列が違うようなことはなく、同じ乱数が発生するようになります。"
   ]
  },
  {
   "cell_type": "code",
   "execution_count": null,
   "metadata": {
    "scrolled": true
   },
   "outputs": [],
   "source": [
    "# 以下のライブラリを使うので、あらかじめ読み込んでおいてください\n",
    "import numpy as np\n",
    "import scipy as sp\n",
    "import pandas as pd\n",
    "from pandas import Series, DataFrame\n",
    "\n",
    "# 可視化ライブラリ\n",
    "import matplotlib.pyplot as plt\n",
    "import matplotlib as mpl\n",
    "import seaborn as sns\n",
    "%matplotlib inline\n",
    "\n",
    "# 小数第3位まで表示\n",
    "%precision 3\n",
    "\n",
    "# ランダムシードの固定\n",
    "np.random.seed(0)"
   ]
  },
  {
   "cell_type": "markdown",
   "metadata": {},
   "source": [
    "## 6.7 確率\n",
    "キーワード：確率、試行、根元事象、標本空間、事象、条件付き確率、ベイズの定理、事前確率、事後確率"
   ]
  },
  {
   "cell_type": "markdown",
   "metadata": {},
   "source": [
    "まずは、確率について学んでいきます。"
   ]
  },
  {
   "cell_type": "markdown",
   "metadata": {},
   "source": [
    "### 6.7.1 数学的確率\n",
    "\n",
    "はじめにサイコロを題材とし、確率を学ぶ上で必要となる用語や概念について説明します。\n",
    "\n",
    "サイコロがとりうる状態は、1から6の数値です。そこでサイコロデータを次のようにNumpyの配列オブジェクトとして定義することにします。"
   ]
  },
  {
   "cell_type": "code",
   "execution_count": null,
   "metadata": {},
   "outputs": [],
   "source": [
    "# サイコロがとりうる値を配列に格納\n",
    "dice_data = np.array([1, 2, 3, 4, 5, 6])"
   ]
  },
  {
   "cell_type": "markdown",
   "metadata": {},
   "source": [
    "#### 事象\n",
    "このデータから1つだけランダムに抽出することを考えます。これを**試行**といいます。Numpyでは`random.choice`の2番目の値に「1」を指定すると、ランダムなものを1つ取り出せます（ちなみに、仮に「2」を指定すれば2つ取り出せます）。これはサイコロを1回振って、どのような目が出るのかを確認するという操作に相当します。"
   ]
  },
  {
   "cell_type": "code",
   "execution_count": null,
   "metadata": {},
   "outputs": [],
   "source": [
    "# 引数は、対象データdice_dataから1つランダムに抽出するという意味\n",
    "print('1つだけランダムに抽出:', np.random.choice(dice_data, 1))"
   ]
  },
  {
   "cell_type": "markdown",
   "metadata": {},
   "source": [
    "上記の結果では「5」が抽出されていますが、実行のたびに違う値が取り出されますから、「1」や「3」など他の値である可能性もあります。こうした1つずつの試行結果のことを**根元事象（基本事象）**といいます。そして、すべての可能な根元事象を集めた集合を**標本空間（以下$S$で表します）**、標本空間の任意の部分集合を**事象**といいます。たとえば、先ほどの5が出る事象$X$や、以下のような偶数の事象$Y$などが考えられます。"
   ]
  },
  {
   "cell_type": "markdown",
   "metadata": {},
   "source": [
    "\\begin{eqnarray}\n",
    "S=\\{1, 2, 3, 4, 5, 6\\}\n",
    "\\end{eqnarray}"
   ]
  },
  {
   "cell_type": "markdown",
   "metadata": {},
   "source": [
    "\\begin{eqnarray}\n",
    "X=\\{5\\}\n",
    "\\end{eqnarray}"
   ]
  },
  {
   "cell_type": "markdown",
   "metadata": {},
   "source": [
    "\\begin{eqnarray}\n",
    "Y=\\{2, 4, 6\\}\n",
    "\\end{eqnarray}"
   ]
  },
  {
   "cell_type": "markdown",
   "metadata": {},
   "source": [
    "次にこれらの概念を使って、確率について学びます。確率については、その公理（厳密ではないですが、仮定のことと思ってください）は以下になります。ただ、はじめて見た方にはわかりにくいと思いますので、確率といえば、ひとまず$P(X)$ = 事象$X$が起こる場合の数/起こりうるすべての場合の数という理解をすれば大丈夫です。"
   ]
  },
  {
   "cell_type": "markdown",
   "metadata": {},
   "source": [
    ">ある事象$E(Event)$が起こる確率を$P(E)$と記せば、次の公理を満たさなければならない。\n",
    ">\n",
    ">公理1：  任意の事象Eについて $0≦P(E)≦1$\n",
    ">\n",
    ">公理2： $ P(S)=1$ (補足：これは全事象の確率が1であることを意味します。)\n",
    ">\n",
    ">公理3：  $A∩B=\\emptyset $ ならば、$P(A∪B) = P(A) + P(B)$"
   ]
  },
  {
   "cell_type": "markdown",
   "metadata": {},
   "source": [
    "#### 空事象\n",
    "その他、空集合$\\emptyset$も事象としてあり、**空事象**と言います。空事象は、要素を全く持たない集合です。たとえば、サイコロに関して言えば、7の目が出ることは普通のサイコロではあり得ないので、これは空事象であり、その確率は0です。"
   ]
  },
  {
   "cell_type": "markdown",
   "metadata": {},
   "source": [
    "#### 余事象\n",
    "\n",
    "ある事象$E$に属さない結果の集合を**余事象**といいます。これは、$E$の**補集合**とも言い、以下のようにc（complement）を使って表現します。たとえば、"
   ]
  },
  {
   "cell_type": "markdown",
   "metadata": {},
   "source": [
    "\\begin{eqnarray}\n",
    "E = \\{2, 4, 6\\}\n",
    "\\end{eqnarray}"
   ]
  },
  {
   "cell_type": "markdown",
   "metadata": {},
   "source": [
    "のとき、余事象は"
   ]
  },
  {
   "cell_type": "markdown",
   "metadata": {},
   "source": [
    "\\begin{eqnarray}\n",
    "E^c=\\{1, 3, 5\\}\n",
    "\\end{eqnarray}"
   ]
  },
  {
   "cell_type": "markdown",
   "metadata": {},
   "source": [
    "になります。"
   ]
  },
  {
   "cell_type": "markdown",
   "metadata": {},
   "source": [
    "#### 積事象と和事象\n",
    "\n",
    "$A∩B$は、積事象といい、2つの事象に共通な事象のことを指します。具体的には、"
   ]
  },
  {
   "cell_type": "markdown",
   "metadata": {},
   "source": [
    "\\begin{eqnarray}\n",
    "A=\\{1, 2, 3\\}\n",
    "\\end{eqnarray}"
   ]
  },
  {
   "cell_type": "markdown",
   "metadata": {},
   "source": [
    "\\begin{eqnarray}\n",
    "B=\\{1, 3, 4, 5\\}\n",
    "\\end{eqnarray}"
   ]
  },
  {
   "cell_type": "markdown",
   "metadata": {},
   "source": [
    "の2つの集合を考えた場合、共通している数字は1と3なので、"
   ]
  },
  {
   "cell_type": "markdown",
   "metadata": {},
   "source": [
    "\\begin{eqnarray}\n",
    "A \\cap B=\\{1, 3\\}\n",
    "\\end{eqnarray}"
   ]
  },
  {
   "cell_type": "markdown",
   "metadata": {},
   "source": [
    "です。\n",
    "\n",
    "$A∪B$は、和事象といい、2つの事象の和のことを指します。上と同じ$A$と$B$で考えると、以下となります。"
   ]
  },
  {
   "cell_type": "markdown",
   "metadata": {},
   "source": [
    "\\begin{eqnarray}\n",
    "A \\cup B=\\{1, 2, 3, 4, 5\\}\n",
    "\\end{eqnarray}"
   ]
  },
  {
   "cell_type": "markdown",
   "metadata": {},
   "source": [
    "#### 確率の計算\n",
    "\n",
    "これまで「5が出る事象$X$」「空事象」「$A$と$B$の積事象」「$A$と$B$の和事象」を見てきましたが、これらが起こる確率を計算すると、次のようになります。"
   ]
  },
  {
   "cell_type": "markdown",
   "metadata": {},
   "source": [
    "\\begin{eqnarray}\n",
    "P(X)=\\frac{1}{6}\n",
    "\\end{eqnarray}"
   ]
  },
  {
   "cell_type": "markdown",
   "metadata": {},
   "source": [
    "\\begin{eqnarray}\n",
    "P(\\emptyset)= 0\n",
    "\\end{eqnarray}"
   ]
  },
  {
   "cell_type": "markdown",
   "metadata": {},
   "source": [
    "\\begin{eqnarray}\n",
    "P(A \\cap B)=\\frac{1}{3}\n",
    "\\end{eqnarray}"
   ]
  },
  {
   "cell_type": "markdown",
   "metadata": {},
   "source": [
    "\\begin{eqnarray}\n",
    "P(A \\cup B)=\\frac{5}{6}\n",
    "\\end{eqnarray}"
   ]
  },
  {
   "cell_type": "markdown",
   "metadata": {},
   "source": [
    "ここで計算したアプローチを数学的確率ということもあります。\n",
    "\n",
    "数学的確率を理解するためには、集合・位相論やルベーグ積分論等から入るのですが、数学は基礎論になるほど難しいため、ここでは割愛します。これから研究者の道に進む方などは、巻末の参考文献「A-9」を読んでみるとよいでしょう。特に『測度と積分―入門から確率論へ』は、数学科出身の人以外にもわかるように、かつ厳密に書かれているので、測度論をきちんと勉強されたい方にオススメです。"
   ]
  },
  {
   "cell_type": "markdown",
   "metadata": {},
   "source": [
    "### 6.7.2 統計的確率\n",
    "\n",
    "次に、実験的にサイコロを1000回振るシミュレーションを実施してみます。それぞれの根元事象（1〜6が出るそれぞれの事象）が実際に、数学的確率の1/6で起きるのか、計算してみましょう。\n",
    "\n",
    "起きた確率は、実際にその値が出た数を試行数（この例では1000回）で割ります。試行結果に、ある値iが含まれている総数は、「`len(dice_roless[dice_rolls==i])`」として求めることができます。"
   ]
  },
  {
   "cell_type": "code",
   "execution_count": null,
   "metadata": {},
   "outputs": [],
   "source": [
    "# サイコロを1000回振ってみる\n",
    "calc_steps = 1000\n",
    "\n",
    "# 1〜6のデータの中から、1000回の抽出を実施\n",
    "dice_rolls = np.random.choice(dice_data, calc_steps)\n",
    "\n",
    "# それぞれの数字がどれくらいの割合で抽出されたか計算\n",
    "for i in range(1, 7):\n",
    "    p = len(dice_rolls[dice_rolls==i]) / calc_steps\n",
    "    print(i, 'が出る確率', p)"
   ]
  },
  {
   "cell_type": "markdown",
   "metadata": {},
   "source": [
    "結果を見ると、1～6の目が出るそれぞれの確率は、ほぼ$1/6$（≒0.166)に近いのがわかります。これは**統計的確率**と言われます。この現象については後で詳しく学びます。"
   ]
  },
  {
   "cell_type": "markdown",
   "metadata": {},
   "source": [
    "### 6.7.3 条件付き確率と乗法定理\n",
    "次に、条件付き確率と独立性について学びましょう。事象$A$が生じた条件のもとで事象$B$が生じる確率を、$A$が与えられたもとでの$B$の条件付き確率といい、"
   ]
  },
  {
   "cell_type": "markdown",
   "metadata": {},
   "source": [
    "\\begin{eqnarray}\n",
    "P(B|A) = \\frac{P(A \\cap B) }{P(A)} \n",
    "\\end{eqnarray}"
   ]
  },
  {
   "cell_type": "markdown",
   "metadata": {},
   "source": [
    "と表します（$P(A) >0$のとき）。この式は、さらに以下のように式変形することができ、これを**乗法定理**といいます。"
   ]
  },
  {
   "cell_type": "markdown",
   "metadata": {},
   "source": [
    "\\begin{eqnarray}\n",
    "P(A \\cap B) = P(B|A)P(A)\n",
    "\\end{eqnarray}"
   ]
  },
  {
   "cell_type": "markdown",
   "metadata": {},
   "source": [
    "条件付き確率は、背景情報に基づいた確率と考えることができます。\n",
    "\n",
    "たとえばサイコロを1回振って出たのが何の数字であるのかは忘れたけれども、偶数だということだけは覚えていたとしましょう。このとき、その数字が4以上である確率を求めてみます。偶数であるという条件を、ここでは"
   ]
  },
  {
   "cell_type": "markdown",
   "metadata": {},
   "source": [
    "\\begin{eqnarray}\n",
    "A=\\{2, 4, 6\\}\n",
    "\\end{eqnarray}"
   ]
  },
  {
   "cell_type": "markdown",
   "metadata": {},
   "source": [
    "と考え、数字が4以上である事象は、"
   ]
  },
  {
   "cell_type": "markdown",
   "metadata": {},
   "source": [
    "\\begin{eqnarray}\n",
    "B=\\{4, 5, 6\\}\n",
    "\\end{eqnarray}"
   ]
  },
  {
   "cell_type": "markdown",
   "metadata": {},
   "source": [
    "です。どちらの条件も満たすときの積事象は、"
   ]
  },
  {
   "cell_type": "markdown",
   "metadata": {},
   "source": [
    "\\begin{eqnarray}\n",
    "A \\cap B=\\{4, 6\\}\n",
    "\\end{eqnarray}"
   ]
  },
  {
   "cell_type": "markdown",
   "metadata": {},
   "source": [
    "であるため、上の条件付き確率の定義から、求める確率は以下となります。"
   ]
  },
  {
   "cell_type": "markdown",
   "metadata": {},
   "source": [
    "\\begin{eqnarray}\n",
    "P(B|A) = \\frac{P(A \\cap B) }{P(A)}\n",
    "       = \\frac{\\frac{2}{6}}{\\frac{3}{6}}\n",
    "       = \\frac{2}{3}\n",
    "\\end{eqnarray}"
   ]
  },
  {
   "cell_type": "markdown",
   "metadata": {},
   "source": [
    "### 6.7.4 独立と従属\n",
    "次に、独立性の条件について説明します。事象$A$と事象$B$が互い独立であるとは、条件つき確率とそれぞれの事象の確率が同じになり、"
   ]
  },
  {
   "cell_type": "markdown",
   "metadata": {},
   "source": [
    "\\begin{eqnarray}\n",
    "P(A|B) = P(A)\n",
    "\\end{eqnarray}"
   ]
  },
  {
   "cell_type": "markdown",
   "metadata": {},
   "source": [
    "になることをいいます。$B$の事象が$A$に影響を及ぼしていないと考えることもできます。ここで、上の条件付き確率（AとBを入れ替えた式になりますが）から以下が成立します。"
   ]
  },
  {
   "cell_type": "markdown",
   "metadata": {},
   "source": [
    "\\begin{eqnarray}\n",
    "P(A \\cap B) = P(A)P(B)\n",
    "\\end{eqnarray}"
   ]
  },
  {
   "cell_type": "markdown",
   "metadata": {},
   "source": [
    "この式が成立しない場合は、事象$A$と$B$とはお互いに従属すると言います。先ほど挙げた偶数が出るという事情$A$と、4以上が出るという事象$B$で考えると、"
   ]
  },
  {
   "cell_type": "markdown",
   "metadata": {},
   "source": [
    "\\begin{eqnarray}\n",
    "P(A \\cap B)= \\frac{2}{6}= \\frac{1}{3}\n",
    "\\end{eqnarray}"
   ]
  },
  {
   "cell_type": "markdown",
   "metadata": {},
   "source": [
    "\\begin{eqnarray}\n",
    "P(A)P(B)= \\frac{3}{6}\\cdot\\frac{3}{6}=\\frac{1}{4}\n",
    "\\end{eqnarray}"
   ]
  },
  {
   "cell_type": "markdown",
   "metadata": {},
   "source": [
    "となり、等しくないため、事象$A$と事情$B$は独立ではなく、従属関係にあることがわかります。"
   ]
  },
  {
   "cell_type": "markdown",
   "metadata": {},
   "source": [
    "### 6.7.5 ベイズの定理\n",
    "\n",
    "最後に、ベイズの定理について説明します。先ほど条件付き確率を考えましたが、ここで$A$を結果の事象、$B$をその原因の事象とするとき、以下の**ベイズの定理**が得られます。これは$A$という結果がわかっているときに、その原因が$B$事象である確率を求めるものです。なお、$B^c$はBの補集合のことで、Bでない集合です。"
   ]
  },
  {
   "cell_type": "markdown",
   "metadata": {},
   "source": [
    "\\begin{eqnarray}\n",
    "P(B|A) = \\frac{P(A|B)P(B) }{P(A|B)P(B) + P(A|B^c)P(B^c)}\n",
    "\\end{eqnarray}"
   ]
  },
  {
   "cell_type": "markdown",
   "metadata": {},
   "source": [
    "このとき$P(B)$は、事象Aが起きる前の事象Bの確率（これを**事前確率**と言います）、$P(B|A)$は事象Aが起きた後の事象Bの確率（これを**事後確率**と言います）、$P(A|B)$は、Aが観測されたときにBが原因であるだろう確率（これを**尤度**と言います）です。"
   ]
  },
  {
   "cell_type": "markdown",
   "metadata": {},
   "source": [
    "以下は、一般のベイズ定理の離散バージョンです。ここでは原因がひとつの事象$B$について考えましたが、結果につながる原因が$B_1$、$B_2$、…のように複数あることもあります。その場合の、それぞれの原因の事象について拡張したものが、次の式です（$B_j$は排反で和集合が全事象となるもの）。\n"
   ]
  },
  {
   "cell_type": "markdown",
   "metadata": {},
   "source": [
    "\\begin{eqnarray}\n",
    "P(B_i|A) = \\frac{P(A|B_i)P(B_i) }{\\sum_{j = 1}^k P(A|B_j)P(B_j)}\n",
    "\\end{eqnarray}"
   ]
  },
  {
   "cell_type": "markdown",
   "metadata": {},
   "source": [
    "ベイズの定理は、実務でさまざまな部分で使われます。たとえば迷惑メールの判定などによく使われます。なお、ベイズ理論において、原因は離散値ではなく連続値の場合もあります。ベイズ定理の連続値バージョンです。興味のある方は調べてみてください。"
   ]
  },
  {
   "cell_type": "markdown",
   "metadata": {},
   "source": [
    "#### <練習問題 6-7>\n",
    "\n",
    "コインの表を0、裏を1として表現する配列を次のように用意します。\n",
    "\n",
    "`coin_data = np.array([0,1])`\n",
    "\n",
    "この配列を使って、コイン投げの試行を1,000回実行し、その結果、表（値が0）ならびに裏（値が1）が出るそれぞれの確率を求めてください。"
   ]
  },
  {
   "cell_type": "markdown",
   "metadata": {},
   "source": [
    "#### <練習問題 6-8>\n",
    "\n",
    "くじ引きの問題を考えます。1,000本のくじの中に、100本のあたりがあるとします。$A$くんと$B$くんが順にくじを引き、$A$くんと$B$くんともにあたりを引く確率を求めてください。ただし、引いたくじは戻さないとして、それぞれ1回のみ引きます（これは手計算でも大丈夫です）。"
   ]
  },
  {
   "cell_type": "markdown",
   "metadata": {},
   "source": [
    "#### <練習問題 6-9>\n",
    "日本国内である病気（$X$）になっている人の割合は、0.1%だとします。$X$を発見する検査方法について、次のことがわかっています。\n",
    "\n",
    "・その病気の人がその検査を受けると99%の人が陽性反応（病気であることを示す反応）を示します。\n",
    "\n",
    "・その病気でない人がその検査を受けると3%の人が陽性反応を示します（誤診）。\n",
    "\n",
    "日本に住んでいるある人がこの検査を受けたら陽性反応を示しました。この人が病気$X$である確率は何%でしょうか？（これは手計算でも大丈夫です）"
   ]
  },
  {
   "cell_type": "markdown",
   "metadata": {},
   "source": [
    "***"
   ]
  },
  {
   "cell_type": "markdown",
   "metadata": {},
   "source": [
    "## 6.8 確率変数と確率分布\n",
    "キーワード：確率変数、確率関数、確率密度関数、期待値、一様分布、ベルヌーイ分布、二項分布、正規分布、ポアソン分布、対数正規分布、カーネル密度推定"
   ]
  },
  {
   "cell_type": "markdown",
   "metadata": {},
   "source": [
    "次に、確率変数と確率分布について学んでいきましょう。\n",
    "\n",
    "### 6.8.1 確率変数、確率関数、分布関数、期待値\n",
    "\n",
    "**確率変数**とは、とりうる値に対して確率が割り当てられる変数のことです。\n",
    "\n",
    "サイコロの例で考えると、変数のとりうる値は、1から6までの目であり、いかさまがないサイコロならば、各値の出現確率は等しく1/6が割り当てられます。このように、ある変数が確率的に値をとる場合、その変数を確率変数と言い、確率変数が取り得る値のことを**実現値**と言います。サイコロの例では、実現値は[1, 2, 3, 4, 5, 6]です。また、実現値が数え上げられるときは、**離散確率変数**と言い、そうでないときは**連続確率変数**と言います。\n",
    "\n",
    "\n",
    "数え上げられるとは、連続ではない、飛び飛びの値をとるということで、サイコロの[1、2、3、4、5、6]のように有限個であることもありますし、無限個のこともあります。"
   ]
  },
  {
   "cell_type": "markdown",
   "metadata": {},
   "source": [
    "表にすると以下のようになります（大文字$X$は確率変数、小文字$x$はその実現値を指す）。"
   ]
  },
  {
   "cell_type": "markdown",
   "metadata": {},
   "source": [
    "|$X$|1|2|3|4|5|6|\n",
    "|:--:|:--:|:--:|:--:|:--:|:--:|:--:|\n",
    "|$P(X)$|$\\frac{1}{6}$|$\\frac{1}{6}$|$\\frac{1}{6}$|$\\frac{1}{6}$|$\\frac{1}{6}$|$\\frac{1}{6}$|"
   ]
  },
  {
   "cell_type": "markdown",
   "metadata": {},
   "source": [
    "#### 確率関数\n",
    "\n",
    "確率変数が取り得るすべての値とその値が生じる確率を記述した関数を**確率関数**といい、数式を使うと以下になります。"
   ]
  },
  {
   "cell_type": "markdown",
   "metadata": {},
   "source": [
    "\\begin{eqnarray}\n",
    "p(1)= \\frac{1}{6}, \\ p(2)= \\frac{1}{6}, \\ p(3)= \\frac{1}{6}, \\ p(4)= \\frac{1}{6}, \\ p(5)= \\frac{1}{6}, \\ p(6)= \\frac{1}{6}\n",
    "\\end{eqnarray}"
   ]
  },
  {
   "cell_type": "markdown",
   "metadata": {},
   "source": [
    "ただし、以下を満たすとします。なお、小文字$x$は、確率変数が実際にとる値（実現値）を指します。"
   ]
  },
  {
   "cell_type": "markdown",
   "metadata": {},
   "source": [
    "\\begin{eqnarray}\n",
    "\\sum^6_{i=1}p(x_i)=1\n",
    "\\end{eqnarray}"
   ]
  },
  {
   "cell_type": "markdown",
   "metadata": {},
   "source": [
    "#### 分布関数\n",
    "\n",
    "**分布関数（累積確率分布関数）**とは、確率変数$X$が実数$x$以下になる確率を言います。離散確率変数である場合、$F(X)$として以下のように定義します。"
   ]
  },
  {
   "cell_type": "markdown",
   "metadata": {},
   "source": [
    "\\begin{eqnarray}\n",
    "F(X)=P(X \\le x)=\\sum_{x_{i} \\le x}p(x_i)\n",
    "\\end{eqnarray}"
   ]
  },
  {
   "cell_type": "markdown",
   "metadata": {},
   "source": [
    "連続確率変数である場合は、分布関数の導関数を**密度関数（確率密度関数）**といい、次のように定義します。（$-\\infty < x < \\infty$ のとき）"
   ]
  },
  {
   "cell_type": "markdown",
   "metadata": {},
   "source": [
    "\\begin{eqnarray}\n",
    "f(x) = \\frac{dF(x)}{dx} \n",
    "\\end{eqnarray}"
   ]
  },
  {
   "cell_type": "markdown",
   "metadata": {},
   "source": [
    "#### 期待値（平均）\n",
    "\n",
    "確率変数は上記のように、色々な値をとりえますが、それらの値を代表する平均が考えられ、これを期待値といいます。3章でも学んだ平均と同じ意味です。確率変数を$X$とすると、期待値$E(X)$の定義式は、以下のようになります。"
   ]
  },
  {
   "cell_type": "markdown",
   "metadata": {},
   "source": [
    "\\begin{eqnarray}\n",
    "E(X)=\\sum_{x}xf(x)\n",
    "\\end{eqnarray}"
   ]
  },
  {
   "cell_type": "markdown",
   "metadata": {},
   "source": [
    "上記では、サイコロの目は1から6の値をとり、それぞれの確率は1/6でしたから、その期待する値は$1*1/6+2*1/6+・・・・6*1/6=3.5$となります。"
   ]
  },
  {
   "cell_type": "markdown",
   "metadata": {},
   "source": [
    "### 6.8.2 さまざまな分布関数\n",
    "\n",
    "以下、よく使われる分布関数を紹介します。ここではPythonの簡単な実装のみ見ていきます。詳しい式やその周辺知識（期待値（期待値）、分散、期待値）については、すでに説明した参考文献や参考URL「B-10」「B-11」をご覧ください。"
   ]
  },
  {
   "cell_type": "markdown",
   "metadata": {},
   "source": [
    "#### 一様分布\n",
    "先述のサイコロの例のように、すべての事象が起こる確率が等しいものは、一様分布といわれ、グラフ化すると以下になります。"
   ]
  },
  {
   "cell_type": "code",
   "execution_count": null,
   "metadata": {
    "scrolled": true
   },
   "outputs": [],
   "source": [
    "# 一様分布\n",
    "# サイコロを1000回振ってみる\n",
    "calc_steps = 1000\n",
    "\n",
    "# 1〜6のデータの中から、1000回の抽出を実施\n",
    "dice_rolls = np.random.choice(dice_data, calc_steps)\n",
    "\n",
    "# それぞれの数字がどれくらいの割合で抽出されたか計算\n",
    "prob_data = np.array([])\n",
    "for i in range(1, 7):\n",
    "    p = len(dice_rolls[dice_rolls==i]) / calc_steps\n",
    "    prob_data = np.append(prob_data, len(dice_rolls[dice_rolls==i]) / calc_steps)\n",
    "\n",
    "plt.bar(dice_data, prob_data)\n",
    "plt.grid(True)"
   ]
  },
  {
   "cell_type": "markdown",
   "metadata": {},
   "source": [
    "#### ベルヌーイ分布\n",
    "\n",
    "結果が2種類しかない試行をベルヌーイ試行といいます。ベルヌーイ分布とは、1回のベルヌーイ試行において、各事象が生じる確率の分布を指したものです。\n",
    "以下では、コインを8回投げて、表が出たら「0」、裏が出たら「1」とし、その結果が、[0, 0, 0, 0, 0, 1, 1, 1]であったと仮定したとき、その確率分布を示したものです。"
   ]
  },
  {
   "cell_type": "code",
   "execution_count": null,
   "metadata": {},
   "outputs": [],
   "source": [
    "# ベルヌーイ分布\n",
    "# 0:head(表)、1:tail(裏)と考える\n",
    "# サンプル数を8とした\n",
    "prob_be_data = np.array([])\n",
    "coin_data = np.array([0, 0, 0, 0, 0, 1, 1, 1])\n",
    "\n",
    "# uniqueで一意な値を抽出（ここの場合は、0と1）\n",
    "for i in np.unique(coin_data):\n",
    "    p = len(coin_data[coin_data==i]) / len(coin_data)\n",
    "    print(i, 'が出る確率', p)\n",
    "    prob_be_data = np.append(prob_be_data, p)"
   ]
  },
  {
   "cell_type": "markdown",
   "metadata": {},
   "source": [
    "グラフ化すると以下のようになります。なお、`xticks`でラベルを設定しています。"
   ]
  },
  {
   "cell_type": "code",
   "execution_count": null,
   "metadata": {},
   "outputs": [],
   "source": [
    "plt.bar([0, 1], prob_be_data, align='center')\n",
    "plt.xticks([0, 1], ['head', 'tail'])\n",
    "plt.grid(True)"
   ]
  },
  {
   "cell_type": "markdown",
   "metadata": {},
   "source": [
    "#### Pythonで分布に基づくデータを取得する\n",
    "\n",
    "これまで説明してきた一様分布とベルヌーイ分布の例では、実データから、その分布をグラフにする手法をとりました。しかしデータ分析するときには、特定の分布に基づいたデータ列を計算式で作りたいことがあります。たとえば、実データの分布グラフと、計算から求めた分布グラフを比較して、特定の性質に似ているかどうかを確認したり、近似させたりしたい場合などです。\n",
    "そうしたときには、Numpyの各種関数を使うことで計算できます。以下、それらの関数を使った分布データを作りグラフ化することで、どのような特徴があるのかを見ていきましょう。"
   ]
  },
  {
   "cell_type": "markdown",
   "metadata": {},
   "source": [
    "#### 二項分布\n",
    "\n",
    "二項分布は、独立なベルヌーイ試行をn回繰り返したものです。pythonでは、`random.binominal`を使って計算できます。`binominal`に渡すパラメーターは先頭から順に、試行回数（`n`）、確率（`p`）、サンプル数です。`random.binominal`は`n`回の試行のうち、確率`p`で生じる事象が発生する回数を返します。"
   ]
  },
  {
   "cell_type": "code",
   "execution_count": null,
   "metadata": {},
   "outputs": [],
   "source": [
    "# 二項分布\n",
    "np.random.seed(0)\n",
    "x = np.random.binomial(30, 0.5, 1000)\n",
    "plt.hist(x)\n",
    "plt.grid(True)"
   ]
  },
  {
   "cell_type": "markdown",
   "metadata": {},
   "source": [
    "#### ポアソン分布\n",
    "\n",
    "ポアソン分布は、稀な事象が起きる確率の時、使われます。一定の時間や面積に対して一定の割合で発生する分布で、たとえば、単位面積当たりの雨粒の数や1平米当たりに生えている木の数などがポアソン分布に従います。\n",
    "\n",
    "Numpyの`random.poisson`を使って計算できます。1つ目のパラメータは、あの区間で事象が発生すると見込まれる回数で、ここでは7を設定しています。2つ目のパラメータはサンプル数です。"
   ]
  },
  {
   "cell_type": "code",
   "execution_count": null,
   "metadata": {},
   "outputs": [],
   "source": [
    "# ポアソン分布\n",
    "x = np.random.poisson(7, 1000)\n",
    "plt.hist(x)\n",
    "plt.grid(True)"
   ]
  },
  {
   "cell_type": "markdown",
   "metadata": {},
   "source": [
    "#### 正規分布と対数正規分布\n",
    "\n",
    "次は、正規分布と対数正規分布です。正規分布とはガウス分布ともいわれ、代表的な連続型の確率分布です。私たちが生活する身近するなところでも、色々な現象としてみることができます。対数正規分布は$\\log{x}$が正規分布に従うときの分布です。それぞれ、`np.random.normal`、`np.random.lognormal`を使うと得られます。"
   ]
  },
  {
   "cell_type": "code",
   "execution_count": null,
   "metadata": {},
   "outputs": [],
   "source": [
    "# 正規分布\n",
    "# np.random.normal(平均、標準偏差、サンプル数)\n",
    "x = np.random.normal(5, 10, 10000)\n",
    "plt.hist(x)\n",
    "plt.grid(True)"
   ]
  },
  {
   "cell_type": "code",
   "execution_count": null,
   "metadata": {},
   "outputs": [],
   "source": [
    "# 対数正規分布\n",
    "x = np.random.lognormal(30, 0.4, 1000)\n",
    "plt.hist(x)\n",
    "plt.grid(True)"
   ]
  },
  {
   "cell_type": "markdown",
   "metadata": {},
   "source": [
    "### 6.8.3 カーネル密度関数\n",
    "\n",
    "次にカーネル密度関数について見ていきましょう。これは、与えられたデータを使って、密度関数を推定するものです。\n",
    "以前扱った、学生の欠席数データについて、分布の近似をしてみましょう。欠席数は、「`absences`」に記載されているので、このデータを使います。すなわちデータを`student_data_math`として読み込んだとしたら、`student_data_math.absences`が欠席数に相当します。\n",
    "\n",
    "以下は、カーネル密度関数を使って、欠席数の分布を推定するものです。ただし、データの性質上、0より小さいものはありえないので、実務で使うときは注意しましょう。カーネル密度関数のグラフは、次のように、`kind='kde'`を指定すると描画できます。\n",
    "\n",
    "`student_data_math.absences.plot(kind='kde', style='k--')`"
   ]
  },
  {
   "cell_type": "code",
   "execution_count": null,
   "metadata": {},
   "outputs": [],
   "source": [
    "# 注：ここはデータを取得していれば、実行しなくて大丈夫です。\n",
    "import requests\n",
    "import zipfile\n",
    "from io import StringIO\n",
    "import io\n",
    "\n",
    "zip_file_url = 'http://archive.ics.uci.edu/ml/machine-learning-databases/00356/student.zip'\n",
    "\n",
    "r = requests.get(zip_file_url, stream=True)\n",
    "z = zipfile.ZipFile(io.BytesIO(r.content))\n",
    "z.extractall()"
   ]
  },
  {
   "cell_type": "code",
   "execution_count": null,
   "metadata": {},
   "outputs": [],
   "source": [
    "# データを読み込む\n",
    "student_data_math = pd.read_csv('student-mat.csv', sep=';')\n",
    "\n",
    "# カーネル密度関数\n",
    "student_data_math.absences.plot(kind='kde', style='k--')\n",
    "\n",
    "# 単純なヒストグラム、density=Trueにすることで、確率で表示\n",
    "student_data_math.absences.hist(density=True)\n",
    "plt.grid(True)"
   ]
  },
  {
   "cell_type": "code",
   "execution_count": null,
   "metadata": {},
   "outputs": [],
   "source": [
    "?plt.hist"
   ]
  },
  {
   "cell_type": "markdown",
   "metadata": {},
   "source": [
    "上記に今回のstudent-mat.csvの`abcences`がベースになったヒストグラムが描かれています。そして、グラフの点線で絵が描かれている線が、上記で作成したカーネル密度関数で、滑らかに曲線が描かれています。これをみることで、このデータがどんな分布から生成されたのか推測ができます。"
   ]
  },
  {
   "cell_type": "markdown",
   "metadata": {},
   "source": [
    "#### <練習問題 6-10>\n",
    "\n",
    "平均0、分散1の正規分布から$n=100$の標本抽出を10000回繰り返して、標本平均$\\overline{X}=\\frac{1}{n}\\sum^n_{i=1}X_i$の標本分布（ヒストグラム）を描いてください。"
   ]
  },
  {
   "cell_type": "markdown",
   "metadata": {},
   "source": [
    "#### <練習問題 6-11>\n",
    "\n",
    "<練習問題 6-11>と同じく、対数正規分布の場合を実装してください。"
   ]
  },
  {
   "cell_type": "markdown",
   "metadata": {},
   "source": [
    "#### <練習問題 6-12>\n",
    "\n",
    "前半部で用いたデータを使い、学生のデータの数学一期目の成績G1のヒストグラムとカーネル密度推定を描いてください。"
   ]
  },
  {
   "cell_type": "markdown",
   "metadata": {},
   "source": [
    "***"
   ]
  },
  {
   "cell_type": "markdown",
   "metadata": {},
   "source": [
    "## 6.9 （応用）多次元確率分布\n",
    "キーワード：同時確率分布、周辺確率関数、条件付き確率関数、条件付き平均、分散共分散行列、多次元正規分布"
   ]
  },
  {
   "cell_type": "markdown",
   "metadata": {},
   "source": [
    "これまでは、確率変数が1つのみの場合を扱ってきました。次に、確率変数が2つかそれ以上にある場合の確率分布を考えていきましょう。なお、ここは少し応用の範囲になり、難しい場合は、読み流しても後の章に大きな影響はないようにしています。練習問題はありません。"
   ]
  },
  {
   "cell_type": "markdown",
   "metadata": {},
   "source": [
    "### 6.9.1 同時確率関数と周辺確率関数\n",
    "$X$が{$x_0, x_1, ...$}、$Y$が{$y_0, y_1, ...$}上で値をとる離散型の確率変数を考えます。$X=x_i$と$Y=y_j$である確率を以下のように書くとします。"
   ]
  },
  {
   "cell_type": "markdown",
   "metadata": {},
   "source": [
    "\\begin{eqnarray}\n",
    "P(X=x_i, Y=y_j) = p_{X, Y}(x_i, y_j)\n",
    "\\end{eqnarray}"
   ]
  },
  {
   "cell_type": "markdown",
   "metadata": {},
   "source": [
    "これを**同時確率関数**といい、また、"
   ]
  },
  {
   "cell_type": "markdown",
   "metadata": {},
   "source": [
    "\\begin{eqnarray}\n",
    "p_{X}(x_i) = \\sum^\\infty_{j=0}p_{X, Y}(x_i, y_j)\n",
    "\\end{eqnarray}"
   ]
  },
  {
   "cell_type": "markdown",
   "metadata": {},
   "source": [
    "を$X$の**周辺確率関数**といい、$Y$についても同様に定義されます。"
   ]
  },
  {
   "cell_type": "markdown",
   "metadata": {},
   "source": [
    "### 6.9.2 条件付き確率関数と条件付き期待値\n",
    "1変数の時に定義した条件付き確率について、2変数のケースを考えてみましょう。$X=x_i$を与えた時の$Y=y_j$の**条件付き確率関数**を以下のように定義します。"
   ]
  },
  {
   "cell_type": "markdown",
   "metadata": {},
   "source": [
    "\\begin{eqnarray}\n",
    "p_{Y|X}(y_j|x_i) = P(Y=y_j|X=x_i) =  \\frac{p_{X, Y}(x_i, y_j)}{p_X(x_i)}\n",
    "\\end{eqnarray}"
   ]
  },
  {
   "cell_type": "markdown",
   "metadata": {},
   "source": [
    "\n",
    "また、この条件付き確率関数に関して、期待値をとったものが条件付き期待値であり、$X=x_i$を与えた時の$Y$の**条件付き期待値（条件付き平均）**は"
   ]
  },
  {
   "cell_type": "markdown",
   "metadata": {},
   "source": [
    "\\begin{eqnarray}\n",
    "E[Y|X=x_i] = \\sum^\\infty_{j=1}y_jp_{Y|X}(y_j|x_i) = \\frac{\\sum^\\infty_{j=1}y_jp_{X, Y}(x_i, y_j)}{p_X(x_i)}\n",
    "\\end{eqnarray}"
   ]
  },
  {
   "cell_type": "markdown",
   "metadata": {},
   "source": [
    "のように定義されます。"
   ]
  },
  {
   "cell_type": "markdown",
   "metadata": {},
   "source": [
    "### 6.9.3 独立の定義と連続分布\n",
    "2変数における独立の定義は、すべての$x_i$と$y_j$に関して、以下が成り立つ時に、独立であるとします。"
   ]
  },
  {
   "cell_type": "markdown",
   "metadata": {},
   "source": [
    "\\begin{eqnarray}\n",
    "p_{X, Y}(x_i, y_j) = p_{X}(x_i) p_{Y}(y_j) \n",
    "\\end{eqnarray}"
   ]
  },
  {
   "cell_type": "markdown",
   "metadata": {},
   "source": [
    "連続分布についても、同時確率密度関数、周辺確率密度関数、条件付き確率密度関数、独立など定義でき、さらに3つ以上の確率変数の分布についても定義できます。さらに、多変量正規分布やその中で使われる分散共分散行列などもありますが、これらの概念については、参考文献等を使い、勉強してみてください。"
   ]
  },
  {
   "cell_type": "markdown",
   "metadata": {},
   "source": [
    "#### 2次元の正規分布をグラフで表示する\n",
    "\n",
    "参考ですが、この多次元の同時確率密度関数をイメージするために、以下で2次元正規分布を表示させてみましょう。\n",
    "\n",
    "以下は必要なライブラリの読み込みをします。"
   ]
  },
  {
   "cell_type": "code",
   "execution_count": null,
   "metadata": {},
   "outputs": [],
   "source": [
    "# 必要なライブラリの読み込み\n",
    "import scipy.stats as st\n",
    "from scipy.stats import multivariate_normal\n",
    "from mpl_toolkits.mplot3d import Axes3D"
   ]
  },
  {
   "cell_type": "code",
   "execution_count": null,
   "metadata": {},
   "outputs": [],
   "source": [
    "# データの設定\n",
    "x, y = np.mgrid[10:100:2, 10:100:2]\n",
    "\n",
    "pos = np.empty(x.shape + (2, ))\n",
    "\n",
    "pos[:, :, 0] = x \n",
    "pos[:, :, 1] = y "
   ]
  },
  {
   "cell_type": "markdown",
   "metadata": {},
   "source": [
    "上の$x$と$y$のデータは、10から100まで、2つずつ数を作成して、`pos`としてまとめています（次に発生させる多次元の正規分布を可視化するために、xとyで細かくデータを刻んでいるだけで、区切りの数字等には特に意味はありません）。"
   ]
  },
  {
   "cell_type": "markdown",
   "metadata": {},
   "source": [
    "次は、2次元の正規分布に従うデータを発生させています。`multivariate_normal`には、それぞれの平均と分散共分散行列を設定します。"
   ]
  },
  {
   "cell_type": "code",
   "execution_count": null,
   "metadata": {},
   "outputs": [],
   "source": [
    "# 多次元正規分布\n",
    "# それぞれの変数の平均と分散共分散行列を設定\n",
    "# 以下の例では、xとyの平均がそれぞれ50と50、[[100, 0], [0, 100]]がxとyの共分散行列になります\n",
    "rv = multivariate_normal([50, 50], [[100, 0], [0, 100]])\n",
    "\n",
    "# 確率密度関数\n",
    "z = rv.pdf(pos)"
   ]
  },
  {
   "cell_type": "markdown",
   "metadata": {},
   "source": [
    "上記をグラフ化すると以下のようになります。なお、3次元グラフのためAxes3Dの`plot_wireframe`を使っています。"
   ]
  },
  {
   "cell_type": "code",
   "execution_count": null,
   "metadata": {},
   "outputs": [],
   "source": [
    "fig = plt.figure(dpi=100)\n",
    "\n",
    "ax = Axes3D(fig)\n",
    "ax.plot_wireframe(x, y, z)\n",
    "\n",
    "# x,y,zラベルの設定など\n",
    "ax.set_xlabel('x')\n",
    "ax.set_ylabel('y')\n",
    "ax.set_zlabel('f(x, y)')\n",
    "\n",
    "# z軸の表示目盛り単位を変更、sciが指数表示、axisで軸を指定、scilimits=(n,m)はnからmの外にあるものは指数表記\n",
    "# scilimits=(0,0)はすべて指数表記にするという意味\n",
    "ax.ticklabel_format(style='sci', axis='z', scilimits=(0, 0))"
   ]
  },
  {
   "cell_type": "markdown",
   "metadata": {},
   "source": [
    "***"
   ]
  },
  {
   "cell_type": "markdown",
   "metadata": {},
   "source": [
    "## 6.10 推計統計学\n",
    "キーワード：標本、母集団、抽出、推測統計学、標本のサイズ、大数の法則、中心極限定理、t分布、カイ二乗分布、F分布"
   ]
  },
  {
   "cell_type": "markdown",
   "metadata": {},
   "source": [
    "これまでは、実際に得られたデータについての平均や標準偏差等を求めてきました。この手に入れたデータのことを**標本**といいます。しかし、本来はその背後にあるもっと大きなデータ・全体の性質を知ることが重要です。この標本をベースに統計的な分析を実施して、推測しようとする対象全体を**母集団**といい、これが**推測統計学**です。また、標本は母集団から取り出されたもので、これを**抽出**といいます。実際に、観測されたデータ$x_1, , , x_n$は、$n$個の確率変数$X_1, , , X_n$の実現値であり、このnを標本の**サイズ（大きさ）**といいます。また、母集団の平均（母平均）や分散（母分散）といった、母集団の特性を表す定数のことを**母数**と言います。"
   ]
  },
  {
   "cell_type": "markdown",
   "metadata": {},
   "source": [
    "![dd](http://www.toukei.metro.tokyo.jp/manabou/img/tyuu/sirou/tokutyou/m-1.jpg)"
   ]
  },
  {
   "cell_type": "markdown",
   "metadata": {},
   "source": [
    "参照URL：http://www.toukei.metro.tokyo.jp/manabou/img/tyuu/sirou/tokutyou/m-1.jpg"
   ]
  },
  {
   "cell_type": "markdown",
   "metadata": {},
   "source": [
    "### 6.10.1 大数の法則\n",
    "\n",
    "次は、確率論で重要な**大数の法則**について学びます。ここで再び先ほどのサイコロを投げて出目を調べる例を考えましょう。\n",
    "\n",
    "サイコロをどんどん振っていき、それまでの平均値の軌跡をたどります。具体的には、1回目投げた時の目が1の時は平均1、次に投げた時に3が出た場合は、$(1＋3)/2$で平均は2という具合に、続けて平均値を計算していきます。大数の法則とは、この試行を繰り返していく（試行回数Nを大きくする）と、その平均は、期待値（3.5）に近づいていくという法則です。\n",
    "\n",
    "以下では、サイコロを投げる回数$N$を1000とし、それを4回実施します（4パス）。以下の結果グラフは、どのパスも$N$が大きくなればなるほど、3.5に近づいてるのがわかります。"
   ]
  },
  {
   "cell_type": "code",
   "execution_count": null,
   "metadata": {
    "scrolled": true
   },
   "outputs": [],
   "source": [
    "# 大数の法則\n",
    "\n",
    "# 計算回数\n",
    "calc_times =1000\n",
    "# サイコロ\n",
    "sample_array = np.array([1, 2, 3, 4, 5, 6])\n",
    "number_cnt = np.arange(1, calc_times + 1)\n",
    "\n",
    "# 4つのパスを生成\n",
    "for i in range(4):\n",
    "    p = np.random.choice(sample_array, calc_times).cumsum()\n",
    "    plt.plot(p / number_cnt)"
   ]
  },
  {
   "cell_type": "markdown",
   "metadata": {},
   "source": [
    "### 6.10.2 中心極限定理\n",
    "\n",
    "次は、中心極限定理です。こちらは、サイコロを投げる回数$N$が増えれば増えるほど、標本平均が正規分布の形になっていく法則です。"
   ]
  },
  {
   "cell_type": "code",
   "execution_count": null,
   "metadata": {},
   "outputs": [],
   "source": [
    "# 中心極限定理\n",
    "def function_central_theory(N):\n",
    "    \n",
    "    sample_array = np.array([1, 2, 3, 4, 5, 6])\n",
    "    numaber_cnt = np.arange(1, N + 1) * 1.0\n",
    " \n",
    "    mean_array = np.array([])\n",
    " \n",
    "    for i in range(1000):   \n",
    "        cum_variables = np.random.choice(sample_array, N).cumsum()*1.0\n",
    "        mean_array = np.append(mean_array, cum_variables[N-1] / N)\n",
    " \n",
    "    plt.hist(mean_array)"
   ]
  },
  {
   "cell_type": "markdown",
   "metadata": {},
   "source": [
    "それではこの関数を使って、$N$をどんどん増やし、そのヒストグラフを見てみましょう。"
   ]
  },
  {
   "cell_type": "code",
   "execution_count": null,
   "metadata": {},
   "outputs": [],
   "source": [
    "# N=3\n",
    "function_central_theory(3)"
   ]
  },
  {
   "cell_type": "code",
   "execution_count": null,
   "metadata": {},
   "outputs": [],
   "source": [
    "# N=6\n",
    "function_central_theory(6)"
   ]
  },
  {
   "cell_type": "markdown",
   "metadata": {},
   "source": [
    "$N$をどんどん増やしていくと、正規分布の形になっているのがわかります。"
   ]
  },
  {
   "cell_type": "code",
   "execution_count": null,
   "metadata": {},
   "outputs": [],
   "source": [
    "# N= 10^3\n",
    "function_central_theory(10**3)"
   ]
  },
  {
   "cell_type": "markdown",
   "metadata": {},
   "source": [
    "### 6.10.3 標本分布\n",
    "\n",
    "次に、代表的な標本分布について学びましょう。\n",
    "\n",
    "##### カイ2乗分布\n",
    "\n",
    "1つ目は**カイ2乗分布**です。$m$個の確率変数$Z_1, ...Z_m$が互いに独立に分布し、各$Z_i$が標準正規分布（平均0，分散1の正規分布）\n",
    "に従うとします。この時、以下の確率変数の二乗和である"
   ]
  },
  {
   "cell_type": "markdown",
   "metadata": {},
   "source": [
    "\\begin{eqnarray}\n",
    "W = \\sum^m_{i=1}Z^{2}_{i}\n",
    "\\end{eqnarray}"
   ]
  },
  {
   "cell_type": "markdown",
   "metadata": {},
   "source": [
    "は、自由度mのカイ2乗分布に従うと言います。以下が、その分布に従う乱数のヒストグラムです。なお、zipは1章で紹介した関数ですが、複数の配列から、タプルの配列を作るために使います。ここでは[2, 10, 60]という配列と[\"b\", \"g\", \"r\"]という配列から、[(2, \"b\"), (10, \"g\"), (60, \"r\")]というタプルの配列を作ります。"
   ]
  },
  {
   "cell_type": "code",
   "execution_count": null,
   "metadata": {},
   "outputs": [],
   "source": [
    "# カイ2乗分布\n",
    "# 自由度2, 10, 60に従うカイ二乗分布が生成する乱数のヒストグラム\n",
    "for df, c in zip([2, 10, 60], 'bgr'):\n",
    "    x = np.random.chisquare(df, 1000)\n",
    "    plt.hist(x, 20, color=c)"
   ]
  },
  {
   "cell_type": "markdown",
   "metadata": {},
   "source": [
    "#### ステューデントt分布\n",
    "次は、ステューデントの**t分布**です。$Z$と$W$を独立な確率変数として、それぞれ標準正規分布、自由度mのカイ2乗分布に従うとした時、"
   ]
  },
  {
   "cell_type": "markdown",
   "metadata": {},
   "source": [
    "\\begin{eqnarray}\n",
    "T = \\frac{Z}{\\sqrt{\\frac{W}{m}}}\n",
    "\\end{eqnarray}"
   ]
  },
  {
   "cell_type": "markdown",
   "metadata": {},
   "source": [
    "とおいた時、$T$は自由度$m$のステューデントのt分布に従うといいます。以下はt分布のサンプル図です。"
   ]
  },
  {
   "cell_type": "code",
   "execution_count": null,
   "metadata": {
    "scrolled": true
   },
   "outputs": [],
   "source": [
    "# t分布\n",
    "x = np.random.standard_t(5, 1000)\n",
    "plt.hist(x)\n",
    "plt.grid(True)"
   ]
  },
  {
   "cell_type": "markdown",
   "metadata": {},
   "source": [
    "#### F分布\n",
    "最後に、**F分布**についても紹介します。$W_1$と$W_2$を独立な確率変数、それぞれ自由度$m_1, m_2$のカイ2乗分布に従うとして、"
   ]
  },
  {
   "cell_type": "markdown",
   "metadata": {},
   "source": [
    "\\begin{eqnarray}\n",
    "F = \\frac{\\frac{W_1}{m_2}}{\\frac{W_2}{m_2}}\n",
    "\\end{eqnarray}"
   ]
  },
  {
   "cell_type": "markdown",
   "metadata": {},
   "source": [
    "とおいた時、$F$は自由度$(m_1, m_2)$のスネディッカーのF分布に従うといいます。以下は、F分布のサンプル図です。"
   ]
  },
  {
   "cell_type": "code",
   "execution_count": null,
   "metadata": {},
   "outputs": [],
   "source": [
    "# F 分布\n",
    "for df, c in zip([ (6, 7), (10, 10), (20, 25)], 'bgr'):\n",
    "    x = np.random.f(df[0], df[1], 1000)\n",
    "    plt.hist(x, 100, color=c)"
   ]
  },
  {
   "cell_type": "markdown",
   "metadata": {},
   "source": [
    "以上で代表的な分布についての紹介は終わります。他にも、いろいろな分布がありますので、必要が生じた場合にその都度調べてみましょう。"
   ]
  },
  {
   "cell_type": "markdown",
   "metadata": {},
   "source": [
    "#### <練習問題 6-13>\n",
    "\n",
    "自由度5、25、50のカイ二乗分布からの乱数をそれぞれ1000個発生させて、ヒストグラムを書いてください。"
   ]
  },
  {
   "cell_type": "markdown",
   "metadata": {},
   "source": [
    "#### <練習問題 6-14>\n",
    "\n",
    "自由度100のt分布からの乱数を1000個発生させて、ヒストグラムを書いてください。"
   ]
  },
  {
   "cell_type": "markdown",
   "metadata": {},
   "source": [
    "#### <練習問題 6-15>\n",
    "\n",
    "自由度(10, 30)、(20, 25)のF分布からの乱数をそれぞれ1000個発生させて、ヒストグラムを書いてください。"
   ]
  },
  {
   "cell_type": "markdown",
   "metadata": {},
   "source": [
    "***"
   ]
  },
  {
   "cell_type": "markdown",
   "metadata": {},
   "source": [
    "## 6.11 統計的推定\n",
    "\n",
    "キーワード：推定量、点推定、不偏性、不偏推定量、一致性、区間推定、信頼区間、信頼係数、最尤法、尤度、尤度関数、ベイズ法"
   ]
  },
  {
   "cell_type": "markdown",
   "metadata": {},
   "source": [
    "ここでは**推定**について学んでいきます。\n",
    "\n",
    "### 6.11.1 推定量と点推定\n",
    "母集団の確率分布、平均、分散の推測をする時、母集団から標本を抽出し、標本の平均や分散を使って推定します。ここで、大きさnの無作為標本{$X_1, ..., X_n$}をもとに、母平均$\\mu$を求める（推定する）方法を考えるとします。まず、標本平均$\\overline{X}$は、"
   ]
  },
  {
   "cell_type": "markdown",
   "metadata": {},
   "source": [
    "\\begin{eqnarray}\n",
    "\\overline{X}=\\frac{1}{n}\\sum^n_{i=1}X_i\n",
    "\\end{eqnarray}"
   ]
  },
  {
   "cell_type": "markdown",
   "metadata": {},
   "source": [
    "となります。これを一般化すると、以下のように確率変数の関数として記述でき、この式を**推定量**と言います。これは母平均や母分散などの母数を推定するための式です。標本に基づいて、母数を1点のパラメータ値（$\\theta$）として言い当てることを**点推定**といいます。"
   ]
  },
  {
   "cell_type": "markdown",
   "metadata": {},
   "source": [
    "\\begin{eqnarray}\n",
    "\\overline{X}=T(X_1, ..., X_n)\n",
    "\\end{eqnarray}"
   ]
  },
  {
   "cell_type": "markdown",
   "metadata": {},
   "source": [
    "### 6.11.2 不偏性と一致性\n",
    "\n",
    "ただし、関数としてなんでも良いというわけではなく、パラメータをより正確に推定できることが望ましいです。そのための判断基準として、**不偏性**と**一致性**という性質があります。"
   ]
  },
  {
   "cell_type": "markdown",
   "metadata": {},
   "source": [
    "推定量の期待値が母数$\\theta$と一致するとき、推定量に**不偏性**があるといい、以下のように表現できます。この不偏性を持つ推定量を**不偏推定量**といいます。"
   ]
  },
  {
   "cell_type": "markdown",
   "metadata": {},
   "source": [
    "\\begin{eqnarray}\n",
    "E[T(X_1, ..., X_n)]=\\theta\n",
    "\\end{eqnarray}"
   ]
  },
  {
   "cell_type": "markdown",
   "metadata": {},
   "source": [
    "一致性とは、$\\theta$の推定量$E[T(X_1, ..., X_n)]$が観測個数nが大きくなるにつれて、$\\theta$に近づいていくという性質であり、任意の$\\epsilon>0$に関して、以下のように表現できます。このとき、$T(X_1, ..., X_n)$を一致推定量といいます。"
   ]
  },
  {
   "cell_type": "markdown",
   "metadata": {},
   "source": [
    "\\begin{eqnarray}\n",
    "\\displaystyle \\lim_{n \\to \\infty} P[|T(X_1, ..., X_n)- \\theta |\\ge \\epsilon]=0\n",
    "\\end{eqnarray}"
   ]
  },
  {
   "cell_type": "markdown",
   "metadata": {},
   "source": [
    "### 6.11.3 区間推定\n",
    "\n",
    "点推定では母数を1点で求めましたが、区間推定はある程度の区間を持たせて、母数を推定するものです。まず、標本$X_1, ..., X_n$があり、これは平均が$\\mu$、分散が1の正規分布$N$($\\mu$,1)から無作為抽出されているとします。この標本から母平均$\\mu$を推定する場合を考えてみましょう。この場合、標本平均$\\overline{X}$は、平均が$\\mu$、分散が$\\frac{1}{n}$の正規分布$N(\\mu,\\frac{1}{n})$に従うため、正規分布の両側$\\alpha$点を$z_{\\alpha /2}$として、"
   ]
  },
  {
   "cell_type": "markdown",
   "metadata": {},
   "source": [
    "\\begin{eqnarray}\n",
    "P(-z_{\\alpha /2} \\le \\sqrt{\\mathstrut n} (\\overline{X} - \\mu ) \\le z_{\\alpha /2} )=1-\\alpha\n",
    "\\end{eqnarray}"
   ]
  },
  {
   "cell_type": "markdown",
   "metadata": {},
   "source": [
    "が成り立ちます。この式を書き換えると、"
   ]
  },
  {
   "cell_type": "markdown",
   "metadata": {},
   "source": [
    "\\begin{eqnarray}\n",
    "P(\\overline{X} - \\frac{z_{\\alpha /2}}{\\sqrt{n}} \\le \\mu \\le \\overline{X} + \\frac{z_{\\alpha /2}}{\\sqrt{n}})=1-\\alpha\n",
    "\\end{eqnarray}"
   ]
  },
  {
   "cell_type": "markdown",
   "metadata": {},
   "source": [
    "と書くことができ、区間$[\\overline{X} - \\frac{z_{\\alpha /2}}{\\sqrt{n}} , \\overline{X} + \\frac{z_{\\alpha /2}}{\\sqrt{n}}]$ を$\\mu$の推定のための区間として用いることができます。このとき、区間$[\\overline{X} - \\frac{z_{\\alpha /2}}{\\sqrt{n}} , \\overline{X} + \\frac{z_{\\alpha /2}}{\\sqrt{n}}]$を**信頼区間**と言います。信頼区間に推定したい母数（ここでは母平均）が入っている確率を**信頼係数**といい、$1-\\alpha$で表現できます。信頼区間の一般的な定義は以下のようになります。"
   ]
  },
  {
   "cell_type": "markdown",
   "metadata": {},
   "source": [
    "$X_1, ..., X_n$を母集団分布$f(x;\\theta)$からの無作為標本として、$\\theta$は1次元の母数とします。${\\bf X}=(X_1, ..., X_n)$とおくと、2つの統計量$L({\\bf X}), U({\\bf X})$がすべての$\\theta$について以下を満たす時、区間$[L({\\bf X}), U({\\bf X})]$を**信頼係数**$1-\\alpha$の**信頼区間**といいます。"
   ]
  },
  {
   "cell_type": "markdown",
   "metadata": {},
   "source": [
    "\\begin{eqnarray}\n",
    "P(L({\\bf X})\\le \\theta \\le U({\\bf X})) \\ge 1-\\alpha\n",
    "\\end{eqnarray}"
   ]
  },
  {
   "cell_type": "markdown",
   "metadata": {},
   "source": [
    "### 6.11.4 推定量を求める\n",
    "\n",
    "推定量を求めるにはいつかの手法があります。ここでは、最尤法とベイズ法について、簡単に解説します（他にモーメント法などもあるので、調べてみてください）。少し応用的な内容になりますので、読み流しても大丈夫です。"
   ]
  },
  {
   "cell_type": "markdown",
   "metadata": {},
   "source": [
    "#### 最尤法"
   ]
  },
  {
   "cell_type": "markdown",
   "metadata": {},
   "source": [
    "同時確率関数を学んだ時に、母数を与えられて、観測値が生じる確率を求めましたが、逆に、観測値を与えられた時に、確率関数を母数の関数とみなしたものが**尤度関数**です。最尤法は、尤度関数を最大化する母数を母数の推定値とする方法です。"
   ]
  },
  {
   "cell_type": "markdown",
   "metadata": {},
   "source": [
    "今、確率関数$f(x;\\theta)$を与えられているとします。$x$は変数、$\\theta$は定数を意味しています。"
   ]
  },
  {
   "cell_type": "markdown",
   "metadata": {},
   "source": [
    "母集団からの無作為標本$X_1, ..., X_n$をとり、${\\bf X}=(X_1, ..., X_n)$とします。この${\\bf X}$の実現値${\\bf x}=(x_1, ..., x_n)$における同時確率関数を$\\theta$の関数とみなして、以下のように尤度関数を定義します。"
   ]
  },
  {
   "cell_type": "markdown",
   "metadata": {},
   "source": [
    "\\begin{eqnarray}\n",
    "L(\\theta;{\\bf x})=f(x_1;\\theta) \\cdot...\\cdot f(x_n;\\theta)\n",
    "\\end{eqnarray}"
   ]
  },
  {
   "cell_type": "markdown",
   "metadata": {},
   "source": [
    "尤度関数は、積の形をしており、対数変換によって和に直した方が計算しやすいため、以下のように**対数尤度関数**に直します。"
   ]
  },
  {
   "cell_type": "markdown",
   "metadata": {},
   "source": [
    "\\begin{eqnarray}\n",
    "\\log L(\\theta;{\\bf x})=\\sum^n_{i=1} \\log f(x_i;\\theta)\n",
    "\\end{eqnarray}"
   ]
  },
  {
   "cell_type": "markdown",
   "metadata": {},
   "source": [
    "上記の最大値を求めるために、微分して0になる解$\\theta$を求めます。以下の方程式を**尤度方程式**、この解$\\theta$を**最尤推定量**といいます。これが最尤推定法による推定値の求め方です。"
   ]
  },
  {
   "cell_type": "markdown",
   "metadata": {},
   "source": [
    "\\begin{eqnarray}\n",
    "\\frac{d}{d\\theta}{\\log L(\\theta,{\\bf x})}= 0\n",
    "\\end{eqnarray}"
   ]
  },
  {
   "cell_type": "markdown",
   "metadata": {},
   "source": [
    "#### ベイズ法"
   ]
  },
  {
   "cell_type": "markdown",
   "metadata": {},
   "source": [
    "今までは、母数$\\theta$に対して何も情報がなく、頻度論的なアプローチで推定をしていましたが、この$\\theta$について、事前分布を仮定して、ベイズの定理を使い、事後分布に更新していくことをベイズ法といいます。"
   ]
  },
  {
   "cell_type": "markdown",
   "metadata": {},
   "source": [
    "ここで、標本から得られる尤度関数を$p(x|\\theta)$として、母数$\\theta$が事前確率$\\pi(\\theta)$に従うと仮定すると、ベイズの定理により、事後分布を以下のように求めることができます。"
   ]
  },
  {
   "cell_type": "markdown",
   "metadata": {},
   "source": [
    "\\begin{eqnarray}\n",
    "\\pi(\\theta|x) = \\frac{p(x|\\theta)\\pi(\\theta)}{\\int p(x|\\theta)\\pi(\\theta) d\\theta}\n",
    "\\end{eqnarray}"
   ]
  },
  {
   "cell_type": "markdown",
   "metadata": {},
   "source": [
    "#### <練習問題 6-16>\n",
    "平均$\\mu$で分散$\\sigma^2$の正規母集団から大きさnの標本から作った標本平均は、母平均であることが望ましく、この不偏性を示してください（手計算で大丈夫です）。"
   ]
  },
  {
   "cell_type": "markdown",
   "metadata": {},
   "source": [
    "#### <練習問題 6-17>\n",
    "あるコインを5回投げたとして、裏、表、裏、表、表と出ました。このコインの表が出る確率を$\\theta$として、これを推定してください（手計算で大丈夫です）。"
   ]
  },
  {
   "cell_type": "markdown",
   "metadata": {},
   "source": [
    "#### <練習問題 6-18>\n",
    "母集団が以下の指数分布に従っている時に、そこから大きさnの標本${X_1, X_2, ...X_n}$を得たとして、母数${\\lambda}$を最尤推定してください（手計算で大丈夫です）。\n",
    "\n",
    "\\begin{eqnarray}\n",
    "f(x|\\lambda) = \\lambda \\mathrm{e}^{-\\lambda x}\n",
    "\\end{eqnarray}"
   ]
  },
  {
   "cell_type": "markdown",
   "metadata": {},
   "source": [
    "***"
   ]
  },
  {
   "cell_type": "markdown",
   "metadata": {},
   "source": [
    "## 6.12 統計的検定\n",
    "キーワード：帰無仮説、対立仮説、有意、棄却、有意水準、第1種の過誤、第2種の過誤、検出力"
   ]
  },
  {
   "cell_type": "markdown",
   "metadata": {},
   "source": [
    "さて、長く数式の説明が続いたので、ここで再び、本章前半部で扱った「学生のデータ」に戻りましょう。練習問題でもやりましたが、まずは、数学とポルトガル語の成績の平均を計算してみます。次のようになります。\n",
    "\n",
    "ここではstudent-mat.csvという数学成績データとstudent-por.csvというポルトガル語成績データを読み込み、それをマージしています。pandas.merge（以下ではpd.merge）のパラメータ「`on`」で指定しているのはマージする項目、「`suffixes`」はマージ後の列の末尾に付ける接辞尾です。"
   ]
  },
  {
   "cell_type": "code",
   "execution_count": null,
   "metadata": {},
   "outputs": [],
   "source": [
    "# 数学のデータを読み込む\n",
    "student_data_math = pd.read_csv('student-mat.csv', sep=';')\n",
    "\n",
    "# ポルトガルのデータを読み込む\n",
    "student_data_por = pd.read_csv('student-por.csv', sep=';')\n",
    "\n",
    "# マージする\n",
    "student_data_merge = pd.merge(student_data_math\n",
    "                              , student_data_por\n",
    "                              , on=['school', 'sex', 'age', 'address', 'famsize', 'Pstatus', 'Medu'\n",
    "                                      , 'Fedu', 'Mjob', 'Fjob', 'reason', 'nursery', 'internet']\n",
    "                              , suffixes=('_math', '_por'))\n",
    "\n",
    "print('G1数学の成績平均：', student_data_merge.G1_math.mean())\n",
    "print('G1ポルトガル語の成績平均：', student_data_merge.G1_por.mean())"
   ]
  },
  {
   "cell_type": "markdown",
   "metadata": {},
   "source": [
    "### 6.12.1 検定\n",
    "数字を見ていると、若干ではありますが、数学の方が悪いように見えます。しかし、果たしてこれは本当に差があると言ってもよいのでしょうか？　これを考えていくのが検定というアプローチです。仮説として、母集団において成績の平均に差がないとしましょう。数学の成績の母平均を$\\mu_{math}$、ポルトガル語の成績の母平均を$\\mu_{por}$とすると、以下の式が成り立つとします。"
   ]
  },
  {
   "cell_type": "markdown",
   "metadata": {},
   "source": [
    "\\begin{eqnarray}\n",
    "\\mu_{math} = \\mu_{por}\n",
    "\\end{eqnarray}"
   ]
  },
  {
   "cell_type": "markdown",
   "metadata": {},
   "source": [
    "検定において、正しいか検討する仮説のことを**帰無仮説**といい、$H_{0}$とします。一方、帰無仮説の否定は、2つの間に差があるという仮説です。つまり、以下の式が成り立つことを意味します。"
   ]
  },
  {
   "cell_type": "markdown",
   "metadata": {},
   "source": [
    "\\begin{eqnarray}\n",
    "\\mu_{math} \\neq \\mu_{por}\n",
    "\\end{eqnarray}"
   ]
  },
  {
   "cell_type": "markdown",
   "metadata": {},
   "source": [
    "これを**対立仮説**といい、$H_{1}$と表します。次に、先ほどの$H_{0}$を正しいとした場合に、統計的なアプローチを取り、それが起こることはありえない（たとえば、$\\mu_{math} = \\mu_{por}$が起こる確率が5%未満になる）ということが言えたとします。この時、この$H_{0}$は**棄却**されるといい、対立仮説が採択され、よって差があることがいえることになります。\n",
    "\n",
    "\n",
    "また、先ほど5%未満としましたが、検定において帰無仮説を棄却する水準のことを**有意水準**といい、それを5%に設定したことになります。また、有意水準に満たないことを、統計的な差がある（**有意**である）といいます。有意水準は**α**で表され、α=5%やα=1%がよく使われます。\n",
    "\n",
    "また、**p-value**（**p値**）とは、偶然、実際に反した数値が統計量として計算されてしまう確率です。$H_{0}$が正しい場合に、p値が低いほど、ありえないことが起きた（$H_{0}$が正しくないという統計量が計算された）ということになります。\n",
    "\n",
    "それでは、これらの概念を使って、p値を計算してみましょう。 p値を計算するには、`stats.ttest_rel`を使います。"
   ]
  },
  {
   "cell_type": "code",
   "execution_count": null,
   "metadata": {},
   "outputs": [],
   "source": [
    "from scipy import stats\n",
    "t, p = stats.ttest_rel(student_data_merge.G1_math, student_data_merge.G1_por)\n",
    "print( 'p値 = ', p)"
   ]
  },
  {
   "cell_type": "markdown",
   "metadata": {},
   "source": [
    "有意水準を1%で設定すると、帰無仮説が棄却され、差があると結論づけることができます。"
   ]
  },
  {
   "cell_type": "markdown",
   "metadata": {},
   "source": [
    "### 6.12.2 第1種の過誤と第2種の過誤\n",
    "\n",
    "ここでは、有意水準1%だと帰無仮説が棄却されましたが、もしかすると帰無仮説が正しかったということもありえます。このように、帰無仮説が正しいにもかかわらず、棄却してしまうことを**第1種の過誤**といい、その確率は通常**$α$**で表します。別名、あわてものの誤りとも言われます。一方、この帰無仮説が誤っているにもかかわらず受容してしまうことを、**第2種の過誤**といい、その確率を**$β$**で表します。この第2種の過誤は誤っているのに見過ごしているので、ぼんやりものの誤りともいわれます。\n",
    "\n",
    "この$β$の補数$1-β$は**検出力**と呼ばれ、帰無仮説が誤っているときに正しく棄却できる確率を表します。裁判で例えると、実際には有罪である犯罪者が無罪の判決を受けるのは第1種の過誤、実際には無罪の人が有罪の判決を受けるのは第2種の過誤に該当します。以下の図が参考になります。\n",
    "\n",
    "![error](https://user-images.githubusercontent.com/423158/38920393-22e1e66e-432e-11e8-9bc2-4356f60b9732.png)\n",
    "\n",
    "一般的に$1-β$は0.8程度ほしいといわれています。しかし、$α$と$β$は片方を小さくすると、もう片方は大きくなる関係にあります。また、$β$は重要な量ですが、値を計算するにはサンプルサイズや効果量が必要になるため、ここでは概念の紹介に留めておきます。"
   ]
  },
  {
   "cell_type": "markdown",
   "metadata": {},
   "source": [
    "\n",
    "### 6.12.3 ビッグデータに対する検定の注意\n",
    "さまざまな分野で使用されている検定ですが、注意点があります。実は検定はビッグデータの解析（特に決まった厳密な定義はありませんが、サンプルサイズが数百万、数千万以上ある場合を想定しています）には向いていないのです。まず第一に、標本と母集団の統計量が互いに厳密に等しいことは、実世界ではほぼあり得ません。\n",
    "\n",
    "サンプルサイズを大きくすると、それにともなって検出力$1-β$が大きくなり、実務的には等しいと考えていいような微妙な差であってもp値が小さくなり、帰無仮説が棄却されてしまいます。つまり、ビッグデータに対して検定を行うと大抵の場合、高度に有意な（p値がかなり小さい）結果になってしまうのです。"
   ]
  },
  {
   "cell_type": "markdown",
   "metadata": {},
   "source": [
    "また、検定で高度に有意な結果になったとしても、2つの母数は大きく異なるという事は結論付けられません。2つの値がどの程度異なるかに関しては検定からはわからないのです。どの程度の差があるかを知りたい場合には前節で用いた信頼区間を用いるのが効果的です。"
   ]
  },
  {
   "cell_type": "markdown",
   "metadata": {},
   "source": [
    "以上で、検定までの単元は終了です。この単元は幅が広く、この講座では扱いきれない部分がありますが、もし今までに統計や確率について学ぶ機会がなかった場合は、はじめに紹介した参考文献等を見ながらぜひ一通り勉強してみてください。また、今まで扱ったライブラリの関数には色々なオプションがありますので、興味のある方は調べてみてください。"
   ]
  },
  {
   "cell_type": "markdown",
   "metadata": {},
   "source": [
    "#### <練習問題 6-19>\n",
    "\n",
    "前半部分で使用したデータで、数学とポルトガル語の成績のG2のそれぞれの平均について、差があると言えるでしょうか。また、`G3`はどうでしょうか。"
   ]
  },
  {
   "cell_type": "markdown",
   "metadata": {},
   "source": [
    "***"
   ]
  },
  {
   "cell_type": "markdown",
   "metadata": {},
   "source": [
    "## 6.13 総合問題"
   ]
  },
  {
   "cell_type": "markdown",
   "metadata": {},
   "source": [
    "### ■総合問題6-3 検定\n",
    "\n",
    "「6.12 統計的検定」で使用したデータ（`student_data_merge`）を使って、以下の問いに答えてください。\n",
    "\n",
    "（1）それぞれの欠席数（`absences`）については、差があるといえるでしょうか。\n",
    "\n",
    "\n",
    "（2）それぞれの勉強時間（`studytime`）についてはどうでしょうか。"
   ]
  }
 ],
 "metadata": {
  "anaconda-cloud": {},
  "kernelspec": {
   "display_name": "Python 3",
   "language": "python",
   "name": "python3"
  },
  "language_info": {
   "codemirror_mode": {
    "name": "ipython",
    "version": 3
   },
   "file_extension": ".py",
   "mimetype": "text/x-python",
   "name": "python",
   "nbconvert_exporter": "python",
   "pygments_lexer": "ipython3",
   "version": "3.6.9"
  },
  "nbpresent": {
   "slides": {
    "008a788b-b456-4a0c-8288-6f60967c483e": {
     "id": "008a788b-b456-4a0c-8288-6f60967c483e",
     "prev": "17036b1e-8781-4a7e-a909-a179f499bbc9",
     "regions": {
      "072dbee3-3b47-4389-a934-e0168ebd835e": {
       "attrs": {
        "height": 0.8,
        "width": 0.8,
        "x": 0.1,
        "y": 0.1
       },
       "content": {
        "cell": "378cb846-5485-41d5-9983-fec98a22072a",
        "part": "whole"
       },
       "id": "072dbee3-3b47-4389-a934-e0168ebd835e"
      }
     }
    },
    "01ab9067-898c-46a1-91d9-18ca4fe5a937": {
     "id": "01ab9067-898c-46a1-91d9-18ca4fe5a937",
     "prev": "008a788b-b456-4a0c-8288-6f60967c483e",
     "regions": {
      "42da7aa5-8de9-4631-8abe-4ab35c510140": {
       "attrs": {
        "height": 0.8,
        "width": 0.8,
        "x": 0.1,
        "y": 0.1
       },
       "content": {
        "cell": "7f0f7ef4-e90b-41de-8f73-6165e1b3c1cb",
        "part": "whole"
       },
       "id": "42da7aa5-8de9-4631-8abe-4ab35c510140"
      }
     }
    },
    "02225e5f-f35d-40ef-8f23-5431b19121ab": {
     "id": "02225e5f-f35d-40ef-8f23-5431b19121ab",
     "prev": "430a8f03-8947-469c-a376-2f271448284d",
     "regions": {
      "5bf42e3a-831e-4238-ae19-d2212b26edc0": {
       "attrs": {
        "height": 0.8,
        "width": 0.8,
        "x": 0.1,
        "y": 0.1
       },
       "content": {
        "cell": "c68c4e4e-072e-4620-a325-3ebb19ebe1ce",
        "part": "whole"
       },
       "id": "5bf42e3a-831e-4238-ae19-d2212b26edc0"
      }
     }
    },
    "094d2d0d-c7e5-40bc-bed7-bd80198e8e18": {
     "id": "094d2d0d-c7e5-40bc-bed7-bd80198e8e18",
     "prev": "de950ae7-a7c1-424c-afe2-42f481db181e",
     "regions": {
      "95429590-c6e8-4e00-a061-62d2a454c52f": {
       "attrs": {
        "height": 0.8,
        "width": 0.8,
        "x": 0.1,
        "y": 0.1
       },
       "content": {
        "cell": "aa08360f-e7dd-4647-bbfb-cadd5f19af31",
        "part": "whole"
       },
       "id": "95429590-c6e8-4e00-a061-62d2a454c52f"
      }
     }
    },
    "0aa8229e-9b5c-4f49-bd1e-34de4cd2e82f": {
     "id": "0aa8229e-9b5c-4f49-bd1e-34de4cd2e82f",
     "prev": "11f1d1c4-4848-4b7d-a62d-5427e055bbe3",
     "regions": {
      "9504ff07-d651-4294-ba2e-a89ec52ca708": {
       "attrs": {
        "height": 0.8,
        "width": 0.8,
        "x": 0.1,
        "y": 0.1
       },
       "content": {
        "cell": "e73995f2-c960-4881-b3d3-82c24b06c64c",
        "part": "whole"
       },
       "id": "9504ff07-d651-4294-ba2e-a89ec52ca708"
      }
     }
    },
    "0c50d9ca-fef0-4e5c-8a4e-f18d1c2dbb9e": {
     "id": "0c50d9ca-fef0-4e5c-8a4e-f18d1c2dbb9e",
     "prev": "b248eaf4-2e85-4c32-8f88-7b2ef510ee7c",
     "regions": {
      "8b734704-6740-44f7-8c87-17350c882ed3": {
       "attrs": {
        "height": 0.8,
        "width": 0.8,
        "x": 0.1,
        "y": 0.1
       },
       "content": {
        "cell": "cc42c471-e943-450e-a441-3dc962f1c40d",
        "part": "whole"
       },
       "id": "8b734704-6740-44f7-8c87-17350c882ed3"
      }
     }
    },
    "107cd2c7-0a77-4fd7-922b-56df6615dcca": {
     "id": "107cd2c7-0a77-4fd7-922b-56df6615dcca",
     "prev": "2e7deda1-5486-4b26-8e0a-c91e4c88dbe8",
     "regions": {
      "2ee1a19b-7a00-46b1-b393-485ddb7c2b9b": {
       "attrs": {
        "height": 0.8,
        "width": 0.8,
        "x": 0.1,
        "y": 0.1
       },
       "content": {
        "cell": "d27b23aa-809c-4965-8399-5e67901e2ae4",
        "part": "whole"
       },
       "id": "2ee1a19b-7a00-46b1-b393-485ddb7c2b9b"
      }
     }
    },
    "11f1d1c4-4848-4b7d-a62d-5427e055bbe3": {
     "id": "11f1d1c4-4848-4b7d-a62d-5427e055bbe3",
     "prev": "9461c0f4-d87e-441d-915d-95c69b105ecb",
     "regions": {
      "185d0c6f-1e15-43e1-81f5-1234d5ac3ade": {
       "attrs": {
        "height": 0.8,
        "width": 0.8,
        "x": 0.1,
        "y": 0.1
       },
       "content": {
        "cell": "18703937-12da-40b5-960d-e7a50467e7d0",
        "part": "whole"
       },
       "id": "185d0c6f-1e15-43e1-81f5-1234d5ac3ade"
      }
     }
    },
    "17036b1e-8781-4a7e-a909-a179f499bbc9": {
     "id": "17036b1e-8781-4a7e-a909-a179f499bbc9",
     "prev": "5494c0f6-12d4-4627-9481-26c7858f8f09",
     "regions": {
      "4757fb07-c8f0-49b5-bb28-9a5bb61995ff": {
       "attrs": {
        "height": 0.8,
        "width": 0.8,
        "x": 0.1,
        "y": 0.1
       },
       "content": {
        "cell": "6452b3ab-84b7-4f3c-b74f-ae118e4ed9f2",
        "part": "whole"
       },
       "id": "4757fb07-c8f0-49b5-bb28-9a5bb61995ff"
      }
     }
    },
    "1d02d174-1ae1-4900-bb8e-92083b3f723b": {
     "id": "1d02d174-1ae1-4900-bb8e-92083b3f723b",
     "prev": "466c6928-dc5e-4aeb-abad-2dbb2c797793",
     "regions": {
      "2e5e7aee-fec1-4322-82df-30c9bda076ce": {
       "attrs": {
        "height": 0.8,
        "width": 0.8,
        "x": 0.1,
        "y": 0.1
       },
       "content": {
        "cell": "e89daf11-82d5-4ae2-905b-b73662884e4e",
        "part": "whole"
       },
       "id": "2e5e7aee-fec1-4322-82df-30c9bda076ce"
      }
     }
    },
    "26984d6c-6cdd-4fb6-a80c-b16f643b3802": {
     "id": "26984d6c-6cdd-4fb6-a80c-b16f643b3802",
     "prev": "dfaeb098-c3a9-4980-ae35-70f9b6296a7d",
     "regions": {
      "e3a7924f-b4ad-4919-b97c-a9f0da0027ec": {
       "attrs": {
        "height": 0.8,
        "width": 0.8,
        "x": 0.1,
        "y": 0.1
       },
       "content": {
        "cell": "5683d4a6-3bdb-44ea-8a8e-6203da028f73",
        "part": "whole"
       },
       "id": "e3a7924f-b4ad-4919-b97c-a9f0da0027ec"
      }
     }
    },
    "2e7deda1-5486-4b26-8e0a-c91e4c88dbe8": {
     "id": "2e7deda1-5486-4b26-8e0a-c91e4c88dbe8",
     "prev": "67a167dd-f578-4c00-9a52-77864d640afa",
     "regions": {
      "eb91815b-1df2-4bfb-b2d9-b47359f388f3": {
       "attrs": {
        "height": 0.8,
        "width": 0.8,
        "x": 0.1,
        "y": 0.1
       },
       "content": {
        "cell": "2b936ae8-a540-4353-8b1d-42f7a3bdc763",
        "part": "whole"
       },
       "id": "eb91815b-1df2-4bfb-b2d9-b47359f388f3"
      }
     }
    },
    "35c31f44-06e2-4d75-a9b7-0c168d125d04": {
     "id": "35c31f44-06e2-4d75-a9b7-0c168d125d04",
     "prev": "8b46588c-ad23-4509-b67d-62702ed7afd1",
     "regions": {
      "82c3daba-b8de-42a1-b157-7274603802ae": {
       "attrs": {
        "height": 0.8,
        "width": 0.8,
        "x": 0.1,
        "y": 0.1
       },
       "content": {
        "cell": "35e93b3d-957c-4833-a2a5-b980ecffa5b1",
        "part": "whole"
       },
       "id": "82c3daba-b8de-42a1-b157-7274603802ae"
      }
     }
    },
    "3671ddb9-95b3-4245-b062-03cc90ea386d": {
     "id": "3671ddb9-95b3-4245-b062-03cc90ea386d",
     "prev": "3c3ef584-2982-4a35-afcf-4772c65dc2ac",
     "regions": {
      "faddc9ae-ef33-4d8e-a04e-e9f73ea0310e": {
       "attrs": {
        "height": 0.8,
        "width": 0.8,
        "x": 0.1,
        "y": 0.1
       },
       "content": {
        "cell": "bea98316-c64e-4810-b176-ed4947524f8c",
        "part": "whole"
       },
       "id": "faddc9ae-ef33-4d8e-a04e-e9f73ea0310e"
      }
     }
    },
    "37edb96d-7d51-438f-bd46-fc06e161e205": {
     "id": "37edb96d-7d51-438f-bd46-fc06e161e205",
     "prev": "58980228-1ba8-4ba6-89d3-dd7694662786",
     "regions": {
      "d1ee61d0-5e72-4925-b975-1cc103761137": {
       "attrs": {
        "height": 0.8,
        "width": 0.8,
        "x": 0.1,
        "y": 0.1
       },
       "content": {
        "cell": "b0fc1861-b979-45c5-abd0-3b05200de3b6",
        "part": "whole"
       },
       "id": "d1ee61d0-5e72-4925-b975-1cc103761137"
      }
     }
    },
    "3a9ce2a4-6dd4-463e-8d2d-4aa731447f39": {
     "id": "3a9ce2a4-6dd4-463e-8d2d-4aa731447f39",
     "prev": "0aa8229e-9b5c-4f49-bd1e-34de4cd2e82f",
     "regions": {
      "80f94dd5-569c-4105-9db9-746bc3a0d979": {
       "attrs": {
        "height": 0.8,
        "width": 0.8,
        "x": 0.1,
        "y": 0.1
       },
       "content": {
        "cell": "d3d6e29a-a939-4ab4-95e0-5645d4eb97a4",
        "part": "whole"
       },
       "id": "80f94dd5-569c-4105-9db9-746bc3a0d979"
      }
     }
    },
    "3c3ef584-2982-4a35-afcf-4772c65dc2ac": {
     "id": "3c3ef584-2982-4a35-afcf-4772c65dc2ac",
     "prev": "523566b9-8158-4001-91b2-f7d1d61ec04b",
     "regions": {
      "8182730f-8099-4a3f-815d-c92171a084a7": {
       "attrs": {
        "height": 0.8,
        "width": 0.8,
        "x": 0.1,
        "y": 0.1
       },
       "content": {
        "cell": "2ff35469-eeef-46b0-8b36-f2b6d4580bd4",
        "part": "whole"
       },
       "id": "8182730f-8099-4a3f-815d-c92171a084a7"
      }
     }
    },
    "3e8e0818-4535-4e50-b8da-423cfa6bda87": {
     "id": "3e8e0818-4535-4e50-b8da-423cfa6bda87",
     "prev": "bff971e4-b2b6-497d-8f6b-6401514ee2ca",
     "regions": {
      "859f95ab-5314-4f50-9fc8-7f8a76741c82": {
       "attrs": {
        "height": 0.8,
        "width": 0.8,
        "x": 0.1,
        "y": 0.1
       },
       "content": {
        "cell": "0893c4bd-30b9-4137-bc19-c40d5def546a",
        "part": "whole"
       },
       "id": "859f95ab-5314-4f50-9fc8-7f8a76741c82"
      }
     }
    },
    "430a8f03-8947-469c-a376-2f271448284d": {
     "id": "430a8f03-8947-469c-a376-2f271448284d",
     "prev": "ae384cc7-844b-4a3a-816d-4275e60a5020",
     "regions": {
      "cc346300-13a7-4c57-9eea-13d379d8f845": {
       "attrs": {
        "height": 0.8,
        "width": 0.8,
        "x": 0.1,
        "y": 0.1
       },
       "content": {
        "cell": "3b3885c1-a497-4d41-bb48-76a6d8b43a62",
        "part": "whole"
       },
       "id": "cc346300-13a7-4c57-9eea-13d379d8f845"
      }
     }
    },
    "43517c80-f987-4261-bad2-6844f9f11a43": {
     "id": "43517c80-f987-4261-bad2-6844f9f11a43",
     "prev": "02225e5f-f35d-40ef-8f23-5431b19121ab",
     "regions": {
      "386e1c27-adc8-4888-b278-a730e1a06a1b": {
       "attrs": {
        "height": 0.8,
        "width": 0.8,
        "x": 0.1,
        "y": 0.1
       },
       "content": {
        "cell": "c34d5c93-c65c-4e47-8c92-b38faead2dc2",
        "part": "whole"
       },
       "id": "386e1c27-adc8-4888-b278-a730e1a06a1b"
      }
     }
    },
    "466c6928-dc5e-4aeb-abad-2dbb2c797793": {
     "id": "466c6928-dc5e-4aeb-abad-2dbb2c797793",
     "prev": "01ab9067-898c-46a1-91d9-18ca4fe5a937",
     "regions": {
      "dadc7530-a88a-474c-93b1-a6b13fdeb671": {
       "attrs": {
        "height": 0.8,
        "width": 0.8,
        "x": 0.1,
        "y": 0.1
       },
       "content": {
        "cell": "07dd10e2-514b-4435-afa4-cab572e54611",
        "part": "whole"
       },
       "id": "dadc7530-a88a-474c-93b1-a6b13fdeb671"
      }
     }
    },
    "523566b9-8158-4001-91b2-f7d1d61ec04b": {
     "id": "523566b9-8158-4001-91b2-f7d1d61ec04b",
     "prev": "db6c2c84-14f3-4a3f-972c-ea1e9b45b091",
     "regions": {
      "fa40db73-7f38-419f-b6d1-2d0c9854ad3d": {
       "attrs": {
        "height": 0.8,
        "width": 0.8,
        "x": 0.1,
        "y": 0.1
       },
       "content": {
        "cell": "9c7b5502-7d21-45ef-9801-c8ab89c0cb1b",
        "part": "whole"
       },
       "id": "fa40db73-7f38-419f-b6d1-2d0c9854ad3d"
      }
     }
    },
    "5342b691-167b-4e0f-a28f-aee2f74648b3": {
     "id": "5342b691-167b-4e0f-a28f-aee2f74648b3",
     "prev": "9750cf96-7612-4159-bac1-bf26fe2f60c8",
     "regions": {
      "8bf6c96e-7113-4293-9db9-3999fd5dc82b": {
       "attrs": {
        "height": 0.8,
        "width": 0.8,
        "x": 0.1,
        "y": 0.1
       },
       "content": {
        "cell": "21eb3ee8-f72c-4842-a2b2-98bc6b4b06b2",
        "part": "whole"
       },
       "id": "8bf6c96e-7113-4293-9db9-3999fd5dc82b"
      }
     }
    },
    "5494c0f6-12d4-4627-9481-26c7858f8f09": {
     "id": "5494c0f6-12d4-4627-9481-26c7858f8f09",
     "prev": "3671ddb9-95b3-4245-b062-03cc90ea386d",
     "regions": {
      "8f4923d7-89d2-4193-a542-786412d24121": {
       "attrs": {
        "height": 0.8,
        "width": 0.8,
        "x": 0.1,
        "y": 0.1
       },
       "content": {
        "cell": "47413f67-a333-4cd6-8a6e-6b268aa4f4ff",
        "part": "whole"
       },
       "id": "8f4923d7-89d2-4193-a542-786412d24121"
      }
     }
    },
    "57d8f821-fdaf-412d-bc5c-fbaf939e7850": {
     "id": "57d8f821-fdaf-412d-bc5c-fbaf939e7850",
     "prev": "5342b691-167b-4e0f-a28f-aee2f74648b3",
     "regions": {
      "595c1191-37e3-41c2-8807-172c5221490d": {
       "attrs": {
        "height": 0.8,
        "width": 0.8,
        "x": 0.1,
        "y": 0.1
       },
       "content": {
        "cell": "885a45ac-f069-4988-b245-fcd79646e17f",
        "part": "whole"
       },
       "id": "595c1191-37e3-41c2-8807-172c5221490d"
      }
     }
    },
    "58980228-1ba8-4ba6-89d3-dd7694662786": {
     "id": "58980228-1ba8-4ba6-89d3-dd7694662786",
     "prev": "ee0491f8-b146-4b0e-99d3-ceb5eb2f3a1d",
     "regions": {
      "c5224b5d-aad4-4862-a3d1-7e6996d3d33d": {
       "attrs": {
        "height": 0.8,
        "width": 0.8,
        "x": 0.1,
        "y": 0.1
       },
       "content": {
        "cell": "8972370e-3b2e-4fe5-b7d5-e6f410f4df68",
        "part": "whole"
       },
       "id": "c5224b5d-aad4-4862-a3d1-7e6996d3d33d"
      }
     }
    },
    "58fe1e15-bd81-4c14-8c10-08606b7f56ae": {
     "id": "58fe1e15-bd81-4c14-8c10-08606b7f56ae",
     "prev": "8511eb84-692c-4a63-b3c3-7e1f86c137bd",
     "regions": {
      "c29ef705-df31-4240-987b-1697100d6ae4": {
       "attrs": {
        "height": 0.8,
        "width": 0.8,
        "x": 0.1,
        "y": 0.1
       },
       "content": {
        "cell": "b5e81c61-d695-4fc4-b784-45ed41026d4a",
        "part": "whole"
       },
       "id": "c29ef705-df31-4240-987b-1697100d6ae4"
      }
     }
    },
    "6156681f-3fe2-4d80-aab1-f7c28e200404": {
     "id": "6156681f-3fe2-4d80-aab1-f7c28e200404",
     "prev": "c17f7347-3cbe-420c-a499-3131e4eaac59",
     "regions": {
      "28d9588e-1085-432e-9b58-6e28c4d7c74f": {
       "attrs": {
        "height": 0.8,
        "width": 0.8,
        "x": 0.1,
        "y": 0.1
       },
       "content": {
        "cell": "3dbf6370-0a3a-44be-ade7-2a32586e4508",
        "part": "whole"
       },
       "id": "28d9588e-1085-432e-9b58-6e28c4d7c74f"
      }
     }
    },
    "67a167dd-f578-4c00-9a52-77864d640afa": {
     "id": "67a167dd-f578-4c00-9a52-77864d640afa",
     "prev": "b7ce05ff-6ab9-49ba-9235-05d97e6d8b19",
     "regions": {
      "b3a441dc-47d2-402e-b9fe-68a0472d5670": {
       "attrs": {
        "height": 0.8,
        "width": 0.8,
        "x": 0.1,
        "y": 0.1
       },
       "content": {
        "cell": "a67a0f57-b7bb-4ad2-89a8-f53f514d52d5",
        "part": "whole"
       },
       "id": "b3a441dc-47d2-402e-b9fe-68a0472d5670"
      }
     }
    },
    "76cecc6a-4ff3-4f36-9fcd-dc72da22db7a": {
     "id": "76cecc6a-4ff3-4f36-9fcd-dc72da22db7a",
     "prev": "107cd2c7-0a77-4fd7-922b-56df6615dcca",
     "regions": {
      "3d9e9ca1-88f1-4d57-b1ce-1cd3377e1f1e": {
       "attrs": {
        "height": 0.8,
        "width": 0.8,
        "x": 0.1,
        "y": 0.1
       },
       "content": {
        "cell": "c3f25ce7-4ac2-4e7e-ae0d-0d354b7aa34a",
        "part": "whole"
       },
       "id": "3d9e9ca1-88f1-4d57-b1ce-1cd3377e1f1e"
      }
     }
    },
    "7a3d7039-5de1-4759-9129-49437077ec67": {
     "id": "7a3d7039-5de1-4759-9129-49437077ec67",
     "prev": "76cecc6a-4ff3-4f36-9fcd-dc72da22db7a",
     "regions": {
      "f8ee8b52-b882-4e27-b1e2-4db18e65b256": {
       "attrs": {
        "height": 0.8,
        "width": 0.8,
        "x": 0.1,
        "y": 0.1
       },
       "content": {
        "cell": "4a0d9ca6-f3a4-453d-b52e-ad5d17ca5883",
        "part": "whole"
       },
       "id": "f8ee8b52-b882-4e27-b1e2-4db18e65b256"
      }
     }
    },
    "7c9758fa-71de-4938-8eed-be5dabd2d61c": {
     "id": "7c9758fa-71de-4938-8eed-be5dabd2d61c",
     "prev": "3e8e0818-4535-4e50-b8da-423cfa6bda87",
     "regions": {
      "94b0287c-da12-4bf9-ab24-b6041cab0a0f": {
       "attrs": {
        "height": 0.8,
        "width": 0.8,
        "x": 0.1,
        "y": 0.1
       },
       "content": {
        "cell": "5e5e8200-af66-4ffa-85d8-0ca019d398d8",
        "part": "whole"
       },
       "id": "94b0287c-da12-4bf9-ab24-b6041cab0a0f"
      }
     }
    },
    "8511eb84-692c-4a63-b3c3-7e1f86c137bd": {
     "id": "8511eb84-692c-4a63-b3c3-7e1f86c137bd",
     "prev": "3a9ce2a4-6dd4-463e-8d2d-4aa731447f39",
     "regions": {
      "d512994f-a930-4cb5-9feb-0c9e9b3eca21": {
       "attrs": {
        "height": 0.8,
        "width": 0.8,
        "x": 0.1,
        "y": 0.1
       },
       "content": {
        "cell": "93a5d1f3-e3b5-4840-95c2-503725844dc3",
        "part": "whole"
       },
       "id": "d512994f-a930-4cb5-9feb-0c9e9b3eca21"
      }
     }
    },
    "863c2f5d-5ed6-4abd-9212-ac3aa08b7c2d": {
     "id": "863c2f5d-5ed6-4abd-9212-ac3aa08b7c2d",
     "prev": "fa1e9266-57b6-41c8-9ad2-05119a8154fa",
     "regions": {
      "2efc3ace-624d-49f2-8602-18d3ce4fd9d1": {
       "attrs": {
        "height": 0.8,
        "width": 0.8,
        "x": 0.1,
        "y": 0.1
       },
       "content": {
        "cell": "1c22acff-5c31-4b42-a557-2be121021d1e",
        "part": "whole"
       },
       "id": "2efc3ace-624d-49f2-8602-18d3ce4fd9d1"
      }
     }
    },
    "8a00b47c-c1da-479f-b5e8-16224b1bc1ad": {
     "id": "8a00b47c-c1da-479f-b5e8-16224b1bc1ad",
     "prev": "c372f9ff-ce00-4768-8a0a-cb894e0fa65d",
     "regions": {
      "88f7e3bd-c1f1-4783-aa29-4b3871ed83c9": {
       "attrs": {
        "height": 0.8,
        "width": 0.8,
        "x": 0.1,
        "y": 0.1
       },
       "content": {
        "cell": "4bcabd6c-13d5-4a8e-a4cf-46d12550458b",
        "part": "whole"
       },
       "id": "88f7e3bd-c1f1-4783-aa29-4b3871ed83c9"
      }
     }
    },
    "8b46588c-ad23-4509-b67d-62702ed7afd1": {
     "id": "8b46588c-ad23-4509-b67d-62702ed7afd1",
     "prev": "37edb96d-7d51-438f-bd46-fc06e161e205",
     "regions": {
      "6e4458c9-28eb-4025-8ac9-d7fc0ffb8fee": {
       "attrs": {
        "height": 0.8,
        "width": 0.8,
        "x": 0.1,
        "y": 0.1
       },
       "content": {
        "cell": "575abe68-ac1a-489a-8b14-aef861c188e3",
        "part": "whole"
       },
       "id": "6e4458c9-28eb-4025-8ac9-d7fc0ffb8fee"
      }
     }
    },
    "92033db1-1754-4f97-a65f-d7fcd5e5ef5f": {
     "id": "92033db1-1754-4f97-a65f-d7fcd5e5ef5f",
     "prev": "7c9758fa-71de-4938-8eed-be5dabd2d61c",
     "regions": {
      "73b1869c-52b3-4f19-8918-f9d27d1ce96a": {
       "attrs": {
        "height": 0.8,
        "width": 0.8,
        "x": 0.1,
        "y": 0.1
       },
       "content": {
        "cell": "31f1dd1c-7279-4590-a581-4789248b9d95",
        "part": "whole"
       },
       "id": "73b1869c-52b3-4f19-8918-f9d27d1ce96a"
      }
     }
    },
    "9461c0f4-d87e-441d-915d-95c69b105ecb": {
     "id": "9461c0f4-d87e-441d-915d-95c69b105ecb",
     "prev": "92033db1-1754-4f97-a65f-d7fcd5e5ef5f",
     "regions": {
      "4dd7f598-05d6-4e49-883d-978967a66cc5": {
       "attrs": {
        "height": 0.8,
        "width": 0.8,
        "x": 0.1,
        "y": 0.1
       },
       "content": {
        "cell": "674e452c-7ba7-4c07-be5e-1e73553f8849",
        "part": "whole"
       },
       "id": "4dd7f598-05d6-4e49-883d-978967a66cc5"
      }
     }
    },
    "94c7954c-21de-44d2-81f0-746748834167": {
     "id": "94c7954c-21de-44d2-81f0-746748834167",
     "prev": "d806c3fb-ea3d-4b90-be5b-e78113b3e887",
     "regions": {
      "a853df0e-2a78-45f8-8841-72a437ba5d68": {
       "attrs": {
        "height": 0.8,
        "width": 0.8,
        "x": 0.1,
        "y": 0.1
       },
       "content": {
        "cell": "f581b3c5-979f-4ad2-95b7-e89dc86afee3",
        "part": "whole"
       },
       "id": "a853df0e-2a78-45f8-8841-72a437ba5d68"
      }
     }
    },
    "94c969b1-892d-4f1a-a832-8154573c893c": {
     "id": "94c969b1-892d-4f1a-a832-8154573c893c",
     "prev": "94c7954c-21de-44d2-81f0-746748834167",
     "regions": {
      "c1ade563-9e9b-490c-970b-37faba235b7e": {
       "attrs": {
        "height": 0.8,
        "width": 0.8,
        "x": 0.1,
        "y": 0.1
       },
       "content": {
        "cell": "e965b847-7d60-48e2-b72f-972816a1e6fc",
        "part": "whole"
       },
       "id": "c1ade563-9e9b-490c-970b-37faba235b7e"
      }
     }
    },
    "9750cf96-7612-4159-bac1-bf26fe2f60c8": {
     "id": "9750cf96-7612-4159-bac1-bf26fe2f60c8",
     "prev": "94c969b1-892d-4f1a-a832-8154573c893c",
     "regions": {
      "116d14ce-3f3d-44a1-aa86-61b1ac19354f": {
       "attrs": {
        "height": 0.8,
        "width": 0.8,
        "x": 0.1,
        "y": 0.1
       },
       "content": {
        "cell": "ddd82eaf-9b54-48bf-ac57-aa797a3a970a",
        "part": "whole"
       },
       "id": "116d14ce-3f3d-44a1-aa86-61b1ac19354f"
      }
     }
    },
    "a40bc8a7-660a-4478-8071-b97c5127c4b5": {
     "id": "a40bc8a7-660a-4478-8071-b97c5127c4b5",
     "prev": "863c2f5d-5ed6-4abd-9212-ac3aa08b7c2d",
     "regions": {
      "929e10a6-a0b0-4d31-99b1-311fcfc150a1": {
       "attrs": {
        "height": 0.8,
        "width": 0.8,
        "x": 0.1,
        "y": 0.1
       },
       "content": {
        "cell": "d7d32de7-bcdd-486d-b6c9-d5caad1164e3",
        "part": "whole"
       },
       "id": "929e10a6-a0b0-4d31-99b1-311fcfc150a1"
      }
     }
    },
    "ae384cc7-844b-4a3a-816d-4275e60a5020": {
     "id": "ae384cc7-844b-4a3a-816d-4275e60a5020",
     "prev": "26984d6c-6cdd-4fb6-a80c-b16f643b3802",
     "regions": {
      "b7a26fcd-98a6-4c24-893f-14ab3d6257bb": {
       "attrs": {
        "height": 0.8,
        "width": 0.8,
        "x": 0.1,
        "y": 0.1
       },
       "content": {
        "cell": "ddc73611-ffe2-434e-b3bd-cd417ef42b68",
        "part": "whole"
       },
       "id": "b7a26fcd-98a6-4c24-893f-14ab3d6257bb"
      }
     }
    },
    "b248eaf4-2e85-4c32-8f88-7b2ef510ee7c": {
     "id": "b248eaf4-2e85-4c32-8f88-7b2ef510ee7c",
     "prev": null,
     "regions": {
      "729796eb-5023-4fc8-b32f-83045cda3258": {
       "attrs": {
        "height": 0.8,
        "width": 0.8,
        "x": 0.1,
        "y": 0.1
       },
       "content": {
        "cell": "dad3a857-8628-4c15-a8ad-312792cb88ac",
        "part": "whole"
       },
       "id": "729796eb-5023-4fc8-b32f-83045cda3258"
      }
     }
    },
    "b7ce05ff-6ab9-49ba-9235-05d97e6d8b19": {
     "id": "b7ce05ff-6ab9-49ba-9235-05d97e6d8b19",
     "prev": "fd5b9f11-7cb4-4280-8955-7da1f2a0eafd",
     "regions": {
      "44f843a2-f9a7-4c01-be36-f2b39de5a725": {
       "attrs": {
        "height": 0.8,
        "width": 0.8,
        "x": 0.1,
        "y": 0.1
       },
       "content": {
        "cell": "852d31b9-64ee-4906-8865-dc217141338a",
        "part": "whole"
       },
       "id": "44f843a2-f9a7-4c01-be36-f2b39de5a725"
      }
     }
    },
    "bff971e4-b2b6-497d-8f6b-6401514ee2ca": {
     "id": "bff971e4-b2b6-497d-8f6b-6401514ee2ca",
     "prev": "7a3d7039-5de1-4759-9129-49437077ec67",
     "regions": {
      "07dd02d3-5ac3-4d96-9291-c3870d15f11e": {
       "attrs": {
        "height": 0.8,
        "width": 0.8,
        "x": 0.1,
        "y": 0.1
       },
       "content": {
        "cell": "31a44e48-3de3-4fa2-9c03-2063209cce11",
        "part": "whole"
       },
       "id": "07dd02d3-5ac3-4d96-9291-c3870d15f11e"
      }
     }
    },
    "c17f7347-3cbe-420c-a499-3131e4eaac59": {
     "id": "c17f7347-3cbe-420c-a499-3131e4eaac59",
     "prev": "57d8f821-fdaf-412d-bc5c-fbaf939e7850",
     "regions": {
      "7d4b25fd-aa9a-4d62-8181-05324639ff0d": {
       "attrs": {
        "height": 0.8,
        "width": 0.8,
        "x": 0.1,
        "y": 0.1
       },
       "content": {
        "cell": "35043c9c-279e-47cd-b82f-9dae8c5f9fec",
        "part": "whole"
       },
       "id": "7d4b25fd-aa9a-4d62-8181-05324639ff0d"
      }
     }
    },
    "c372f9ff-ce00-4768-8a0a-cb894e0fa65d": {
     "id": "c372f9ff-ce00-4768-8a0a-cb894e0fa65d",
     "prev": "35c31f44-06e2-4d75-a9b7-0c168d125d04",
     "regions": {
      "c3931b7b-0a33-46e0-a5b6-6b33b0075fd5": {
       "attrs": {
        "height": 0.8,
        "width": 0.8,
        "x": 0.1,
        "y": 0.1
       },
       "content": {
        "cell": "6dccff7c-9bb1-447a-9692-656ca1687626",
        "part": "whole"
       },
       "id": "c3931b7b-0a33-46e0-a5b6-6b33b0075fd5"
      }
     }
    },
    "d806c3fb-ea3d-4b90-be5b-e78113b3e887": {
     "id": "d806c3fb-ea3d-4b90-be5b-e78113b3e887",
     "prev": "094d2d0d-c7e5-40bc-bed7-bd80198e8e18",
     "regions": {
      "8ec4249f-2827-4eb0-bb27-152d4dea703f": {
       "attrs": {
        "height": 0.8,
        "width": 0.8,
        "x": 0.1,
        "y": 0.1
       },
       "content": {
        "cell": "25b7da30-19eb-4326-ba15-d969f9c1ad12",
        "part": "whole"
       },
       "id": "8ec4249f-2827-4eb0-bb27-152d4dea703f"
      }
     }
    },
    "db6c2c84-14f3-4a3f-972c-ea1e9b45b091": {
     "id": "db6c2c84-14f3-4a3f-972c-ea1e9b45b091",
     "prev": "ff25a0ae-0958-4983-b72b-6d655554983e",
     "regions": {
      "33e20b90-5ef8-482a-af30-6ebe50fa5247": {
       "attrs": {
        "height": 0.8,
        "width": 0.8,
        "x": 0.1,
        "y": 0.1
       },
       "content": {
        "cell": "b2282939-76b5-4358-8caf-bda59cd4dfc8",
        "part": "whole"
       },
       "id": "33e20b90-5ef8-482a-af30-6ebe50fa5247"
      }
     }
    },
    "de950ae7-a7c1-424c-afe2-42f481db181e": {
     "id": "de950ae7-a7c1-424c-afe2-42f481db181e",
     "prev": "58fe1e15-bd81-4c14-8c10-08606b7f56ae",
     "regions": {
      "157e2366-91bc-4374-b005-296b72401f19": {
       "attrs": {
        "height": 0.8,
        "width": 0.8,
        "x": 0.1,
        "y": 0.1
       },
       "content": {
        "cell": "6eff5466-e51a-40e9-b5d6-0e511d329721",
        "part": "whole"
       },
       "id": "157e2366-91bc-4374-b005-296b72401f19"
      }
     }
    },
    "dfaeb098-c3a9-4980-ae35-70f9b6296a7d": {
     "id": "dfaeb098-c3a9-4980-ae35-70f9b6296a7d",
     "prev": "a40bc8a7-660a-4478-8071-b97c5127c4b5",
     "regions": {
      "ff8a9509-83fc-43b8-b85d-05642f796426": {
       "attrs": {
        "height": 0.8,
        "width": 0.8,
        "x": 0.1,
        "y": 0.1
       },
       "content": {
        "cell": "139cbba6-15fb-4eb9-b2d8-a25bdbf3a874",
        "part": "whole"
       },
       "id": "ff8a9509-83fc-43b8-b85d-05642f796426"
      }
     }
    },
    "ee0491f8-b146-4b0e-99d3-ceb5eb2f3a1d": {
     "id": "ee0491f8-b146-4b0e-99d3-ceb5eb2f3a1d",
     "prev": "0c50d9ca-fef0-4e5c-8a4e-f18d1c2dbb9e",
     "regions": {
      "7e1317fc-37fb-47f2-9822-1b464ab3a0f1": {
       "attrs": {
        "height": 0.8,
        "width": 0.8,
        "x": 0.1,
        "y": 0.1
       },
       "content": {
        "cell": "93b648ee-643e-46b2-a289-f6b562875bc4",
        "part": "whole"
       },
       "id": "7e1317fc-37fb-47f2-9822-1b464ab3a0f1"
      }
     }
    },
    "fa1e9266-57b6-41c8-9ad2-05119a8154fa": {
     "id": "fa1e9266-57b6-41c8-9ad2-05119a8154fa",
     "prev": "1d02d174-1ae1-4900-bb8e-92083b3f723b",
     "regions": {
      "642cb521-a4bf-4bdf-94e4-c4e1db951bed": {
       "attrs": {
        "height": 0.8,
        "width": 0.8,
        "x": 0.1,
        "y": 0.1
       },
       "content": {
        "cell": "7bcdf43b-5617-4e59-b3d7-0c3706c527f1",
        "part": "whole"
       },
       "id": "642cb521-a4bf-4bdf-94e4-c4e1db951bed"
      }
     }
    },
    "fd5b9f11-7cb4-4280-8955-7da1f2a0eafd": {
     "id": "fd5b9f11-7cb4-4280-8955-7da1f2a0eafd",
     "prev": "8a00b47c-c1da-479f-b5e8-16224b1bc1ad",
     "regions": {
      "bafa4b52-8d5e-4af8-9b56-5cfb28caec46": {
       "attrs": {
        "height": 0.8,
        "width": 0.8,
        "x": 0.1,
        "y": 0.1
       },
       "content": {
        "cell": "d110e3f4-e865-4198-8668-17bd4f1e9540",
        "part": "whole"
       },
       "id": "bafa4b52-8d5e-4af8-9b56-5cfb28caec46"
      }
     }
    },
    "ff25a0ae-0958-4983-b72b-6d655554983e": {
     "id": "ff25a0ae-0958-4983-b72b-6d655554983e",
     "prev": "6156681f-3fe2-4d80-aab1-f7c28e200404",
     "regions": {
      "4536da0e-7194-48f1-a4eb-13fb6d74ecf5": {
       "attrs": {
        "height": 0.8,
        "width": 0.8,
        "x": 0.1,
        "y": 0.1
       },
       "content": {
        "cell": "72beaf23-bcc8-4311-b327-b67a3b07436a",
        "part": "whole"
       },
       "id": "4536da0e-7194-48f1-a4eb-13fb6d74ecf5"
      }
     }
    }
   },
   "themes": {}
  }
 },
 "nbformat": 4,
 "nbformat_minor": 4
}
